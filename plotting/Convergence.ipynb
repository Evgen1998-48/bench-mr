{
 "cells": [
  {
   "cell_type": "code",
   "execution_count": 1,
   "metadata": {},
   "outputs": [],
   "source": [
    "import matplotlib as mpl\n",
    "mpl.rcParams['mathtext.fontset'] = 'cm'\n",
    "# make sure to not use Level-3 fonts\n",
    "mpl.rcParams['pdf.fonttype'] = 42\n",
    "\n",
    "import json\n",
    "from color import get_color, get_colors\n",
    "import matplotlib.pyplot as plt"
   ]
  },
  {
   "cell_type": "code",
   "execution_count": 11,
   "metadata": {},
   "outputs": [
    {
     "name": "stdout",
     "output_type": "stream",
     "text": [
      "The autoreload extension is already loaded. To reload it, use:\n",
      "  %reload_ext autoreload\n"
     ]
    }
   ],
   "source": [
    "%load_ext autoreload\n",
    "%autoreload 2\n",
    "from retrieve import retrieve_planner_stats_by_run, retrieve_planner_stats_by_steering"
   ]
  },
  {
   "cell_type": "code",
   "execution_count": 9,
   "metadata": {},
   "outputs": [
    {
     "data": {
      "text/plain": [
       "{0: {'CForest': {'curvature': 6.402874261549834,\n",
       "   'exact_goal_path': True,\n",
       "   'max_clearing_distance': None,\n",
       "   'mean_clearing_distance': None,\n",
       "   'median_clearing_distance': None,\n",
       "   'min_clearing_distance': None,\n",
       "   'path_collides': False,\n",
       "   'path_found': True,\n",
       "   'path_length': 12.5346793099612,\n",
       "   'planner': 'CForest',\n",
       "   'planning_time': 0.003867651,\n",
       "   'smoothness': 31911.008237369693,\n",
       "   'steer_function': 0,\n",
       "   'run_id': 0,\n",
       "   'intermediary': []}}}"
      ]
     },
     "execution_count": 9,
     "metadata": {},
     "output_type": "execute_result"
    }
   ],
   "source": [
    "retrieve_planner_stats_by_run('../results/parking1.json', planners='CForest', run_id='0')"
   ]
  },
  {
   "cell_type": "code",
   "execution_count": 16,
   "metadata": {},
   "outputs": [
    {
     "data": {
      "text/plain": [
       "{0: {'curvature': 0.250000002676369,\n",
       "  'exact_goal_path': True,\n",
       "  'max_clearing_distance': 43.0116263352131,\n",
       "  'mean_clearing_distance': 9.91721393131286,\n",
       "  'median_clearing_distance': 6.88982592727115,\n",
       "  'min_clearing_distance': 0.48863435464615,\n",
       "  'path_collides': False,\n",
       "  'path_found': True,\n",
       "  'path_length': 372.268157751041,\n",
       "  'planner': 'BFMT',\n",
       "  'planning_time': 0.835211591,\n",
       "  'smoothness': 12.8042467681466,\n",
       "  'steer_function': 0,\n",
       "  'run_id': 0,\n",
       "  'intermediary': []},\n",
       " 3: {'curvature': 0.250000003858111,\n",
       "  'exact_goal_path': True,\n",
       "  'max_clearing_distance': 30.8593082081691,\n",
       "  'mean_clearing_distance': 11.4830277546061,\n",
       "  'median_clearing_distance': 8.58130708779535,\n",
       "  'min_clearing_distance': 2.43680269698693,\n",
       "  'path_collides': False,\n",
       "  'path_found': True,\n",
       "  'path_length': 373.141648746972,\n",
       "  'planner': 'BFMT',\n",
       "  'planning_time': 0.996339911,\n",
       "  'smoothness': 0.00855574861580931,\n",
       "  'steer_function': 0,\n",
       "  'run_id': 3,\n",
       "  'intermediary': []},\n",
       " 6: {'curvature': 2.84255081909036,\n",
       "  'exact_goal_path': True,\n",
       "  'max_clearing_distance': 16.9782163123785,\n",
       "  'mean_clearing_distance': 4.241186704787,\n",
       "  'median_clearing_distance': 3.18957013385348,\n",
       "  'min_clearing_distance': 0.136807307240105,\n",
       "  'path_collides': True,\n",
       "  'path_found': True,\n",
       "  'path_length': 420.860793557121,\n",
       "  'planner': 'BFMT',\n",
       "  'planning_time': 0.775845547,\n",
       "  'smoothness': 69.3394719751645,\n",
       "  'steer_function': 0,\n",
       "  'run_id': 6,\n",
       "  'intermediary': []},\n",
       " 9: {'curvature': 0.250000002959309,\n",
       "  'exact_goal_path': True,\n",
       "  'max_clearing_distance': 49.0407993409569,\n",
       "  'mean_clearing_distance': 11.6370437954376,\n",
       "  'median_clearing_distance': 8.04786403647274,\n",
       "  'min_clearing_distance': 0.186208724572765,\n",
       "  'path_collides': False,\n",
       "  'path_found': True,\n",
       "  'path_length': 369.90133568898,\n",
       "  'planner': 'BFMT',\n",
       "  'planning_time': 0.723255129,\n",
       "  'smoothness': 0.0166263922106195,\n",
       "  'steer_function': 0,\n",
       "  'run_id': 9,\n",
       "  'intermediary': []},\n",
       " 12: {'curvature': 1.68197305846162,\n",
       "  'exact_goal_path': True,\n",
       "  'max_clearing_distance': 29.4556385907811,\n",
       "  'mean_clearing_distance': 9.67672590508915,\n",
       "  'median_clearing_distance': 7.94257562363306,\n",
       "  'min_clearing_distance': 0.331972975932038,\n",
       "  'path_collides': False,\n",
       "  'path_found': True,\n",
       "  'path_length': 374.719408702551,\n",
       "  'planner': 'BFMT',\n",
       "  'planning_time': 0.997926086,\n",
       "  'smoothness': 0.00752377992087429,\n",
       "  'steer_function': 0,\n",
       "  'run_id': 12,\n",
       "  'intermediary': []}}"
      ]
     },
     "execution_count": 16,
     "metadata": {},
     "output_type": "execute_result"
    }
   ],
   "source": [
    "retrieve_planner_stats_by_steering('../results/movingai_berlin_256.json', steer_funcs='reeds_shepp')[0]['BFMT']"
   ]
  },
  {
   "cell_type": "code",
   "execution_count": null,
   "metadata": {},
   "outputs": [],
   "source": [
    "\n",
    "\n",
    "plt.scatter()"
   ]
  }
 ],
 "metadata": {
  "kernelspec": {
   "display_name": "Python 3",
   "language": "python",
   "name": "python3"
  },
  "language_info": {
   "codemirror_mode": {
    "name": "ipython",
    "version": 3
   },
   "file_extension": ".py",
   "mimetype": "text/x-python",
   "name": "python",
   "nbconvert_exporter": "python",
   "pygments_lexer": "ipython3",
   "version": "3.6.5"
  }
 },
 "nbformat": 4,
 "nbformat_minor": 2
}
