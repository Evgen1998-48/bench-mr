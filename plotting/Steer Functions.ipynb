{
 "cells": [
  {
   "cell_type": "markdown",
   "metadata": {},
   "source": [
    "## Steer Function Comparison\n",
    "In this notebook, we examine the planners using different steer functions."
   ]
  },
  {
   "cell_type": "code",
   "execution_count": 8,
   "metadata": {},
   "outputs": [
    {
     "name": "stdout",
     "output_type": "stream",
     "text": [
      "The autoreload extension is already loaded. To reload it, use:\n",
      "  %reload_ext autoreload\n"
     ]
    }
   ],
   "source": [
    "%load_ext autoreload\n",
    "%autoreload 2\n",
    "from mpb import MPB, MultipleMPB\n",
    "import matplotlib as mpl\n",
    "mpl.rcParams['mathtext.fontset'] = 'cm'\n",
    "# make sure to not use Level-3 fonts\n",
    "mpl.rcParams['pdf.fonttype'] = 42\n",
    "import matplotlib.pyplot as plt\n",
    "from copy import deepcopy"
   ]
  },
  {
   "cell_type": "code",
   "execution_count": 7,
   "metadata": {},
   "outputs": [],
   "source": [
    "def benchmark(steer_function: str, settings: [dict]):\n",
    "    pool = MultipleMPB()\n",
    "    for setting in settings:\n",
    "        m = MPB()\n",
    "        m.update(setting)\n",
    "        m.set_steer_functions([steer_function])\n",
    "        m.set_smoothers(['grips', 'ompl_bspline', 'ompl_shortcut', 'ompl_simplify_max'])\n",
    "        pool.benchmarks.append(m)"
   ]
  },
  {
   "cell_type": "markdown",
   "metadata": {},
   "source": [
    "### Moving AI Scenarios"
   ]
  },
  {
   "cell_type": "code",
   "execution_count": 12,
   "metadata": {},
   "outputs": [
    {
     "name": "stdout",
     "output_type": "stream",
     "text": [
      "Selected steer functions: ['reeds_shepp']\n",
      "Selected smoothers: ['grips', 'ompl_bspline', 'ompl_shortcut', 'ompl_simplify_max']\n",
      "Selected steer functions: ['reeds_shepp']\n",
      "Selected smoothers: ['grips', 'ompl_bspline', 'ompl_shortcut', 'ompl_simplify_max']\n",
      "Selected steer functions: ['reeds_shepp']\n",
      "Selected smoothers: ['grips', 'ompl_bspline', 'ompl_shortcut', 'ompl_simplify_max']\n",
      "Selected steer functions: ['reeds_shepp']\n",
      "Selected smoothers: ['grips', 'ompl_bspline', 'ompl_shortcut', 'ompl_simplify_max']\n",
      "Selected steer functions: ['reeds_shepp']\n",
      "Selected smoothers: ['grips', 'ompl_bspline', 'ompl_shortcut', 'ompl_simplify_max']\n",
      "Selected steer functions: ['reeds_shepp']\n",
      "Selected smoothers: ['grips', 'ompl_bspline', 'ompl_shortcut', 'ompl_simplify_max']\n",
      "Selected steer functions: ['reeds_shepp']\n",
      "Selected smoothers: ['grips', 'ompl_bspline', 'ompl_shortcut', 'ompl_simplify_max']\n",
      "Selected steer functions: ['reeds_shepp']\n",
      "Selected smoothers: ['grips', 'ompl_bspline', 'ompl_shortcut', 'ompl_simplify_max']\n",
      "Selected steer functions: ['reeds_shepp']\n",
      "Selected smoothers: ['grips', 'ompl_bspline', 'ompl_shortcut', 'ompl_simplify_max']\n",
      "Selected steer functions: ['reeds_shepp']\n",
      "Selected smoothers: ['grips', 'ompl_bspline', 'ompl_shortcut', 'ompl_simplify_max']\n",
      "Selected steer functions: ['reeds_shepp']\n",
      "Selected smoothers: ['grips', 'ompl_bspline', 'ompl_shortcut', 'ompl_simplify_max']\n",
      "Selected steer functions: ['reeds_shepp']\n",
      "Selected smoothers: ['grips', 'ompl_bspline', 'ompl_shortcut', 'ompl_simplify_max']\n",
      "Selected steer functions: ['reeds_shepp']\n",
      "Selected smoothers: ['grips', 'ompl_bspline', 'ompl_shortcut', 'ompl_simplify_max']\n",
      "Selected steer functions: ['reeds_shepp']\n",
      "Selected smoothers: ['grips', 'ompl_bspline', 'ompl_shortcut', 'ompl_simplify_max']\n",
      "Selected steer functions: ['reeds_shepp']\n",
      "Selected smoothers: ['grips', 'ompl_bspline', 'ompl_shortcut', 'ompl_simplify_max']\n",
      "Selected steer functions: ['reeds_shepp']\n",
      "Selected smoothers: ['grips', 'ompl_bspline', 'ompl_shortcut', 'ompl_simplify_max']\n",
      "Selected steer functions: ['reeds_shepp']\n",
      "Selected smoothers: ['grips', 'ompl_bspline', 'ompl_shortcut', 'ompl_simplify_max']\n",
      "Selected steer functions: ['reeds_shepp']\n",
      "Selected smoothers: ['grips', 'ompl_bspline', 'ompl_shortcut', 'ompl_simplify_max']\n",
      "Selected steer functions: ['reeds_shepp']\n",
      "Selected smoothers: ['grips', 'ompl_bspline', 'ompl_shortcut', 'ompl_simplify_max']\n",
      "Selected steer functions: ['reeds_shepp']\n",
      "Selected smoothers: ['grips', 'ompl_bspline', 'ompl_shortcut', 'ompl_simplify_max']\n",
      "Creating pool of 12 processes.\n",
      "Running MPB with ID moving_ai_reeds_shepp_0 (log file at moving_ai_reeds_shepp/moving_ai_reeds_shepp_0.log)...\n",
      "Running MPB with ID moving_ai_reeds_shepp_5 (log file at moving_ai_reeds_shepp/moving_ai_reeds_shepp_5.log)...\n",
      "Running MPB with ID moving_ai_reeds_shepp_1 (log file at moving_ai_reeds_shepp/moving_ai_reeds_shepp_1.log)...\n",
      "Running MPB with ID moving_ai_reeds_shepp_4 (log file at moving_ai_reeds_shepp/moving_ai_reeds_shepp_4.log)...\n",
      "Running MPB with ID moving_ai_reeds_shepp_7 (log file at moving_ai_reeds_shepp/moving_ai_reeds_shepp_7.log)...\n",
      "Running MPB with ID moving_ai_reeds_shepp_2 (log file at moving_ai_reeds_shepp/moving_ai_reeds_shepp_2.log)...\n",
      "Running MPB with ID moving_ai_reeds_shepp_3 (log file at moving_ai_reeds_shepp/moving_ai_reeds_shepp_3.log)...\n",
      "Running MPB with ID moving_ai_reeds_shepp_6 (log file at moving_ai_reeds_shepp/moving_ai_reeds_shepp_6.log)...\n",
      "Running MPB with ID moving_ai_reeds_shepp_8 (log file at moving_ai_reeds_shepp/moving_ai_reeds_shepp_8.log)...\n",
      "Running MPB with ID moving_ai_reeds_shepp_11 (log file at moving_ai_reeds_shepp/moving_ai_reeds_shepp_11.log)...\n",
      "Running MPB with ID moving_ai_reeds_shepp_9 (log file at moving_ai_reeds_shepp/moving_ai_reeds_shepp_9.log)...\n",
      "Running MPB with ID moving_ai_reeds_shepp_10 (log file at moving_ai_reeds_shepp/moving_ai_reeds_shepp_10.log)...\n"
     ]
    },
    {
     "data": {
      "application/vnd.jupyter.widget-view+json": {
       "model_id": "5a606f0f242f4b14b7d86d0638c603ae",
       "version_major": 2,
       "version_minor": 0
      },
      "text/plain": [
       "HBox(children=(IntProgress(value=0, description='moving_ai_reeds_shepp_0', max=9, style=ProgressStyle(descript…"
      ]
     },
     "metadata": {},
     "output_type": "display_data"
    },
    {
     "data": {
      "application/vnd.jupyter.widget-view+json": {
       "model_id": "ee72b1a6be774b829022219f269cb5d7",
       "version_major": 2,
       "version_minor": 0
      },
      "text/plain": [
       "HBox(children=(IntProgress(value=0, description='moving_ai_reeds_shepp_8', max=9, style=ProgressStyle(descript…"
      ]
     },
     "metadata": {},
     "output_type": "display_data"
    },
    {
     "data": {
      "application/vnd.jupyter.widget-view+json": {
       "model_id": "fd635e14eb984b508f42f4c1a015000a",
       "version_major": 2,
       "version_minor": 0
      },
      "text/plain": [
       "HBox(children=(IntProgress(value=0, description='moving_ai_reeds_shepp_2', max=9, style=ProgressStyle(descript…"
      ]
     },
     "metadata": {},
     "output_type": "display_data"
    },
    {
     "data": {
      "application/vnd.jupyter.widget-view+json": {
       "model_id": "4bf1aa3be9da4f5f8c2c824d4eaa53c0",
       "version_major": 2,
       "version_minor": 0
      },
      "text/plain": [
       "HBox(children=(IntProgress(value=0, description='moving_ai_reeds_shepp_5', max=9, style=ProgressStyle(descript…"
      ]
     },
     "metadata": {},
     "output_type": "display_data"
    },
    {
     "data": {
      "application/vnd.jupyter.widget-view+json": {
       "model_id": "3d558084b99e43f89646d119dd4d0b82",
       "version_major": 2,
       "version_minor": 0
      },
      "text/plain": [
       "HBox(children=(IntProgress(value=0, description='moving_ai_reeds_shepp_10', max=9, style=ProgressStyle(descrip…"
      ]
     },
     "metadata": {},
     "output_type": "display_data"
    },
    {
     "data": {
      "application/vnd.jupyter.widget-view+json": {
       "model_id": "7274d85104594b0f8c4f61191e59f123",
       "version_major": 2,
       "version_minor": 0
      },
      "text/plain": [
       "HBox(children=(IntProgress(value=0, description='moving_ai_reeds_shepp_1', max=9, style=ProgressStyle(descript…"
      ]
     },
     "metadata": {},
     "output_type": "display_data"
    },
    {
     "data": {
      "application/vnd.jupyter.widget-view+json": {
       "model_id": "a5cc1f20ff144b419c0ead355e2c9188",
       "version_major": 2,
       "version_minor": 0
      },
      "text/plain": [
       "HBox(children=(IntProgress(value=0, description='moving_ai_reeds_shepp_4', max=9, style=ProgressStyle(descript…"
      ]
     },
     "metadata": {},
     "output_type": "display_data"
    },
    {
     "data": {
      "application/vnd.jupyter.widget-view+json": {
       "model_id": "4f8b322f01b445aa8c2a700bf1ce1b8e",
       "version_major": 2,
       "version_minor": 0
      },
      "text/plain": [
       "HBox(children=(IntProgress(value=0, description='moving_ai_reeds_shepp_9', max=9, style=ProgressStyle(descript…"
      ]
     },
     "metadata": {},
     "output_type": "display_data"
    },
    {
     "data": {
      "application/vnd.jupyter.widget-view+json": {
       "model_id": "fc8f4ea5ce99486f9e73fef667f8adad",
       "version_major": 2,
       "version_minor": 0
      },
      "text/plain": [
       "HBox(children=(IntProgress(value=0, description='moving_ai_reeds_shepp_3', max=9, style=ProgressStyle(descript…"
      ]
     },
     "metadata": {},
     "output_type": "display_data"
    },
    {
     "data": {
      "application/vnd.jupyter.widget-view+json": {
       "model_id": "715f3adc2f3f4670bc7cd8c54d782fde",
       "version_major": 2,
       "version_minor": 0
      },
      "text/plain": [
       "HBox(children=(IntProgress(value=0, description='moving_ai_reeds_shepp_7', max=9, style=ProgressStyle(descript…"
      ]
     },
     "metadata": {},
     "output_type": "display_data"
    },
    {
     "data": {
      "application/vnd.jupyter.widget-view+json": {
       "model_id": "e688a1d3894a4969b9e4a764b2ba9fed",
       "version_major": 2,
       "version_minor": 0
      },
      "text/plain": [
       "HBox(children=(IntProgress(value=0, description='moving_ai_reeds_shepp_6', max=9, style=ProgressStyle(descript…"
      ]
     },
     "metadata": {},
     "output_type": "display_data"
    },
    {
     "data": {
      "application/vnd.jupyter.widget-view+json": {
       "model_id": "b0aa8fb29c9741e59bff645d739fd7d8",
       "version_major": 2,
       "version_minor": 0
      },
      "text/plain": [
       "HBox(children=(IntProgress(value=0, description='moving_ai_reeds_shepp_11', max=9, style=ProgressStyle(descrip…"
      ]
     },
     "metadata": {},
     "output_type": "display_data"
    },
    {
     "name": "stdout",
     "output_type": "stream",
     "text": [
      "\n",
      "Benchmark 2 (moving_ai_reeds_shepp_2) finished successfully.\n",
      "Running MPB with ID moving_ai_reeds_shepp_12 (log file at moving_ai_reeds_shepp/moving_ai_reeds_shepp_12.log)...\n"
     ]
    },
    {
     "data": {
      "application/vnd.jupyter.widget-view+json": {
       "model_id": "79691b3a5e5e4c839a687d3b499365dd",
       "version_major": 2,
       "version_minor": 0
      },
      "text/plain": [
       "HBox(children=(IntProgress(value=0, description='moving_ai_reeds_shepp_12', max=9, style=ProgressStyle(descrip…"
      ]
     },
     "metadata": {},
     "output_type": "display_data"
    },
    {
     "name": "stdout",
     "output_type": "stream",
     "text": [
      "\n",
      "\n",
      "\n",
      "Benchmark 5 (moving_ai_reeds_shepp_5) finished successfully.\n",
      "Benchmark 8 (moving_ai_reeds_shepp_8) finished successfully.\n",
      "Benchmark 0 (moving_ai_reeds_shepp_0) finished successfully.\n",
      "Running MPB with ID moving_ai_reeds_shepp_14 (log file at moving_ai_reeds_shepp/moving_ai_reeds_shepp_14.log)...\n",
      "\n",
      "\n",
      "\n",
      "\n",
      "\n",
      "\n",
      "Benchmark 1 (moving_ai_reeds_shepp_1) finished successfully.\n",
      "Benchmark 4 (moving_ai_reeds_shepp_4) finished successfully.\n"
     ]
    },
    {
     "data": {
      "application/vnd.jupyter.widget-view+json": {
       "model_id": "b7af268f3482406ea2f584cfb9e7620e",
       "version_major": 2,
       "version_minor": 0
      },
      "text/plain": [
       "HBox(children=(IntProgress(value=0, description='moving_ai_reeds_shepp_14', max=9, style=ProgressStyle(descrip…"
      ]
     },
     "metadata": {},
     "output_type": "display_data"
    },
    {
     "name": "stdout",
     "output_type": "stream",
     "text": [
      "Benchmark 6 (moving_ai_reeds_shepp_6) finished successfully.\n",
      "Running MPB with ID moving_ai_reeds_shepp_16 (log file at moving_ai_reeds_shepp/moving_ai_reeds_shepp_16.log)...\n"
     ]
    },
    {
     "data": {
      "application/vnd.jupyter.widget-view+json": {
       "model_id": "e92b42b9bfa841c3830b9df13175f06d",
       "version_major": 2,
       "version_minor": 0
      },
      "text/plain": [
       "HBox(children=(IntProgress(value=0, description='moving_ai_reeds_shepp_16', max=9, style=ProgressStyle(descrip…"
      ]
     },
     "metadata": {},
     "output_type": "display_data"
    },
    {
     "name": "stdout",
     "output_type": "stream",
     "text": [
      "Benchmark 7 (moving_ai_reeds_shepp_7) finished successfully.\n",
      "Running MPB with ID moving_ai_reeds_shepp_15 (log file at moving_ai_reeds_shepp/moving_ai_reeds_shepp_15.log)...\n",
      "Benchmark 11 (moving_ai_reeds_shepp_11) finished successfully.\n",
      "Running MPB with ID moving_ai_reeds_shepp_13 (log file at moving_ai_reeds_shepp/moving_ai_reeds_shepp_13.log)...\n",
      "Running MPB with ID moving_ai_reeds_shepp_17 (log file at moving_ai_reeds_shepp/moving_ai_reeds_shepp_17.log)...\n",
      "Running MPB with ID moving_ai_reeds_shepp_18 (log file at moving_ai_reeds_shepp/moving_ai_reeds_shepp_18.log)...\n",
      "Benchmark 10 (moving_ai_reeds_shepp_10) finished successfully.\n",
      "Running MPB with ID moving_ai_reeds_shepp_19 (log file at moving_ai_reeds_shepp/moving_ai_reeds_shepp_19.log)...\n"
     ]
    },
    {
     "data": {
      "application/vnd.jupyter.widget-view+json": {
       "model_id": "f890f39cea0b4b48a852523275483620",
       "version_major": 2,
       "version_minor": 0
      },
      "text/plain": [
       "HBox(children=(IntProgress(value=0, description='moving_ai_reeds_shepp_18', max=9, style=ProgressStyle(descrip…"
      ]
     },
     "metadata": {},
     "output_type": "display_data"
    },
    {
     "data": {
      "application/vnd.jupyter.widget-view+json": {
       "model_id": "d1fa40eeb4954cb9a78c706680e922ec",
       "version_major": 2,
       "version_minor": 0
      },
      "text/plain": [
       "HBox(children=(IntProgress(value=0, description='moving_ai_reeds_shepp_13', max=9, style=ProgressStyle(descrip…"
      ]
     },
     "metadata": {},
     "output_type": "display_data"
    },
    {
     "data": {
      "application/vnd.jupyter.widget-view+json": {
       "model_id": "ee900e09b1304a6c8eb3813cc9d352a9",
       "version_major": 2,
       "version_minor": 0
      },
      "text/plain": [
       "HBox(children=(IntProgress(value=0, description='moving_ai_reeds_shepp_17', max=9, style=ProgressStyle(descrip…"
      ]
     },
     "metadata": {},
     "output_type": "display_data"
    },
    {
     "data": {
      "application/vnd.jupyter.widget-view+json": {
       "model_id": "5e09d87c7257441bb343608f6606d749",
       "version_major": 2,
       "version_minor": 0
      },
      "text/plain": [
       "HBox(children=(IntProgress(value=0, description='moving_ai_reeds_shepp_15', max=9, style=ProgressStyle(descrip…"
      ]
     },
     "metadata": {},
     "output_type": "display_data"
    },
    {
     "data": {
      "application/vnd.jupyter.widget-view+json": {
       "model_id": "f176759e36464debbd2c09871f324eaa",
       "version_major": 2,
       "version_minor": 0
      },
      "text/plain": [
       "HBox(children=(IntProgress(value=0, description='moving_ai_reeds_shepp_19', max=9, style=ProgressStyle(descrip…"
      ]
     },
     "metadata": {},
     "output_type": "display_data"
    },
    {
     "name": "stderr",
     "output_type": "stream",
     "text": [
      "Process ForkPoolWorker-42:\n",
      "Process ForkPoolWorker-45:\n",
      "Process ForkPoolWorker-43:\n",
      "Process ForkPoolWorker-44:\n",
      "Process ForkPoolWorker-41:\n",
      "Process ForkPoolWorker-40:\n",
      "Process ForkPoolWorker-39:\n",
      "Process ForkPoolWorker-46:\n",
      "Process ForkPoolWorker-37:\n",
      "Process ForkPoolWorker-48:\n",
      "Process ForkPoolWorker-38:\n",
      "Traceback (most recent call last):\n",
      "Traceback (most recent call last):\n",
      "Traceback (most recent call last):\n",
      "Traceback (most recent call last):\n",
      "Traceback (most recent call last):\n",
      "Traceback (most recent call last):\n",
      "Traceback (most recent call last):\n",
      "  File \"/usr/lib/python3.6/multiprocessing/process.py\", line 258, in _bootstrap\n",
      "    self.run()\n",
      "  File \"/usr/lib/python3.6/multiprocessing/process.py\", line 258, in _bootstrap\n",
      "    self.run()\n",
      "Traceback (most recent call last):\n",
      "Traceback (most recent call last):\n",
      "  File \"/usr/lib/python3.6/multiprocessing/process.py\", line 258, in _bootstrap\n",
      "    self.run()\n",
      "  File \"/usr/lib/python3.6/multiprocessing/process.py\", line 258, in _bootstrap\n",
      "    self.run()\n",
      "Traceback (most recent call last):\n",
      "  File \"/usr/lib/python3.6/multiprocessing/process.py\", line 258, in _bootstrap\n",
      "    self.run()\n",
      "  File \"/usr/lib/python3.6/multiprocessing/process.py\", line 258, in _bootstrap\n",
      "    self.run()\n",
      "Traceback (most recent call last):\n",
      "  File \"/usr/lib/python3.6/multiprocessing/process.py\", line 93, in run\n",
      "    self._target(*self._args, **self._kwargs)\n",
      "  File \"/usr/lib/python3.6/multiprocessing/process.py\", line 258, in _bootstrap\n",
      "    self.run()\n",
      "  File \"/usr/lib/python3.6/multiprocessing/process.py\", line 93, in run\n",
      "    self._target(*self._args, **self._kwargs)\n",
      "  File \"/usr/lib/python3.6/multiprocessing/process.py\", line 93, in run\n",
      "    self._target(*self._args, **self._kwargs)\n",
      "  File \"/usr/lib/python3.6/multiprocessing/pool.py\", line 119, in worker\n",
      "    result = (True, func(*args, **kwds))\n",
      "  File \"/usr/lib/python3.6/multiprocessing/pool.py\", line 119, in worker\n",
      "    result = (True, func(*args, **kwds))\n",
      "  File \"/usr/lib/python3.6/multiprocessing/pool.py\", line 44, in mapstar\n",
      "    return list(map(*args))\n",
      "  File \"/usr/lib/python3.6/multiprocessing/process.py\", line 93, in run\n",
      "    self._target(*self._args, **self._kwargs)\n",
      "  File \"/usr/lib/python3.6/multiprocessing/process.py\", line 258, in _bootstrap\n",
      "    self.run()\n",
      "  File \"/usr/lib/python3.6/multiprocessing/process.py\", line 93, in run\n",
      "    self._target(*self._args, **self._kwargs)\n",
      "  File \"/usr/lib/python3.6/multiprocessing/pool.py\", line 44, in mapstar\n",
      "    return list(map(*args))\n",
      "  File \"/usr/lib/python3.6/multiprocessing/process.py\", line 93, in run\n",
      "    self._target(*self._args, **self._kwargs)\n",
      "  File \"/usr/lib/python3.6/multiprocessing/pool.py\", line 119, in worker\n",
      "    result = (True, func(*args, **kwds))\n",
      "  File \"/usr/lib/python3.6/multiprocessing/pool.py\", line 119, in worker\n",
      "    result = (True, func(*args, **kwds))\n",
      "  File \"/usr/lib/python3.6/multiprocessing/process.py\", line 93, in run\n",
      "    self._target(*self._args, **self._kwargs)\n",
      "  File \"/usr/lib/python3.6/multiprocessing/pool.py\", line 119, in worker\n",
      "    result = (True, func(*args, **kwds))\n",
      "  File \"/usr/lib/python3.6/multiprocessing/process.py\", line 258, in _bootstrap\n",
      "    self.run()\n",
      "  File \"/home/eric/mpb/plotting/mpb.py\", line 253, in run_\n",
      "    show_progress_bar=True)\n",
      "  File \"/usr/lib/python3.6/multiprocessing/process.py\", line 258, in _bootstrap\n",
      "    self.run()\n",
      "  File \"/usr/lib/python3.6/multiprocessing/pool.py\", line 44, in mapstar\n",
      "    return list(map(*args))\n",
      "  File \"/usr/lib/python3.6/multiprocessing/process.py\", line 93, in run\n",
      "    self._target(*self._args, **self._kwargs)\n",
      "  File \"/usr/lib/python3.6/multiprocessing/pool.py\", line 108, in worker\n",
      "    task = get()\n",
      "  File \"/usr/lib/python3.6/multiprocessing/pool.py\", line 119, in worker\n",
      "    result = (True, func(*args, **kwds))\n",
      "  File \"/home/eric/mpb/plotting/mpb.py\", line 160, in run\n",
      "    line = tsk.stdout.readline()\n",
      "  File \"/home/eric/mpb/plotting/mpb.py\", line 253, in run_\n",
      "    show_progress_bar=True)\n",
      "  File \"/usr/lib/python3.6/multiprocessing/queues.py\", line 335, in get\n",
      "    res = self._reader.recv_bytes()\n",
      "  File \"/usr/lib/python3.6/multiprocessing/process.py\", line 93, in run\n",
      "    self._target(*self._args, **self._kwargs)\n",
      "  File \"/usr/lib/python3.6/multiprocessing/pool.py\", line 44, in mapstar\n",
      "    return list(map(*args))\n",
      "  File \"/home/eric/mpb/plotting/mpb.py\", line 253, in run_\n",
      "    show_progress_bar=True)\n",
      "KeyboardInterrupt\n",
      "  File \"/home/eric/mpb/plotting/mpb.py\", line 253, in run_\n",
      "    show_progress_bar=True)\n",
      "  File \"/usr/lib/python3.6/multiprocessing/connection.py\", line 216, in recv_bytes\n",
      "    buf = self._recv_bytes(maxlength)\n",
      "  File \"/usr/lib/python3.6/multiprocessing/pool.py\", line 119, in worker\n",
      "    result = (True, func(*args, **kwds))\n",
      "  File \"/usr/lib/python3.6/multiprocessing/connection.py\", line 407, in _recv_bytes\n",
      "    buf = self._recv(4)\n",
      "  File \"/usr/lib/python3.6/multiprocessing/pool.py\", line 44, in mapstar\n",
      "    return list(map(*args))\n",
      "  File \"/usr/lib/python3.6/multiprocessing/process.py\", line 93, in run\n",
      "    self._target(*self._args, **self._kwargs)\n",
      "  File \"/home/eric/mpb/plotting/mpb.py\", line 160, in run\n",
      "    line = tsk.stdout.readline()\n",
      "  File \"/usr/lib/python3.6/multiprocessing/connection.py\", line 379, in _recv\n",
      "    chunk = read(handle, remaining)\n",
      "  File \"/home/eric/mpb/plotting/mpb.py\", line 253, in run_\n",
      "    show_progress_bar=True)\n",
      "KeyboardInterrupt\n",
      "  File \"/usr/lib/python3.6/multiprocessing/pool.py\", line 119, in worker\n",
      "    result = (True, func(*args, **kwds))\n",
      "  File \"/usr/lib/python3.6/multiprocessing/process.py\", line 258, in _bootstrap\n",
      "    self.run()\n",
      "  File \"/home/eric/mpb/plotting/mpb.py\", line 160, in run\n",
      "    line = tsk.stdout.readline()\n",
      "  File \"/usr/lib/python3.6/multiprocessing/pool.py\", line 44, in mapstar\n",
      "    return list(map(*args))\n",
      "KeyboardInterrupt\n",
      "  File \"/home/eric/mpb/plotting/mpb.py\", line 160, in run\n",
      "    line = tsk.stdout.readline()\n",
      "  File \"/home/eric/mpb/plotting/mpb.py\", line 253, in run_\n",
      "    show_progress_bar=True)\n",
      "  File \"/usr/lib/python3.6/multiprocessing/pool.py\", line 44, in mapstar\n",
      "    return list(map(*args))\n",
      "  File \"/usr/lib/python3.6/multiprocessing/pool.py\", line 44, in mapstar\n",
      "    return list(map(*args))\n",
      "  File \"/home/eric/mpb/plotting/mpb.py\", line 160, in run\n",
      "    line = tsk.stdout.readline()\n",
      "  File \"/home/eric/mpb/plotting/mpb.py\", line 253, in run_\n",
      "    show_progress_bar=True)\n",
      "KeyboardInterrupt\n",
      "KeyboardInterrupt\n",
      "  File \"/home/eric/mpb/plotting/mpb.py\", line 160, in run\n",
      "    line = tsk.stdout.readline()\n",
      "  File \"/home/eric/mpb/plotting/mpb.py\", line 160, in run\n",
      "    line = tsk.stdout.readline()\n",
      "  File \"/home/eric/mpb/plotting/mpb.py\", line 253, in run_\n",
      "    show_progress_bar=True)\n",
      "KeyboardInterrupt\n",
      "  File \"/home/eric/mpb/plotting/mpb.py\", line 160, in run\n",
      "    line = tsk.stdout.readline()\n",
      "KeyboardInterrupt\n",
      "KeyboardInterrupt\n",
      "KeyboardInterrupt\n",
      "  File \"/usr/lib/python3.6/multiprocessing/pool.py\", line 119, in worker\n",
      "    result = (True, func(*args, **kwds))\n",
      "  File \"/usr/lib/python3.6/multiprocessing/process.py\", line 93, in run\n",
      "    self._target(*self._args, **self._kwargs)\n",
      "  File \"/usr/lib/python3.6/multiprocessing/pool.py\", line 119, in worker\n",
      "    result = (True, func(*args, **kwds))\n",
      "  File \"/usr/lib/python3.6/multiprocessing/pool.py\", line 44, in mapstar\n",
      "    return list(map(*args))\n",
      "  File \"/home/eric/mpb/plotting/mpb.py\", line 253, in run_\n",
      "    show_progress_bar=True)\n",
      "  File \"/usr/lib/python3.6/multiprocessing/pool.py\", line 44, in mapstar\n",
      "    return list(map(*args))\n",
      "  File \"/home/eric/mpb/plotting/mpb.py\", line 160, in run\n",
      "    line = tsk.stdout.readline()\n",
      "  File \"/home/eric/mpb/plotting/mpb.py\", line 253, in run_\n",
      "    show_progress_bar=True)\n",
      "KeyboardInterrupt\n",
      "  File \"/home/eric/mpb/plotting/mpb.py\", line 160, in run\n",
      "    line = tsk.stdout.readline()\n",
      "KeyboardInterrupt\n"
     ]
    },
    {
     "ename": "KeyboardInterrupt",
     "evalue": "",
     "output_type": "error",
     "traceback": [
      "\u001b[0;31m---------------------------------------------------------------------------\u001b[0m",
      "\u001b[0;31mKeyboardInterrupt\u001b[0m                         Traceback (most recent call last)",
      "\u001b[0;32m<ipython-input-12-f7d507d5f4e4>\u001b[0m in \u001b[0;36m<module>\u001b[0;34m\u001b[0m\n\u001b[1;32m     15\u001b[0m     \u001b[0mm\u001b[0m\u001b[0;34m.\u001b[0m\u001b[0mset_smoothers\u001b[0m\u001b[0;34m(\u001b[0m\u001b[0;34m[\u001b[0m\u001b[0;34m'grips'\u001b[0m\u001b[0;34m,\u001b[0m \u001b[0;34m'ompl_bspline'\u001b[0m\u001b[0;34m,\u001b[0m \u001b[0;34m'ompl_shortcut'\u001b[0m\u001b[0;34m,\u001b[0m \u001b[0;34m'ompl_simplify_max'\u001b[0m\u001b[0;34m]\u001b[0m\u001b[0;34m)\u001b[0m\u001b[0;34m\u001b[0m\u001b[0m\n\u001b[1;32m     16\u001b[0m     \u001b[0mpool\u001b[0m\u001b[0;34m.\u001b[0m\u001b[0mbenchmarks\u001b[0m\u001b[0;34m.\u001b[0m\u001b[0mappend\u001b[0m\u001b[0;34m(\u001b[0m\u001b[0mm\u001b[0m\u001b[0;34m)\u001b[0m\u001b[0;34m\u001b[0m\u001b[0m\n\u001b[0;32m---> 17\u001b[0;31m \u001b[0mpool\u001b[0m\u001b[0;34m.\u001b[0m\u001b[0mrun_parallel\u001b[0m\u001b[0;34m(\u001b[0m\u001b[0;34m\"moving_ai_%s\"\u001b[0m \u001b[0;34m%\u001b[0m \u001b[0msteer_function\u001b[0m\u001b[0;34m)\u001b[0m\u001b[0;34m\u001b[0m\u001b[0m\n\u001b[0m",
      "\u001b[0;32m~/mpb/plotting/mpb.py\u001b[0m in \u001b[0;36mrun_parallel\u001b[0;34m(self, id, use_subfolder, runs, processes)\u001b[0m\n\u001b[1;32m    297\u001b[0m                                    \u001b[0mrange\u001b[0m\u001b[0;34m(\u001b[0m\u001b[0mlen\u001b[0m\u001b[0;34m(\u001b[0m\u001b[0mself\u001b[0m\u001b[0;34m.\u001b[0m\u001b[0mbenchmarks\u001b[0m\u001b[0;34m)\u001b[0m\u001b[0;34m)\u001b[0m\u001b[0;34m,\u001b[0m\u001b[0;34m\u001b[0m\u001b[0m\n\u001b[1;32m    298\u001b[0m                                    \u001b[0mids\u001b[0m\u001b[0;34m,\u001b[0m\u001b[0;34m\u001b[0m\u001b[0m\n\u001b[0;32m--> 299\u001b[0;31m                                    [self.subfolder] * len(self.benchmarks)))\n\u001b[0m\u001b[1;32m    300\u001b[0m             \u001b[0;32mif\u001b[0m \u001b[0mall\u001b[0m\u001b[0;34m(\u001b[0m\u001b[0;34m[\u001b[0m\u001b[0mr\u001b[0m \u001b[0;34m==\u001b[0m \u001b[0;36m0\u001b[0m \u001b[0;32mfor\u001b[0m \u001b[0mr\u001b[0m \u001b[0;32min\u001b[0m \u001b[0mresults\u001b[0m\u001b[0;34m]\u001b[0m\u001b[0;34m)\u001b[0m\u001b[0;34m:\u001b[0m\u001b[0;34m\u001b[0m\u001b[0m\n\u001b[1;32m    301\u001b[0m                 \u001b[0mprint\u001b[0m\u001b[0;34m(\u001b[0m\u001b[0;34m\"All benchmarks succeeded.\"\u001b[0m\u001b[0;34m)\u001b[0m\u001b[0;34m\u001b[0m\u001b[0m\n",
      "\u001b[0;32m/usr/lib/python3.6/multiprocessing/pool.py\u001b[0m in \u001b[0;36mmap\u001b[0;34m(self, func, iterable, chunksize)\u001b[0m\n\u001b[1;32m    264\u001b[0m         \u001b[0;32min\u001b[0m \u001b[0ma\u001b[0m \u001b[0mlist\u001b[0m \u001b[0mthat\u001b[0m \u001b[0;32mis\u001b[0m \u001b[0mreturned\u001b[0m\u001b[0;34m.\u001b[0m\u001b[0;34m\u001b[0m\u001b[0m\n\u001b[1;32m    265\u001b[0m         '''\n\u001b[0;32m--> 266\u001b[0;31m         \u001b[0;32mreturn\u001b[0m \u001b[0mself\u001b[0m\u001b[0;34m.\u001b[0m\u001b[0m_map_async\u001b[0m\u001b[0;34m(\u001b[0m\u001b[0mfunc\u001b[0m\u001b[0;34m,\u001b[0m \u001b[0miterable\u001b[0m\u001b[0;34m,\u001b[0m \u001b[0mmapstar\u001b[0m\u001b[0;34m,\u001b[0m \u001b[0mchunksize\u001b[0m\u001b[0;34m)\u001b[0m\u001b[0;34m.\u001b[0m\u001b[0mget\u001b[0m\u001b[0;34m(\u001b[0m\u001b[0;34m)\u001b[0m\u001b[0;34m\u001b[0m\u001b[0m\n\u001b[0m\u001b[1;32m    267\u001b[0m \u001b[0;34m\u001b[0m\u001b[0m\n\u001b[1;32m    268\u001b[0m     \u001b[0;32mdef\u001b[0m \u001b[0mstarmap\u001b[0m\u001b[0;34m(\u001b[0m\u001b[0mself\u001b[0m\u001b[0;34m,\u001b[0m \u001b[0mfunc\u001b[0m\u001b[0;34m,\u001b[0m \u001b[0miterable\u001b[0m\u001b[0;34m,\u001b[0m \u001b[0mchunksize\u001b[0m\u001b[0;34m=\u001b[0m\u001b[0;32mNone\u001b[0m\u001b[0;34m)\u001b[0m\u001b[0;34m:\u001b[0m\u001b[0;34m\u001b[0m\u001b[0m\n",
      "\u001b[0;32m/usr/lib/python3.6/multiprocessing/pool.py\u001b[0m in \u001b[0;36mget\u001b[0;34m(self, timeout)\u001b[0m\n\u001b[1;32m    636\u001b[0m \u001b[0;34m\u001b[0m\u001b[0m\n\u001b[1;32m    637\u001b[0m     \u001b[0;32mdef\u001b[0m \u001b[0mget\u001b[0m\u001b[0;34m(\u001b[0m\u001b[0mself\u001b[0m\u001b[0;34m,\u001b[0m \u001b[0mtimeout\u001b[0m\u001b[0;34m=\u001b[0m\u001b[0;32mNone\u001b[0m\u001b[0;34m)\u001b[0m\u001b[0;34m:\u001b[0m\u001b[0;34m\u001b[0m\u001b[0m\n\u001b[0;32m--> 638\u001b[0;31m         \u001b[0mself\u001b[0m\u001b[0;34m.\u001b[0m\u001b[0mwait\u001b[0m\u001b[0;34m(\u001b[0m\u001b[0mtimeout\u001b[0m\u001b[0;34m)\u001b[0m\u001b[0;34m\u001b[0m\u001b[0m\n\u001b[0m\u001b[1;32m    639\u001b[0m         \u001b[0;32mif\u001b[0m \u001b[0;32mnot\u001b[0m \u001b[0mself\u001b[0m\u001b[0;34m.\u001b[0m\u001b[0mready\u001b[0m\u001b[0;34m(\u001b[0m\u001b[0;34m)\u001b[0m\u001b[0;34m:\u001b[0m\u001b[0;34m\u001b[0m\u001b[0m\n\u001b[1;32m    640\u001b[0m             \u001b[0;32mraise\u001b[0m \u001b[0mTimeoutError\u001b[0m\u001b[0;34m\u001b[0m\u001b[0m\n",
      "\u001b[0;32m/usr/lib/python3.6/multiprocessing/pool.py\u001b[0m in \u001b[0;36mwait\u001b[0;34m(self, timeout)\u001b[0m\n\u001b[1;32m    633\u001b[0m \u001b[0;34m\u001b[0m\u001b[0m\n\u001b[1;32m    634\u001b[0m     \u001b[0;32mdef\u001b[0m \u001b[0mwait\u001b[0m\u001b[0;34m(\u001b[0m\u001b[0mself\u001b[0m\u001b[0;34m,\u001b[0m \u001b[0mtimeout\u001b[0m\u001b[0;34m=\u001b[0m\u001b[0;32mNone\u001b[0m\u001b[0;34m)\u001b[0m\u001b[0;34m:\u001b[0m\u001b[0;34m\u001b[0m\u001b[0m\n\u001b[0;32m--> 635\u001b[0;31m         \u001b[0mself\u001b[0m\u001b[0;34m.\u001b[0m\u001b[0m_event\u001b[0m\u001b[0;34m.\u001b[0m\u001b[0mwait\u001b[0m\u001b[0;34m(\u001b[0m\u001b[0mtimeout\u001b[0m\u001b[0;34m)\u001b[0m\u001b[0;34m\u001b[0m\u001b[0m\n\u001b[0m\u001b[1;32m    636\u001b[0m \u001b[0;34m\u001b[0m\u001b[0m\n\u001b[1;32m    637\u001b[0m     \u001b[0;32mdef\u001b[0m \u001b[0mget\u001b[0m\u001b[0;34m(\u001b[0m\u001b[0mself\u001b[0m\u001b[0;34m,\u001b[0m \u001b[0mtimeout\u001b[0m\u001b[0;34m=\u001b[0m\u001b[0;32mNone\u001b[0m\u001b[0;34m)\u001b[0m\u001b[0;34m:\u001b[0m\u001b[0;34m\u001b[0m\u001b[0m\n",
      "\u001b[0;32m/usr/lib/python3.6/threading.py\u001b[0m in \u001b[0;36mwait\u001b[0;34m(self, timeout)\u001b[0m\n\u001b[1;32m    549\u001b[0m             \u001b[0msignaled\u001b[0m \u001b[0;34m=\u001b[0m \u001b[0mself\u001b[0m\u001b[0;34m.\u001b[0m\u001b[0m_flag\u001b[0m\u001b[0;34m\u001b[0m\u001b[0m\n\u001b[1;32m    550\u001b[0m             \u001b[0;32mif\u001b[0m \u001b[0;32mnot\u001b[0m \u001b[0msignaled\u001b[0m\u001b[0;34m:\u001b[0m\u001b[0;34m\u001b[0m\u001b[0m\n\u001b[0;32m--> 551\u001b[0;31m                 \u001b[0msignaled\u001b[0m \u001b[0;34m=\u001b[0m \u001b[0mself\u001b[0m\u001b[0;34m.\u001b[0m\u001b[0m_cond\u001b[0m\u001b[0;34m.\u001b[0m\u001b[0mwait\u001b[0m\u001b[0;34m(\u001b[0m\u001b[0mtimeout\u001b[0m\u001b[0;34m)\u001b[0m\u001b[0;34m\u001b[0m\u001b[0m\n\u001b[0m\u001b[1;32m    552\u001b[0m             \u001b[0;32mreturn\u001b[0m \u001b[0msignaled\u001b[0m\u001b[0;34m\u001b[0m\u001b[0m\n\u001b[1;32m    553\u001b[0m \u001b[0;34m\u001b[0m\u001b[0m\n",
      "\u001b[0;32m/usr/lib/python3.6/threading.py\u001b[0m in \u001b[0;36mwait\u001b[0;34m(self, timeout)\u001b[0m\n\u001b[1;32m    293\u001b[0m         \u001b[0;32mtry\u001b[0m\u001b[0;34m:\u001b[0m    \u001b[0;31m# restore state no matter what (e.g., KeyboardInterrupt)\u001b[0m\u001b[0;34m\u001b[0m\u001b[0m\n\u001b[1;32m    294\u001b[0m             \u001b[0;32mif\u001b[0m \u001b[0mtimeout\u001b[0m \u001b[0;32mis\u001b[0m \u001b[0;32mNone\u001b[0m\u001b[0;34m:\u001b[0m\u001b[0;34m\u001b[0m\u001b[0m\n\u001b[0;32m--> 295\u001b[0;31m                 \u001b[0mwaiter\u001b[0m\u001b[0;34m.\u001b[0m\u001b[0macquire\u001b[0m\u001b[0;34m(\u001b[0m\u001b[0;34m)\u001b[0m\u001b[0;34m\u001b[0m\u001b[0m\n\u001b[0m\u001b[1;32m    296\u001b[0m                 \u001b[0mgotit\u001b[0m \u001b[0;34m=\u001b[0m \u001b[0;32mTrue\u001b[0m\u001b[0;34m\u001b[0m\u001b[0m\n\u001b[1;32m    297\u001b[0m             \u001b[0;32melse\u001b[0m\u001b[0;34m:\u001b[0m\u001b[0;34m\u001b[0m\u001b[0m\n",
      "\u001b[0;31mKeyboardInterrupt\u001b[0m: "
     ]
    }
   ],
   "source": [
    "scenario = '/home/eric/mpb/bin/moving_ai_scenarios/Berlin_0_256.map.scen'\n",
    "num_scenarios = 20\n",
    "steer_function = 'reeds_shepp'\n",
    "\n",
    "config = MPB.get_config()\n",
    "config[\"benchmark.moving_ai.active\"] = True\n",
    "pool = MultipleMPB()\n",
    "for i in range(num_scenarios):\n",
    "    m = MPB()\n",
    "    config[\"benchmark.moving_ai.start\"] = i - num_scenarios\n",
    "    config[\"benchmark.moving_ai.end\"] = i - num_scenarios\n",
    "    config[\"benchmark.moving_ai.scenario\"] = scenario\n",
    "    m.update(deepcopy(config))\n",
    "    m.set_steer_functions([steer_function])\n",
    "    m.set_smoothers(['grips', 'ompl_bspline', 'ompl_shortcut', 'ompl_simplify_max'])\n",
    "    pool.benchmarks.append(m)\n",
    "pool.run_parallel(\"moving_ai_%s\" % steer_function)"
   ]
  },
  {
   "cell_type": "code",
   "execution_count": null,
   "metadata": {},
   "outputs": [],
   "source": []
  }
 ],
 "metadata": {
  "kernelspec": {
   "display_name": "Python 3",
   "language": "python",
   "name": "python3"
  },
  "language_info": {
   "codemirror_mode": {
    "name": "ipython",
    "version": 3
   },
   "file_extension": ".py",
   "mimetype": "text/x-python",
   "name": "python",
   "nbconvert_exporter": "python",
   "pygments_lexer": "ipython3",
   "version": "3.6.5"
  }
 },
 "nbformat": 4,
 "nbformat_minor": 4
}
