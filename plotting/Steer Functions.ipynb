{
 "cells": [
  {
   "cell_type": "markdown",
   "metadata": {},
   "source": [
    "## Steer Function Comparison\n",
    "In this notebook, we examine the planners using different steer functions."
   ]
  },
  {
   "cell_type": "code",
   "execution_count": 1,
   "metadata": {},
   "outputs": [],
   "source": [
    "%load_ext autoreload\n",
    "%autoreload 2\n",
    "from mpb import MPB, MultipleMPB\n",
    "from plot_stats import plot_planner_stats, plot_smoother_stats\n",
    "from table import latex_table\n",
    "import matplotlib as mpl\n",
    "import sys, os\n",
    "mpl.rcParams['mathtext.fontset'] = 'cm'\n",
    "# make sure to not use Level-3 fonts\n",
    "mpl.rcParams['pdf.fonttype'] = 42\n",
    "import matplotlib.pyplot as plt\n",
    "from copy import deepcopy"
   ]
  },
  {
   "cell_type": "markdown",
   "metadata": {},
   "source": [
    "### Moving AI Scenarios"
   ]
  },
  {
   "cell_type": "code",
   "execution_count": 2,
   "metadata": {},
   "outputs": [],
   "source": [
    "def benchmark_moving_ai(scenario: str,\n",
    "                        num_scenarios: int,\n",
    "                        steer_function: str,\n",
    "                        time_limit: float = 15):\n",
    "    scenario_file = '/root/code/mpb/bin/moving_ai_scenarios/%s.map.scen' % scenario\n",
    "    if not os.path.exists(scenario_file):\n",
    "        raise Exception(\"Scenario file \\\"%s\\\" could not be found.\" % scenario_file)\n",
    "\n",
    "    config = MPB.get_config()\n",
    "    config[\"benchmark.moving_ai.active\"] = True\n",
    "    config[\"max_planning_time\"] = time_limit\n",
    "    config[\"benchmark.moving_ai.create_border\"] = False\n",
    "    # use point-based collision model for MovingAI scenarios\n",
    "    config[\"env.collision.collision_model\"] = 0\n",
    "\n",
    "    pool = MultipleMPB()\n",
    "    for i in range(num_scenarios):\n",
    "        m = MPB()\n",
    "        config[\"benchmark.moving_ai.start\"] = i - num_scenarios\n",
    "        config[\"benchmark.moving_ai.end\"] = i - num_scenarios\n",
    "        config[\"benchmark.moving_ai.scenario\"] = scenario_file    \n",
    "        m.update(deepcopy(config))\n",
    "        m.set_steer_functions([steer_function])\n",
    "        m.set_smoothers(['grips', 'ompl_bspline', 'ompl_shortcut', 'ompl_simplify_max'])\n",
    "        #     m.set_planners(['theta_star'])\n",
    "        #     m.set_planners(['sbpl_adstar'])\n",
    "        pool.benchmarks.append(m)\n",
    "    bench = \"moving_ai_%s_%s\" % (scenario, steer_function)\n",
    "    run_result = pool.run_parallel(bench, processes=20, limit_memory=True)\n",
    "    \n",
    "    # plot trajectories\n",
    "    try:\n",
    "        pool.visualize_trajectories(show_legend=True, fig_width=8, fig_height=8)\n",
    "        plt.savefig(\"%s/%s_trajectories.pdf\" % (bench, bench), bbox_inches='tight')\n",
    "    except Exception as e:\n",
    "        print(\"Error while visualizing trajectories:\", e, file=sys.stderr)\n",
    "    \n",
    "    total_filename = \"%s/_total.json\" % bench\n",
    "    MPB.merge(pool.benchmarks, total_filename, make_separate_runs=True)\n",
    "    \n",
    "    # plot planner stats\n",
    "    try:        \n",
    "        plot_planner_stats(total_filename, save_file=\"%s/%s_stats.pdf\" % (bench, bench))\n",
    "    except Exception as e:\n",
    "        print(\"Error while plotting planner statistics:\", e, file=sys.stderr)\n",
    "    \n",
    "    # plot smoother stats\n",
    "    try:\n",
    "        plot_smoother_stats(total_filename,\n",
    "                            save_file=\"%s/%s_smoother_stats.pdf\" % (bench, bench),\n",
    "                            separate_planners=False, num_colors=8,\n",
    "                            combine_views=True, max_plots_per_line=3)\n",
    "    except Exception as e:\n",
    "        print(\"Error while plotting smoother statistics:\", e, file=sys.stderr)\n",
    "    \n",
    "    # plot smoother stats (separated by planners)\n",
    "    try:\n",
    "        plot_smoother_stats(total_filename,\n",
    "                            save_file=\"%s/%s_smoother_stats_separated.pdf\" % (bench, bench),\n",
    "                            separate_planners=True, num_colors=8, combine_views=True,\n",
    "                            max_plots_per_line=1, fig_width=25, fig_height=6)\n",
    "    except Exception as e:\n",
    "        print(\"Error while plotting smoother statistics:\", e, file=sys.stderr)\n",
    "        \n",
    "    # generate LaTeX table\n",
    "    try:\n",
    "        with open(\"%s/%s_table.txt\" % (bench, bench), 'w') as tf:\n",
    "            tf.write(latex_table(total_filename,\n",
    "                                 row_label='\\\\textbf{Scenario: \\\\texttt{%s}} (%s steering, \\\\SI{%.1f}{\\\\minute} time limit)'\n",
    "      \n",
    "                                 % (latexify(scenario),\n",
    "                                    latexify(steer_function_names[steer_function]),\n",
    "                                    time_limit/60),\n",
    "                                 time_limit=time_limit))\n",
    "    except Exception as e:\n",
    "        print(\"Error while generating table:\", e, file=sys.stderr)\n",
    "    \n",
    "    return run_result"
   ]
  },
  {
   "cell_type": "code",
   "execution_count": 3,
   "metadata": {},
   "outputs": [
    {
     "name": "stdout",
     "output_type": "stream",
     "text": [
      "Available memory: 251.13 GB, limiting each MPB process to 6.9% usage (17.44 GB).\n",
      "Creating pool of 20 processes.\n",
      "Running MPB with ID moving_ai_Berlin_0_256_reeds_shepp_1 (log file at moving_ai_Berlin_0_256_reeds_shepp/moving_ai_Berlin_0_256_reeds_shepp_1.log)...\n",
      "Running MPB with ID moving_ai_Berlin_0_256_reeds_shepp_3 (log file at moving_ai_Berlin_0_256_reeds_shepp/moving_ai_Berlin_0_256_reeds_shepp_3.log)...\n",
      "Running MPB with ID moving_ai_Berlin_0_256_reeds_shepp_2 (log file at moving_ai_Berlin_0_256_reeds_shepp/moving_ai_Berlin_0_256_reeds_shepp_2.log)...\n",
      "Running MPB with ID moving_ai_Berlin_0_256_reeds_shepp_0 (log file at moving_ai_Berlin_0_256_reeds_shepp/moving_ai_Berlin_0_256_reeds_shepp_0.log)...\n",
      "Running MPB with ID moving_ai_Berlin_0_256_reeds_shepp_4 (log file at moving_ai_Berlin_0_256_reeds_shepp/moving_ai_Berlin_0_256_reeds_shepp_4.log)...\n",
      "Running MPB with ID moving_ai_Berlin_0_256_reeds_shepp_5 (log file at moving_ai_Berlin_0_256_reeds_shepp/moving_ai_Berlin_0_256_reeds_shepp_5.log)...\n",
      "Running MPB with ID moving_ai_Berlin_0_256_reeds_shepp_6 (log file at moving_ai_Berlin_0_256_reeds_shepp/moving_ai_Berlin_0_256_reeds_shepp_6.log)...\n",
      "Running MPB with ID moving_ai_Berlin_0_256_reeds_shepp_8 (log file at moving_ai_Berlin_0_256_reeds_shepp/moving_ai_Berlin_0_256_reeds_shepp_8.log)...\n",
      "Running MPB with ID moving_ai_Berlin_0_256_reeds_shepp_9 (log file at moving_ai_Berlin_0_256_reeds_shepp/moving_ai_Berlin_0_256_reeds_shepp_9.log)...\n",
      "Running MPB with ID moving_ai_Berlin_0_256_reeds_shepp_7 (log file at moving_ai_Berlin_0_256_reeds_shepp/moving_ai_Berlin_0_256_reeds_shepp_7.log)...\n",
      "Running MPB with ID moving_ai_Berlin_0_256_reeds_shepp_10 (log file at moving_ai_Berlin_0_256_reeds_shepp/moving_ai_Berlin_0_256_reeds_shepp_10.log)...\n",
      "Running MPB with ID moving_ai_Berlin_0_256_reeds_shepp_11 (log file at moving_ai_Berlin_0_256_reeds_shepp/moving_ai_Berlin_0_256_reeds_shepp_11.log)...\n",
      "Running MPB with ID moving_ai_Berlin_0_256_reeds_shepp_13 (log file at moving_ai_Berlin_0_256_reeds_shepp/moving_ai_Berlin_0_256_reeds_shepp_13.log)...\n",
      "Running MPB with ID moving_ai_Berlin_0_256_reeds_shepp_12 (log file at moving_ai_Berlin_0_256_reeds_shepp/moving_ai_Berlin_0_256_reeds_shepp_12.log)...\n",
      "Running MPB with ID moving_ai_Berlin_0_256_reeds_shepp_14 (log file at moving_ai_Berlin_0_256_reeds_shepp/moving_ai_Berlin_0_256_reeds_shepp_14.log)...\n",
      "Running MPB with ID moving_ai_Berlin_0_256_reeds_shepp_15 (log file at moving_ai_Berlin_0_256_reeds_shepp/moving_ai_Berlin_0_256_reeds_shepp_15.log)...\n",
      "Running MPB with ID moving_ai_Berlin_0_256_reeds_shepp_16 (log file at moving_ai_Berlin_0_256_reeds_shepp/moving_ai_Berlin_0_256_reeds_shepp_16.log)...\n",
      "Running MPB with ID moving_ai_Berlin_0_256_reeds_shepp_17 (log file at moving_ai_Berlin_0_256_reeds_shepp/moving_ai_Berlin_0_256_reeds_shepp_17.log)...\n",
      "Running MPB with ID moving_ai_Berlin_0_256_reeds_shepp_18 (log file at moving_ai_Berlin_0_256_reeds_shepp/moving_ai_Berlin_0_256_reeds_shepp_18.log)...\n",
      "Running MPB with ID moving_ai_Berlin_0_256_reeds_shepp_19 (log file at moving_ai_Berlin_0_256_reeds_shepp/moving_ai_Berlin_0_256_reeds_shepp_19.log)...\n"
     ]
    },
    {
     "data": {
      "application/vnd.jupyter.widget-view+json": {
       "model_id": "48794b5707724deeafe404e0b1ed3f9d",
       "version_major": 2,
       "version_minor": 0
      },
      "text/plain": [
       "HBox(children=(IntProgress(value=0, description='moving_ai_Berlin_0_256_reeds_shepp_1', layout=Layout(flex='2'…"
      ]
     },
     "metadata": {},
     "output_type": "display_data"
    },
    {
     "data": {
      "application/vnd.jupyter.widget-view+json": {
       "model_id": "cd863473d644458eabf0be351c70e05c",
       "version_major": 2,
       "version_minor": 0
      },
      "text/plain": [
       "HBox(children=(IntProgress(value=0, description='moving_ai_Berlin_0_256_reeds_shepp_9', layout=Layout(flex='2'…"
      ]
     },
     "metadata": {},
     "output_type": "display_data"
    },
    {
     "data": {
      "application/vnd.jupyter.widget-view+json": {
       "model_id": "3bb00e56a87946f9a51146a21d8004ac",
       "version_major": 2,
       "version_minor": 0
      },
      "text/plain": [
       "HBox(children=(IntProgress(value=0, description='moving_ai_Berlin_0_256_reeds_shepp_2', layout=Layout(flex='2'…"
      ]
     },
     "metadata": {},
     "output_type": "display_data"
    },
    {
     "data": {
      "application/vnd.jupyter.widget-view+json": {
       "model_id": "35818d2aa1164194a33d6b832a855b4d",
       "version_major": 2,
       "version_minor": 0
      },
      "text/plain": [
       "HBox(children=(IntProgress(value=0, description='moving_ai_Berlin_0_256_reeds_shepp_6', layout=Layout(flex='2'…"
      ]
     },
     "metadata": {},
     "output_type": "display_data"
    },
    {
     "data": {
      "application/vnd.jupyter.widget-view+json": {
       "model_id": "2778ac3176ce46b2aaf76e6098b15a3b",
       "version_major": 2,
       "version_minor": 0
      },
      "text/plain": [
       "HBox(children=(IntProgress(value=0, description='moving_ai_Berlin_0_256_reeds_shepp_8', layout=Layout(flex='2'…"
      ]
     },
     "metadata": {},
     "output_type": "display_data"
    },
    {
     "data": {
      "application/vnd.jupyter.widget-view+json": {
       "model_id": "3cbab1e1195e4a2eb4593baed08fc832",
       "version_major": 2,
       "version_minor": 0
      },
      "text/plain": [
       "HBox(children=(IntProgress(value=0, description='moving_ai_Berlin_0_256_reeds_shepp_19', layout=Layout(flex='2…"
      ]
     },
     "metadata": {},
     "output_type": "display_data"
    },
    {
     "data": {
      "application/vnd.jupyter.widget-view+json": {
       "model_id": "452e12bd87e74904ba3375d377462d06",
       "version_major": 2,
       "version_minor": 0
      },
      "text/plain": [
       "HBox(children=(IntProgress(value=0, description='moving_ai_Berlin_0_256_reeds_shepp_0', layout=Layout(flex='2'…"
      ]
     },
     "metadata": {},
     "output_type": "display_data"
    },
    {
     "data": {
      "application/vnd.jupyter.widget-view+json": {
       "model_id": "6c9929024b7943e9b7a551f8f59f3a0a",
       "version_major": 2,
       "version_minor": 0
      },
      "text/plain": [
       "HBox(children=(IntProgress(value=0, description='moving_ai_Berlin_0_256_reeds_shepp_5', layout=Layout(flex='2'…"
      ]
     },
     "metadata": {},
     "output_type": "display_data"
    },
    {
     "data": {
      "application/vnd.jupyter.widget-view+json": {
       "model_id": "3c996122641b46a49d046bd974592221",
       "version_major": 2,
       "version_minor": 0
      },
      "text/plain": [
       "HBox(children=(IntProgress(value=0, description='moving_ai_Berlin_0_256_reeds_shepp_10', layout=Layout(flex='2…"
      ]
     },
     "metadata": {},
     "output_type": "display_data"
    },
    {
     "data": {
      "application/vnd.jupyter.widget-view+json": {
       "model_id": "5e93189e10704136850b91e3c860c275",
       "version_major": 2,
       "version_minor": 0
      },
      "text/plain": [
       "HBox(children=(IntProgress(value=0, description='moving_ai_Berlin_0_256_reeds_shepp_18', layout=Layout(flex='2…"
      ]
     },
     "metadata": {},
     "output_type": "display_data"
    },
    {
     "data": {
      "application/vnd.jupyter.widget-view+json": {
       "model_id": "c3a55b0072984352ba2cce0b82f63a39",
       "version_major": 2,
       "version_minor": 0
      },
      "text/plain": [
       "HBox(children=(IntProgress(value=0, description='moving_ai_Berlin_0_256_reeds_shepp_16', layout=Layout(flex='2…"
      ]
     },
     "metadata": {},
     "output_type": "display_data"
    },
    {
     "data": {
      "application/vnd.jupyter.widget-view+json": {
       "model_id": "5347cc55b3a14538a41a68a23d4c44d3",
       "version_major": 2,
       "version_minor": 0
      },
      "text/plain": [
       "HBox(children=(IntProgress(value=0, description='moving_ai_Berlin_0_256_reeds_shepp_4', layout=Layout(flex='2'…"
      ]
     },
     "metadata": {},
     "output_type": "display_data"
    },
    {
     "data": {
      "application/vnd.jupyter.widget-view+json": {
       "model_id": "c3f651146b284a6caa0b2fa0cb0f0c9e",
       "version_major": 2,
       "version_minor": 0
      },
      "text/plain": [
       "HBox(children=(IntProgress(value=0, description='moving_ai_Berlin_0_256_reeds_shepp_3', layout=Layout(flex='2'…"
      ]
     },
     "metadata": {},
     "output_type": "display_data"
    },
    {
     "data": {
      "application/vnd.jupyter.widget-view+json": {
       "model_id": "5f2ba481f5fa42e6b8b46cc031b9b893",
       "version_major": 2,
       "version_minor": 0
      },
      "text/plain": [
       "HBox(children=(IntProgress(value=0, description='moving_ai_Berlin_0_256_reeds_shepp_11', layout=Layout(flex='2…"
      ]
     },
     "metadata": {},
     "output_type": "display_data"
    },
    {
     "data": {
      "application/vnd.jupyter.widget-view+json": {
       "model_id": "94608637d20845fa99bc1e866a6888e4",
       "version_major": 2,
       "version_minor": 0
      },
      "text/plain": [
       "HBox(children=(IntProgress(value=0, description='moving_ai_Berlin_0_256_reeds_shepp_15', layout=Layout(flex='2…"
      ]
     },
     "metadata": {},
     "output_type": "display_data"
    },
    {
     "data": {
      "application/vnd.jupyter.widget-view+json": {
       "model_id": "8a2369a57ec34eee94c3c761771d4757",
       "version_major": 2,
       "version_minor": 0
      },
      "text/plain": [
       "HBox(children=(IntProgress(value=0, description='moving_ai_Berlin_0_256_reeds_shepp_17', layout=Layout(flex='2…"
      ]
     },
     "metadata": {},
     "output_type": "display_data"
    },
    {
     "data": {
      "application/vnd.jupyter.widget-view+json": {
       "model_id": "361a43e6c0564e2d9bc6dd093916a45c",
       "version_major": 2,
       "version_minor": 0
      },
      "text/plain": [
       "HBox(children=(IntProgress(value=0, description='moving_ai_Berlin_0_256_reeds_shepp_7', layout=Layout(flex='2'…"
      ]
     },
     "metadata": {},
     "output_type": "display_data"
    },
    {
     "data": {
      "application/vnd.jupyter.widget-view+json": {
       "model_id": "7f68b5ac117a426a86ee1a30270258ac",
       "version_major": 2,
       "version_minor": 0
      },
      "text/plain": [
       "HBox(children=(IntProgress(value=0, description='moving_ai_Berlin_0_256_reeds_shepp_13', layout=Layout(flex='2…"
      ]
     },
     "metadata": {},
     "output_type": "display_data"
    },
    {
     "data": {
      "application/vnd.jupyter.widget-view+json": {
       "model_id": "9686171578e24af7ad45f874d495588d",
       "version_major": 2,
       "version_minor": 0
      },
      "text/plain": [
       "HBox(children=(IntProgress(value=0, description='moving_ai_Berlin_0_256_reeds_shepp_12', layout=Layout(flex='2…"
      ]
     },
     "metadata": {},
     "output_type": "display_data"
    },
    {
     "data": {
      "application/vnd.jupyter.widget-view+json": {
       "model_id": "cc2cd531b4954184ac900f32f42f7237",
       "version_major": 2,
       "version_minor": 0
      },
      "text/plain": [
       "HBox(children=(IntProgress(value=0, description='moving_ai_Berlin_0_256_reeds_shepp_14', layout=Layout(flex='2…"
      ]
     },
     "metadata": {},
     "output_type": "display_data"
    },
    {
     "name": "stdout",
     "output_type": "stream",
     "text": [
      "Killed moving_ai_Berlin_0_256_reeds_shepp_9 with planner sbpl_arastar after 30.00s exceeded timeout.\n",
      "Killed moving_ai_Berlin_0_256_reeds_shepp_14 with planner sbpl_adstar after 30.00s exceeded timeout.\n"
     ]
    },
    {
     "name": "stderr",
     "output_type": "stream",
     "text": [
      "Error (-9) occurred for MPB with ID moving_ai_Berlin_0_256_reeds_shepp_9 using planner sbpl ara*.\n",
      "Error (-9) occurred for MPB with ID moving_ai_Berlin_0_256_reeds_shepp_14 using planner sbpl ad*.\n"
     ]
    },
    {
     "name": "stdout",
     "output_type": "stream",
     "text": [
      "Running MPB with ID moving_ai_Berlin_0_256_reeds_shepp_20 (log file at moving_ai_Berlin_0_256_reeds_shepp/moving_ai_Berlin_0_256_reeds_shepp_20.log)...\n"
     ]
    },
    {
     "data": {
      "application/vnd.jupyter.widget-view+json": {
       "model_id": "91554eef9e10402bb3b12d269e4f9e63",
       "version_major": 2,
       "version_minor": 0
      },
      "text/plain": [
       "HBox(children=(IntProgress(value=0, description='moving_ai_Berlin_0_256_reeds_shepp_20', layout=Layout(flex='2…"
      ]
     },
     "metadata": {},
     "output_type": "display_data"
    },
    {
     "name": "stdout",
     "output_type": "stream",
     "text": [
      "Running MPB with ID moving_ai_Berlin_0_256_reeds_shepp_21 (log file at moving_ai_Berlin_0_256_reeds_shepp/moving_ai_Berlin_0_256_reeds_shepp_21.log)...\n"
     ]
    },
    {
     "data": {
      "application/vnd.jupyter.widget-view+json": {
       "model_id": "b43f27a5223a4fbbb91429067c99a9f3",
       "version_major": 2,
       "version_minor": 0
      },
      "text/plain": [
       "HBox(children=(IntProgress(value=0, description='moving_ai_Berlin_0_256_reeds_shepp_21', layout=Layout(flex='2…"
      ]
     },
     "metadata": {},
     "output_type": "display_data"
    },
    {
     "name": "stdout",
     "output_type": "stream",
     "text": [
      "Killed moving_ai_Berlin_0_256_reeds_shepp_1 with planner sbpl_arastar after 30.00s exceeded timeout.\n",
      "Killed moving_ai_Berlin_0_256_reeds_shepp_19 with planner sbpl_mha after 30.01s exceeded timeout.\n",
      "Killed moving_ai_Berlin_0_256_reeds_shepp_12 with planner sbpl_mha after 30.00s exceeded timeout.\n",
      "Killed moving_ai_Berlin_0_256_reeds_shepp_1 with planner sbpl_mha after 30.02s exceeded timeout.\n"
     ]
    },
    {
     "name": "stderr",
     "output_type": "stream",
     "text": [
      "Error (-9) occurred for MPB with ID moving_ai_Berlin_0_256_reeds_shepp_1 using planner sbpl mha.\n"
     ]
    },
    {
     "name": "stdout",
     "output_type": "stream",
     "text": [
      "Killed moving_ai_Berlin_0_256_reeds_shepp_19 with planner sbpl_arastar after 30.02s exceeded timeout.\n"
     ]
    },
    {
     "name": "stderr",
     "output_type": "stream",
     "text": [
      "Error (-9) occurred for MPB with ID moving_ai_Berlin_0_256_reeds_shepp_19 using planner sbpl ara*.\n"
     ]
    },
    {
     "name": "stdout",
     "output_type": "stream",
     "text": [
      "Killed moving_ai_Berlin_0_256_reeds_shepp_1 with planner sbpl_adstar after 30.01s exceeded timeout.\n"
     ]
    },
    {
     "name": "stderr",
     "output_type": "stream",
     "text": [
      "Error (-9) occurred for MPB with ID moving_ai_Berlin_0_256_reeds_shepp_1 using planner sbpl ad*.\n"
     ]
    },
    {
     "name": "stdout",
     "output_type": "stream",
     "text": [
      "\n",
      "Benchmark 5 (moving_ai_Berlin_0_256_reeds_shepp_5) finished successfully.\n",
      "Running MPB with ID moving_ai_Berlin_0_256_reeds_shepp_22 (log file at moving_ai_Berlin_0_256_reeds_shepp/moving_ai_Berlin_0_256_reeds_shepp_22.log)...\n"
     ]
    },
    {
     "data": {
      "application/vnd.jupyter.widget-view+json": {
       "model_id": "6e2095b92a4d4dafbe9cc31948c353d5",
       "version_major": 2,
       "version_minor": 0
      },
      "text/plain": [
       "HBox(children=(IntProgress(value=0, description='moving_ai_Berlin_0_256_reeds_shepp_22', layout=Layout(flex='2…"
      ]
     },
     "metadata": {},
     "output_type": "display_data"
    },
    {
     "name": "stdout",
     "output_type": "stream",
     "text": [
      "\n",
      "Benchmark 13 (moving_ai_Berlin_0_256_reeds_shepp_13) finished successfully.\n",
      "Running MPB with ID moving_ai_Berlin_0_256_reeds_shepp_23 (log file at moving_ai_Berlin_0_256_reeds_shepp/moving_ai_Berlin_0_256_reeds_shepp_23.log)...\n"
     ]
    },
    {
     "data": {
      "application/vnd.jupyter.widget-view+json": {
       "model_id": "58d2ca80fdf744489fd8fc8810051a7f",
       "version_major": 2,
       "version_minor": 0
      },
      "text/plain": [
       "HBox(children=(IntProgress(value=0, description='moving_ai_Berlin_0_256_reeds_shepp_23', layout=Layout(flex='2…"
      ]
     },
     "metadata": {},
     "output_type": "display_data"
    },
    {
     "name": "stdout",
     "output_type": "stream",
     "text": [
      "\n",
      "Benchmark 3 (moving_ai_Berlin_0_256_reeds_shepp_3) finished successfully.\n",
      "Running MPB with ID moving_ai_Berlin_0_256_reeds_shepp_24 (log file at moving_ai_Berlin_0_256_reeds_shepp/moving_ai_Berlin_0_256_reeds_shepp_24.log)...\n"
     ]
    },
    {
     "data": {
      "application/vnd.jupyter.widget-view+json": {
       "model_id": "bc309c41cf38434cb4795051c5046d58",
       "version_major": 2,
       "version_minor": 0
      },
      "text/plain": [
       "HBox(children=(IntProgress(value=0, description='moving_ai_Berlin_0_256_reeds_shepp_24', layout=Layout(flex='2…"
      ]
     },
     "metadata": {},
     "output_type": "display_data"
    },
    {
     "name": "stdout",
     "output_type": "stream",
     "text": [
      "\n",
      "Benchmark 18 (moving_ai_Berlin_0_256_reeds_shepp_18) finished successfully.\n",
      "Running MPB with ID moving_ai_Berlin_0_256_reeds_shepp_25 (log file at moving_ai_Berlin_0_256_reeds_shepp/moving_ai_Berlin_0_256_reeds_shepp_25.log)...\n",
      "\n",
      "Benchmark 4 (moving_ai_Berlin_0_256_reeds_shepp_4) finished successfully.\n",
      "Running MPB with ID moving_ai_Berlin_0_256_reeds_shepp_26 (log file at moving_ai_Berlin_0_256_reeds_shepp/moving_ai_Berlin_0_256_reeds_shepp_26.log)...\n"
     ]
    },
    {
     "data": {
      "application/vnd.jupyter.widget-view+json": {
       "model_id": "18f639a281e74acf951fefcdc37d24e4",
       "version_major": 2,
       "version_minor": 0
      },
      "text/plain": [
       "HBox(children=(IntProgress(value=0, description='moving_ai_Berlin_0_256_reeds_shepp_25', layout=Layout(flex='2…"
      ]
     },
     "metadata": {},
     "output_type": "display_data"
    },
    {
     "data": {
      "application/vnd.jupyter.widget-view+json": {
       "model_id": "aec4230f4d334489b2b8cd9670657654",
       "version_major": 2,
       "version_minor": 0
      },
      "text/plain": [
       "HBox(children=(IntProgress(value=0, description='moving_ai_Berlin_0_256_reeds_shepp_26', layout=Layout(flex='2…"
      ]
     },
     "metadata": {},
     "output_type": "display_data"
    },
    {
     "name": "stdout",
     "output_type": "stream",
     "text": [
      "\n",
      "Benchmark 17 (moving_ai_Berlin_0_256_reeds_shepp_17) finished successfully.\n",
      "Running MPB with ID moving_ai_Berlin_0_256_reeds_shepp_27 (log file at moving_ai_Berlin_0_256_reeds_shepp/moving_ai_Berlin_0_256_reeds_shepp_27.log)...\n"
     ]
    },
    {
     "data": {
      "application/vnd.jupyter.widget-view+json": {
       "model_id": "b55a1bde030c4576b358bfb25e1d438a",
       "version_major": 2,
       "version_minor": 0
      },
      "text/plain": [
       "HBox(children=(IntProgress(value=0, description='moving_ai_Berlin_0_256_reeds_shepp_27', layout=Layout(flex='2…"
      ]
     },
     "metadata": {},
     "output_type": "display_data"
    },
    {
     "name": "stdout",
     "output_type": "stream",
     "text": [
      "\n",
      "Benchmark 0 (moving_ai_Berlin_0_256_reeds_shepp_0) finished successfully.\n",
      "Running MPB with ID moving_ai_Berlin_0_256_reeds_shepp_28 (log file at moving_ai_Berlin_0_256_reeds_shepp/moving_ai_Berlin_0_256_reeds_shepp_28.log)...\n"
     ]
    },
    {
     "data": {
      "application/vnd.jupyter.widget-view+json": {
       "model_id": "8ac8dcc3894d41c2ab6160fb2ed76b7d",
       "version_major": 2,
       "version_minor": 0
      },
      "text/plain": [
       "HBox(children=(IntProgress(value=0, description='moving_ai_Berlin_0_256_reeds_shepp_28', layout=Layout(flex='2…"
      ]
     },
     "metadata": {},
     "output_type": "display_data"
    },
    {
     "name": "stdout",
     "output_type": "stream",
     "text": [
      "\n",
      "Benchmark 6 (moving_ai_Berlin_0_256_reeds_shepp_6) finished successfully.\n",
      "Running MPB with ID moving_ai_Berlin_0_256_reeds_shepp_29 (log file at moving_ai_Berlin_0_256_reeds_shepp/moving_ai_Berlin_0_256_reeds_shepp_29.log)...\n"
     ]
    },
    {
     "data": {
      "application/vnd.jupyter.widget-view+json": {
       "model_id": "9b700733cdc1421281c7231884374e0e",
       "version_major": 2,
       "version_minor": 0
      },
      "text/plain": [
       "HBox(children=(IntProgress(value=0, description='moving_ai_Berlin_0_256_reeds_shepp_29', layout=Layout(flex='2…"
      ]
     },
     "metadata": {},
     "output_type": "display_data"
    },
    {
     "name": "stdout",
     "output_type": "stream",
     "text": [
      "\n",
      "Benchmark 7 (moving_ai_Berlin_0_256_reeds_shepp_7) finished successfully.\n",
      "Running MPB with ID moving_ai_Berlin_0_256_reeds_shepp_30 (log file at moving_ai_Berlin_0_256_reeds_shepp/moving_ai_Berlin_0_256_reeds_shepp_30.log)...\n"
     ]
    },
    {
     "data": {
      "application/vnd.jupyter.widget-view+json": {
       "model_id": "fb3aaad3dd5d4ea192f7be1dcaf5d3b0",
       "version_major": 2,
       "version_minor": 0
      },
      "text/plain": [
       "HBox(children=(IntProgress(value=0, description='moving_ai_Berlin_0_256_reeds_shepp_30', layout=Layout(flex='2…"
      ]
     },
     "metadata": {},
     "output_type": "display_data"
    },
    {
     "name": "stdout",
     "output_type": "stream",
     "text": [
      "\n",
      "Benchmark 11 (moving_ai_Berlin_0_256_reeds_shepp_11) finished successfully.\n",
      "Running MPB with ID moving_ai_Berlin_0_256_reeds_shepp_31 (log file at moving_ai_Berlin_0_256_reeds_shepp/moving_ai_Berlin_0_256_reeds_shepp_31.log)...\n"
     ]
    },
    {
     "data": {
      "application/vnd.jupyter.widget-view+json": {
       "model_id": "6687541c3b404911887ae97ac1aad74a",
       "version_major": 2,
       "version_minor": 0
      },
      "text/plain": [
       "HBox(children=(IntProgress(value=0, description='moving_ai_Berlin_0_256_reeds_shepp_31', layout=Layout(flex='2…"
      ]
     },
     "metadata": {},
     "output_type": "display_data"
    },
    {
     "name": "stdout",
     "output_type": "stream",
     "text": [
      "\n",
      "Benchmark 16 (moving_ai_Berlin_0_256_reeds_shepp_16) finished successfully.\n",
      "Running MPB with ID moving_ai_Berlin_0_256_reeds_shepp_32 (log file at moving_ai_Berlin_0_256_reeds_shepp/moving_ai_Berlin_0_256_reeds_shepp_32.log)...\n"
     ]
    },
    {
     "data": {
      "application/vnd.jupyter.widget-view+json": {
       "model_id": "92b1632da90b4639b0bdf4d7f8068646",
       "version_major": 2,
       "version_minor": 0
      },
      "text/plain": [
       "HBox(children=(IntProgress(value=0, description='moving_ai_Berlin_0_256_reeds_shepp_32', layout=Layout(flex='2…"
      ]
     },
     "metadata": {},
     "output_type": "display_data"
    },
    {
     "name": "stdout",
     "output_type": "stream",
     "text": [
      "\n"
     ]
    },
    {
     "name": "stderr",
     "output_type": "stream",
     "text": [
      "Benchmark 19 (moving_ai_Berlin_0_256_reeds_shepp_19) failed. Return code: -1.\n"
     ]
    },
    {
     "name": "stdout",
     "output_type": "stream",
     "text": [
      "Running MPB with ID moving_ai_Berlin_0_256_reeds_shepp_33 (log file at moving_ai_Berlin_0_256_reeds_shepp/moving_ai_Berlin_0_256_reeds_shepp_33.log)...\n"
     ]
    },
    {
     "data": {
      "application/vnd.jupyter.widget-view+json": {
       "model_id": "c88deb753dbf4c16b6b03146d7d52960",
       "version_major": 2,
       "version_minor": 0
      },
      "text/plain": [
       "HBox(children=(IntProgress(value=0, description='moving_ai_Berlin_0_256_reeds_shepp_33', layout=Layout(flex='2…"
      ]
     },
     "metadata": {},
     "output_type": "display_data"
    },
    {
     "name": "stdout",
     "output_type": "stream",
     "text": [
      "\n",
      "Benchmark 2 (moving_ai_Berlin_0_256_reeds_shepp_2) finished successfully.\n",
      "Running MPB with ID moving_ai_Berlin_0_256_reeds_shepp_34 (log file at moving_ai_Berlin_0_256_reeds_shepp/moving_ai_Berlin_0_256_reeds_shepp_34.log)...\n"
     ]
    },
    {
     "data": {
      "application/vnd.jupyter.widget-view+json": {
       "model_id": "6d54ee117fdf486482a6a43a8810a994",
       "version_major": 2,
       "version_minor": 0
      },
      "text/plain": [
       "HBox(children=(IntProgress(value=0, description='moving_ai_Berlin_0_256_reeds_shepp_34', layout=Layout(flex='2…"
      ]
     },
     "metadata": {},
     "output_type": "display_data"
    },
    {
     "name": "stdout",
     "output_type": "stream",
     "text": [
      "\n",
      "Benchmark 15 (moving_ai_Berlin_0_256_reeds_shepp_15) finished successfully.\n",
      "Running MPB with ID moving_ai_Berlin_0_256_reeds_shepp_35 (log file at moving_ai_Berlin_0_256_reeds_shepp/moving_ai_Berlin_0_256_reeds_shepp_35.log)...\n"
     ]
    },
    {
     "data": {
      "application/vnd.jupyter.widget-view+json": {
       "model_id": "a4962638d3e84dc9ac8b1d6d67353ea7",
       "version_major": 2,
       "version_minor": 0
      },
      "text/plain": [
       "HBox(children=(IntProgress(value=0, description='moving_ai_Berlin_0_256_reeds_shepp_35', layout=Layout(flex='2…"
      ]
     },
     "metadata": {},
     "output_type": "display_data"
    },
    {
     "name": "stdout",
     "output_type": "stream",
     "text": [
      "\n"
     ]
    },
    {
     "name": "stderr",
     "output_type": "stream",
     "text": [
      "Error: results moving_ai_Berlin_0_256_reeds_shepp/moving_ai_Berlin_0_256_reeds_shepp_1_results_sbpl_arastar.json do not exist.\n",
      "Benchmark 1 (moving_ai_Berlin_0_256_reeds_shepp_1) failed. Return code: -1.\n"
     ]
    },
    {
     "name": "stdout",
     "output_type": "stream",
     "text": [
      "Running MPB with ID moving_ai_Berlin_0_256_reeds_shepp_36 (log file at moving_ai_Berlin_0_256_reeds_shepp/moving_ai_Berlin_0_256_reeds_shepp_36.log)...\n"
     ]
    },
    {
     "data": {
      "application/vnd.jupyter.widget-view+json": {
       "model_id": "ed4b9dd313ca46bb895a6c692de58600",
       "version_major": 2,
       "version_minor": 0
      },
      "text/plain": [
       "HBox(children=(IntProgress(value=0, description='moving_ai_Berlin_0_256_reeds_shepp_36', layout=Layout(flex='2…"
      ]
     },
     "metadata": {},
     "output_type": "display_data"
    },
    {
     "name": "stdout",
     "output_type": "stream",
     "text": [
      "\n",
      "Benchmark 12 (moving_ai_Berlin_0_256_reeds_shepp_12) finished successfully.\n",
      "Running MPB with ID moving_ai_Berlin_0_256_reeds_shepp_37 (log file at moving_ai_Berlin_0_256_reeds_shepp/moving_ai_Berlin_0_256_reeds_shepp_37.log)...\n"
     ]
    },
    {
     "data": {
      "application/vnd.jupyter.widget-view+json": {
       "model_id": "ad89f56e5619452b84560fffa54be5ac",
       "version_major": 2,
       "version_minor": 0
      },
      "text/plain": [
       "HBox(children=(IntProgress(value=0, description='moving_ai_Berlin_0_256_reeds_shepp_37', layout=Layout(flex='2…"
      ]
     },
     "metadata": {},
     "output_type": "display_data"
    },
    {
     "name": "stdout",
     "output_type": "stream",
     "text": [
      "\n",
      "Benchmark 8 (moving_ai_Berlin_0_256_reeds_shepp_8) finished successfully.\n",
      "Running MPB with ID moving_ai_Berlin_0_256_reeds_shepp_38 (log file at moving_ai_Berlin_0_256_reeds_shepp/moving_ai_Berlin_0_256_reeds_shepp_38.log)...\n"
     ]
    },
    {
     "data": {
      "application/vnd.jupyter.widget-view+json": {
       "model_id": "1a97cc95072e45b6bccc2f7c4e060c03",
       "version_major": 2,
       "version_minor": 0
      },
      "text/plain": [
       "HBox(children=(IntProgress(value=0, description='moving_ai_Berlin_0_256_reeds_shepp_38', layout=Layout(flex='2…"
      ]
     },
     "metadata": {},
     "output_type": "display_data"
    },
    {
     "name": "stdout",
     "output_type": "stream",
     "text": [
      "Killed moving_ai_Berlin_0_256_reeds_shepp_28 with planner sbpl_mha after 30.00s exceeded timeout.\n",
      "Benchmark 20 (moving_ai_Berlin_0_256_reeds_shepp_20) finished successfully.\n",
      "Running MPB with ID moving_ai_Berlin_0_256_reeds_shepp_39 (log file at moving_ai_Berlin_0_256_reeds_shepp/moving_ai_Berlin_0_256_reeds_shepp_39.log)...\n"
     ]
    },
    {
     "data": {
      "application/vnd.jupyter.widget-view+json": {
       "model_id": "f6e8c87165a94c0b9e2ceb8b2a4ce8c0",
       "version_major": 2,
       "version_minor": 0
      },
      "text/plain": [
       "HBox(children=(IntProgress(value=0, description='moving_ai_Berlin_0_256_reeds_shepp_39', layout=Layout(flex='2…"
      ]
     },
     "metadata": {},
     "output_type": "display_data"
    },
    {
     "name": "stdout",
     "output_type": "stream",
     "text": [
      "Benchmark 21 (moving_ai_Berlin_0_256_reeds_shepp_21) finished successfully.\n",
      "Running MPB with ID moving_ai_Berlin_0_256_reeds_shepp_40 (log file at moving_ai_Berlin_0_256_reeds_shepp/moving_ai_Berlin_0_256_reeds_shepp_40.log)...\n"
     ]
    },
    {
     "data": {
      "application/vnd.jupyter.widget-view+json": {
       "model_id": "a240af97ea514114a0ab6fa75136ee28",
       "version_major": 2,
       "version_minor": 0
      },
      "text/plain": [
       "HBox(children=(IntProgress(value=0, description='moving_ai_Berlin_0_256_reeds_shepp_40', layout=Layout(flex='2…"
      ]
     },
     "metadata": {},
     "output_type": "display_data"
    },
    {
     "name": "stdout",
     "output_type": "stream",
     "text": [
      "Running MPB with ID moving_ai_Berlin_0_256_reeds_shepp_41 (log file at moving_ai_Berlin_0_256_reeds_shepp/moving_ai_Berlin_0_256_reeds_shepp_41.log)...\n"
     ]
    },
    {
     "data": {
      "application/vnd.jupyter.widget-view+json": {
       "model_id": "b969c15282874b87b5acf50c17c5f4ce",
       "version_major": 2,
       "version_minor": 0
      },
      "text/plain": [
       "HBox(children=(IntProgress(value=0, description='moving_ai_Berlin_0_256_reeds_shepp_41', layout=Layout(flex='2…"
      ]
     },
     "metadata": {},
     "output_type": "display_data"
    },
    {
     "name": "stdout",
     "output_type": "stream",
     "text": [
      "Killed moving_ai_Berlin_0_256_reeds_shepp_22 with planner sbpl_arastar after 30.00s exceeded timeout.\n"
     ]
    },
    {
     "name": "stderr",
     "output_type": "stream",
     "text": [
      "Error (-9) occurred for MPB with ID moving_ai_Berlin_0_256_reeds_shepp_22 using planner sbpl ara*.\n"
     ]
    },
    {
     "name": "stdout",
     "output_type": "stream",
     "text": [
      "\n",
      "Benchmark 10 (moving_ai_Berlin_0_256_reeds_shepp_10) finished successfully.\n",
      "Running MPB with ID moving_ai_Berlin_0_256_reeds_shepp_42 (log file at moving_ai_Berlin_0_256_reeds_shepp/moving_ai_Berlin_0_256_reeds_shepp_42.log)...\n"
     ]
    },
    {
     "data": {
      "application/vnd.jupyter.widget-view+json": {
       "model_id": "7125dfcd247046c7be929130482731c4",
       "version_major": 2,
       "version_minor": 0
      },
      "text/plain": [
       "HBox(children=(IntProgress(value=0, description='moving_ai_Berlin_0_256_reeds_shepp_42', layout=Layout(flex='2…"
      ]
     },
     "metadata": {},
     "output_type": "display_data"
    },
    {
     "name": "stdout",
     "output_type": "stream",
     "text": [
      "Killed moving_ai_Berlin_0_256_reeds_shepp_35 with planner sbpl_arastar after 30.01s exceeded timeout.\n",
      "Killed moving_ai_Berlin_0_256_reeds_shepp_22 with planner sbpl_adstar after 30.02s exceeded timeout.\n"
     ]
    },
    {
     "name": "stderr",
     "output_type": "stream",
     "text": [
      "Error (-9) occurred for MPB with ID moving_ai_Berlin_0_256_reeds_shepp_22 using planner sbpl ad*.\n"
     ]
    },
    {
     "name": "stdout",
     "output_type": "stream",
     "text": [
      "Killed moving_ai_Berlin_0_256_reeds_shepp_39 with planner sbpl_mha after 30.00s exceeded timeout.\n",
      "Killed moving_ai_Berlin_0_256_reeds_shepp_33 with planner sbpl_mha after 30.01s exceeded timeout.\n",
      "Killed moving_ai_Berlin_0_256_reeds_shepp_27 with planner sbpl_arastar after 30.02s exceeded timeout.\n",
      "Killed moving_ai_Berlin_0_256_reeds_shepp_40 with planner sbpl_arastar after 30.01s exceeded timeout.\n",
      "\n",
      "Benchmark 23 (moving_ai_Berlin_0_256_reeds_shepp_23) finished successfully.\n",
      "Running MPB with ID moving_ai_Berlin_0_256_reeds_shepp_43 (log file at moving_ai_Berlin_0_256_reeds_shepp/moving_ai_Berlin_0_256_reeds_shepp_43.log)...\n"
     ]
    },
    {
     "data": {
      "application/vnd.jupyter.widget-view+json": {
       "model_id": "8a460749d1d04d8db28747a7138d1e5f",
       "version_major": 2,
       "version_minor": 0
      },
      "text/plain": [
       "HBox(children=(IntProgress(value=0, description='moving_ai_Berlin_0_256_reeds_shepp_43', layout=Layout(flex='2…"
      ]
     },
     "metadata": {},
     "output_type": "display_data"
    },
    {
     "name": "stdout",
     "output_type": "stream",
     "text": [
      "\n",
      "Benchmark 30 (moving_ai_Berlin_0_256_reeds_shepp_30) finished successfully.\n",
      "Running MPB with ID moving_ai_Berlin_0_256_reeds_shepp_44 (log file at moving_ai_Berlin_0_256_reeds_shepp/moving_ai_Berlin_0_256_reeds_shepp_44.log)...\n"
     ]
    },
    {
     "data": {
      "application/vnd.jupyter.widget-view+json": {
       "model_id": "3b5ae8b90efd447c9032b3ea17b3c123",
       "version_major": 2,
       "version_minor": 0
      },
      "text/plain": [
       "HBox(children=(IntProgress(value=0, description='moving_ai_Berlin_0_256_reeds_shepp_44', layout=Layout(flex='2…"
      ]
     },
     "metadata": {},
     "output_type": "display_data"
    },
    {
     "name": "stdout",
     "output_type": "stream",
     "text": [
      "\n",
      "Benchmark 31 (moving_ai_Berlin_0_256_reeds_shepp_31) finished successfully.\n",
      "Running MPB with ID moving_ai_Berlin_0_256_reeds_shepp_45 (log file at moving_ai_Berlin_0_256_reeds_shepp/moving_ai_Berlin_0_256_reeds_shepp_45.log)...\n"
     ]
    },
    {
     "data": {
      "application/vnd.jupyter.widget-view+json": {
       "model_id": "9836b6ea98874eee80d8fc3aaba3b2a2",
       "version_major": 2,
       "version_minor": 0
      },
      "text/plain": [
       "HBox(children=(IntProgress(value=0, description='moving_ai_Berlin_0_256_reeds_shepp_45', layout=Layout(flex='2…"
      ]
     },
     "metadata": {},
     "output_type": "display_data"
    },
    {
     "name": "stdout",
     "output_type": "stream",
     "text": [
      "Killed moving_ai_Berlin_0_256_reeds_shepp_25 with planner sbpl_adstar after 30.02s exceeded timeout.\n"
     ]
    },
    {
     "name": "stderr",
     "output_type": "stream",
     "text": [
      "Error (-9) occurred for MPB with ID moving_ai_Berlin_0_256_reeds_shepp_25 using planner sbpl ad*.\n"
     ]
    },
    {
     "name": "stdout",
     "output_type": "stream",
     "text": [
      "\n"
     ]
    },
    {
     "name": "stderr",
     "output_type": "stream",
     "text": [
      "Benchmark 25 (moving_ai_Berlin_0_256_reeds_shepp_25) failed. Return code: -1.\n"
     ]
    },
    {
     "name": "stdout",
     "output_type": "stream",
     "text": [
      "Running MPB with ID moving_ai_Berlin_0_256_reeds_shepp_46 (log file at moving_ai_Berlin_0_256_reeds_shepp/moving_ai_Berlin_0_256_reeds_shepp_46.log)...\n"
     ]
    },
    {
     "data": {
      "application/vnd.jupyter.widget-view+json": {
       "model_id": "9cddb6f76a6048b9aaf9951c7a4fc9e2",
       "version_major": 2,
       "version_minor": 0
      },
      "text/plain": [
       "HBox(children=(IntProgress(value=0, description='moving_ai_Berlin_0_256_reeds_shepp_46', layout=Layout(flex='2…"
      ]
     },
     "metadata": {},
     "output_type": "display_data"
    },
    {
     "name": "stdout",
     "output_type": "stream",
     "text": [
      "\n"
     ]
    },
    {
     "name": "stderr",
     "output_type": "stream",
     "text": [
      "Error: results moving_ai_Berlin_0_256_reeds_shepp/moving_ai_Berlin_0_256_reeds_shepp_27_results_sbpl_arastar.json do not exist.\n"
     ]
    },
    {
     "name": "stdout",
     "output_type": "stream",
     "text": [
      "Benchmark 27 (moving_ai_Berlin_0_256_reeds_shepp_27) finished successfully.\n",
      "Running MPB with ID moving_ai_Berlin_0_256_reeds_shepp_47 (log file at moving_ai_Berlin_0_256_reeds_shepp/moving_ai_Berlin_0_256_reeds_shepp_47.log)...\n"
     ]
    },
    {
     "data": {
      "application/vnd.jupyter.widget-view+json": {
       "model_id": "63593b0303f54e188b4d2500c189f644",
       "version_major": 2,
       "version_minor": 0
      },
      "text/plain": [
       "HBox(children=(IntProgress(value=0, description='moving_ai_Berlin_0_256_reeds_shepp_47', layout=Layout(flex='2…"
      ]
     },
     "metadata": {},
     "output_type": "display_data"
    },
    {
     "name": "stdout",
     "output_type": "stream",
     "text": [
      "Killed moving_ai_Berlin_0_256_reeds_shepp_35 with planner sbpl_mha after 30.01s exceeded timeout.\n"
     ]
    },
    {
     "name": "stderr",
     "output_type": "stream",
     "text": [
      "Error (-9) occurred for MPB with ID moving_ai_Berlin_0_256_reeds_shepp_35 using planner sbpl mha.\n"
     ]
    },
    {
     "name": "stdout",
     "output_type": "stream",
     "text": [
      "\n",
      "Benchmark 32 (moving_ai_Berlin_0_256_reeds_shepp_32) finished successfully.\n",
      "Running MPB with ID moving_ai_Berlin_0_256_reeds_shepp_48 (log file at moving_ai_Berlin_0_256_reeds_shepp/moving_ai_Berlin_0_256_reeds_shepp_48.log)...\n"
     ]
    },
    {
     "data": {
      "application/vnd.jupyter.widget-view+json": {
       "model_id": "39fe186f28c043beae173d43fbdec29d",
       "version_major": 2,
       "version_minor": 0
      },
      "text/plain": [
       "HBox(children=(IntProgress(value=0, description='moving_ai_Berlin_0_256_reeds_shepp_48', layout=Layout(flex='2…"
      ]
     },
     "metadata": {},
     "output_type": "display_data"
    },
    {
     "name": "stdout",
     "output_type": "stream",
     "text": [
      "\n",
      "Benchmark 36 (moving_ai_Berlin_0_256_reeds_shepp_36) finished successfully.\n",
      "Running MPB with ID moving_ai_Berlin_0_256_reeds_shepp_49 (log file at moving_ai_Berlin_0_256_reeds_shepp/moving_ai_Berlin_0_256_reeds_shepp_49.log)...\n"
     ]
    },
    {
     "data": {
      "application/vnd.jupyter.widget-view+json": {
       "model_id": "754f5cd5b79644db8056827dfadb3687",
       "version_major": 2,
       "version_minor": 0
      },
      "text/plain": [
       "HBox(children=(IntProgress(value=0, description='moving_ai_Berlin_0_256_reeds_shepp_49', layout=Layout(flex='2…"
      ]
     },
     "metadata": {},
     "output_type": "display_data"
    },
    {
     "name": "stdout",
     "output_type": "stream",
     "text": [
      "\n",
      "Benchmark 24 (moving_ai_Berlin_0_256_reeds_shepp_24) finished successfully.\n",
      "\n",
      "Benchmark 37 (moving_ai_Berlin_0_256_reeds_shepp_37) finished successfully.\n",
      "Killed moving_ai_Berlin_0_256_reeds_shepp_22 with planner sbpl_mha after 30.01s exceeded timeout.\n"
     ]
    },
    {
     "name": "stderr",
     "output_type": "stream",
     "text": [
      "Error (-9) occurred for MPB with ID moving_ai_Berlin_0_256_reeds_shepp_22 using planner sbpl mha.\n"
     ]
    },
    {
     "name": "stdout",
     "output_type": "stream",
     "text": [
      "\n"
     ]
    },
    {
     "name": "stderr",
     "output_type": "stream",
     "text": [
      "Benchmark 22 (moving_ai_Berlin_0_256_reeds_shepp_22) failed. Return code: -1.\n"
     ]
    },
    {
     "name": "stdout",
     "output_type": "stream",
     "text": [
      "\n",
      "Benchmark 26 (moving_ai_Berlin_0_256_reeds_shepp_26) finished successfully.\n",
      "\n",
      "Benchmark 34 (moving_ai_Berlin_0_256_reeds_shepp_34) finished successfully.\n",
      "\n",
      "Benchmark 29 (moving_ai_Berlin_0_256_reeds_shepp_29) finished successfully.\n",
      "\n",
      "Benchmark 38 (moving_ai_Berlin_0_256_reeds_shepp_38) finished successfully.\n",
      "Killed moving_ai_Berlin_0_256_reeds_shepp_43 with planner sbpl_arastar after 30.00s exceeded timeout.\n"
     ]
    },
    {
     "name": "stderr",
     "output_type": "stream",
     "text": [
      "Error (-9) occurred for MPB with ID moving_ai_Berlin_0_256_reeds_shepp_43 using planner sbpl ara*.\n"
     ]
    },
    {
     "name": "stdout",
     "output_type": "stream",
     "text": [
      "Killed moving_ai_Berlin_0_256_reeds_shepp_45 with planner sbpl_arastar after 30.00s exceeded timeout.\n"
     ]
    },
    {
     "name": "stderr",
     "output_type": "stream",
     "text": [
      "Error (-9) occurred for MPB with ID moving_ai_Berlin_0_256_reeds_shepp_45 using planner sbpl ara*.\n"
     ]
    },
    {
     "name": "stdout",
     "output_type": "stream",
     "text": [
      "\n"
     ]
    },
    {
     "name": "stderr",
     "output_type": "stream",
     "text": [
      "Error: results moving_ai_Berlin_0_256_reeds_shepp/moving_ai_Berlin_0_256_reeds_shepp_33_results_sbpl_mha.json do not exist.\n"
     ]
    },
    {
     "name": "stdout",
     "output_type": "stream",
     "text": [
      "Benchmark 33 (moving_ai_Berlin_0_256_reeds_shepp_33) finished successfully.\n",
      "Killed moving_ai_Berlin_0_256_reeds_shepp_35 with planner sbpl_adstar after 30.00s exceeded timeout.\n"
     ]
    },
    {
     "name": "stderr",
     "output_type": "stream",
     "text": [
      "Error (-9) occurred for MPB with ID moving_ai_Berlin_0_256_reeds_shepp_35 using planner sbpl ad*.\n"
     ]
    },
    {
     "name": "stdout",
     "output_type": "stream",
     "text": [
      "\n"
     ]
    },
    {
     "name": "stderr",
     "output_type": "stream",
     "text": [
      "Error: results moving_ai_Berlin_0_256_reeds_shepp/moving_ai_Berlin_0_256_reeds_shepp_35_results_sbpl_arastar.json do not exist.\n",
      "Benchmark 35 (moving_ai_Berlin_0_256_reeds_shepp_35) failed. Return code: -1.\n"
     ]
    },
    {
     "name": "stdout",
     "output_type": "stream",
     "text": [
      "Benchmark 41 (moving_ai_Berlin_0_256_reeds_shepp_41) finished successfully.\n"
     ]
    },
    {
     "name": "stderr",
     "output_type": "stream",
     "text": [
      "Error: results moving_ai_Berlin_0_256_reeds_shepp/moving_ai_Berlin_0_256_reeds_shepp_40_results_sbpl_arastar.json do not exist.\n"
     ]
    },
    {
     "name": "stdout",
     "output_type": "stream",
     "text": [
      "Benchmark 40 (moving_ai_Berlin_0_256_reeds_shepp_40) finished successfully.\n"
     ]
    },
    {
     "name": "stderr",
     "output_type": "stream",
     "text": [
      "Error: results moving_ai_Berlin_0_256_reeds_shepp/moving_ai_Berlin_0_256_reeds_shepp_39_results_sbpl_mha.json do not exist.\n"
     ]
    },
    {
     "name": "stdout",
     "output_type": "stream",
     "text": [
      "Benchmark 39 (moving_ai_Berlin_0_256_reeds_shepp_39) finished successfully.\n",
      "\n",
      "Benchmark 42 (moving_ai_Berlin_0_256_reeds_shepp_42) finished successfully.\n",
      "Killed moving_ai_Berlin_0_256_reeds_shepp_48 with planner sbpl_adstar after 30.00s exceeded timeout.\n"
     ]
    },
    {
     "name": "stderr",
     "output_type": "stream",
     "text": [
      "Error (-9) occurred for MPB with ID moving_ai_Berlin_0_256_reeds_shepp_48 using planner sbpl ad*.\n"
     ]
    },
    {
     "name": "stdout",
     "output_type": "stream",
     "text": [
      "Killed moving_ai_Berlin_0_256_reeds_shepp_48 with planner sbpl_arastar after 30.00s exceeded timeout.\n"
     ]
    },
    {
     "name": "stderr",
     "output_type": "stream",
     "text": [
      "Error (-9) occurred for MPB with ID moving_ai_Berlin_0_256_reeds_shepp_48 using planner sbpl ara*.\n"
     ]
    },
    {
     "name": "stdout",
     "output_type": "stream",
     "text": [
      "\n",
      "Benchmark 44 (moving_ai_Berlin_0_256_reeds_shepp_44) finished successfully.\n",
      "\n",
      "Benchmark 46 (moving_ai_Berlin_0_256_reeds_shepp_46) finished successfully.\n",
      "\n",
      "Benchmark 49 (moving_ai_Berlin_0_256_reeds_shepp_49) finished successfully.\n",
      "\n",
      "Benchmark 47 (moving_ai_Berlin_0_256_reeds_shepp_47) finished successfully.\n",
      "Killed moving_ai_Berlin_0_256_reeds_shepp_48 with planner sbpl_mha after 30.00s exceeded timeout.\n"
     ]
    },
    {
     "name": "stderr",
     "output_type": "stream",
     "text": [
      "Error (-9) occurred for MPB with ID moving_ai_Berlin_0_256_reeds_shepp_48 using planner sbpl mha.\n"
     ]
    },
    {
     "name": "stdout",
     "output_type": "stream",
     "text": [
      "\n"
     ]
    },
    {
     "name": "stderr",
     "output_type": "stream",
     "text": [
      "Benchmark 48 (moving_ai_Berlin_0_256_reeds_shepp_48) failed. Return code: -1.\n"
     ]
    },
    {
     "ename": "TypeError",
     "evalue": "'NoneType' object is not subscriptable",
     "output_type": "error",
     "traceback": [
      "\u001b[0;31m---------------------------------------------------------------------------\u001b[0m",
      "\u001b[0;31mRemoteTraceback\u001b[0m                           Traceback (most recent call last)",
      "\u001b[0;31mRemoteTraceback\u001b[0m: \n\"\"\"\nTraceback (most recent call last):\n  File \"/usr/lib/python3.6/multiprocessing/pool.py\", line 119, in worker\n    result = (True, func(*args, **kwds))\n  File \"/usr/lib/python3.6/multiprocessing/pool.py\", line 44, in mapstar\n    return list(map(*args))\n  File \"/root/code/mpb/plotting/mpb.py\", line 366, in run_\n    show_progress_bar=True)\n  File \"/root/code/mpb/plotting/mpb.py\", line 238, in run\n    MPB.merge([self.results_filename, results_filename], self.results_filename, silence=True)\n  File \"/root/code/mpb/plotting/mpb.py\", line 318, in merge\n    if run_id >= len(target[\"runs\"]):\nTypeError: 'NoneType' object is not subscriptable\n\"\"\"",
      "\nThe above exception was the direct cause of the following exception:\n",
      "\u001b[0;31mTypeError\u001b[0m                                 Traceback (most recent call last)",
      "\u001b[0;32m<ipython-input-3-1ab64cc5f4f2>\u001b[0m in \u001b[0;36m<module>\u001b[0;34m\u001b[0m\n\u001b[1;32m     12\u001b[0m \u001b[0;34m\u001b[0m\u001b[0m\n\u001b[1;32m     13\u001b[0m \u001b[0;32mfor\u001b[0m \u001b[0msteer_function\u001b[0m\u001b[0;34m,\u001b[0m \u001b[0mtime_limit\u001b[0m \u001b[0;32min\u001b[0m \u001b[0msteer_function_times\u001b[0m\u001b[0;34m:\u001b[0m\u001b[0;34m\u001b[0m\u001b[0;34m\u001b[0m\u001b[0m\n\u001b[0;32m---> 14\u001b[0;31m     \u001b[0mbenchmark_moving_ai\u001b[0m\u001b[0;34m(\u001b[0m\u001b[0mscenario\u001b[0m\u001b[0;34m,\u001b[0m \u001b[0mnum_scenarios\u001b[0m\u001b[0;34m,\u001b[0m \u001b[0msteer_function\u001b[0m\u001b[0;34m,\u001b[0m \u001b[0mtime_limit\u001b[0m\u001b[0;34m)\u001b[0m\u001b[0;34m\u001b[0m\u001b[0;34m\u001b[0m\u001b[0m\n\u001b[0m",
      "\u001b[0;32m<ipython-input-2-023f09dc2775>\u001b[0m in \u001b[0;36mbenchmark_moving_ai\u001b[0;34m(scenario, num_scenarios, steer_function, time_limit)\u001b[0m\n\u001b[1;32m     27\u001b[0m         \u001b[0mpool\u001b[0m\u001b[0;34m.\u001b[0m\u001b[0mbenchmarks\u001b[0m\u001b[0;34m.\u001b[0m\u001b[0mappend\u001b[0m\u001b[0;34m(\u001b[0m\u001b[0mm\u001b[0m\u001b[0;34m)\u001b[0m\u001b[0;34m\u001b[0m\u001b[0;34m\u001b[0m\u001b[0m\n\u001b[1;32m     28\u001b[0m     \u001b[0mbench\u001b[0m \u001b[0;34m=\u001b[0m \u001b[0;34m\"moving_ai_%s_%s\"\u001b[0m \u001b[0;34m%\u001b[0m \u001b[0;34m(\u001b[0m\u001b[0mscenario\u001b[0m\u001b[0;34m,\u001b[0m \u001b[0msteer_function\u001b[0m\u001b[0;34m)\u001b[0m\u001b[0;34m\u001b[0m\u001b[0;34m\u001b[0m\u001b[0m\n\u001b[0;32m---> 29\u001b[0;31m     \u001b[0mrun_result\u001b[0m \u001b[0;34m=\u001b[0m \u001b[0mpool\u001b[0m\u001b[0;34m.\u001b[0m\u001b[0mrun_parallel\u001b[0m\u001b[0;34m(\u001b[0m\u001b[0mbench\u001b[0m\u001b[0;34m,\u001b[0m \u001b[0mprocesses\u001b[0m\u001b[0;34m=\u001b[0m\u001b[0;36m20\u001b[0m\u001b[0;34m,\u001b[0m \u001b[0mlimit_memory\u001b[0m\u001b[0;34m=\u001b[0m\u001b[0;32mTrue\u001b[0m\u001b[0;34m)\u001b[0m\u001b[0;34m\u001b[0m\u001b[0;34m\u001b[0m\u001b[0m\n\u001b[0m\u001b[1;32m     30\u001b[0m \u001b[0;34m\u001b[0m\u001b[0m\n\u001b[1;32m     31\u001b[0m     \u001b[0;31m# plot trajectories\u001b[0m\u001b[0;34m\u001b[0m\u001b[0;34m\u001b[0m\u001b[0;34m\u001b[0m\u001b[0m\n",
      "\u001b[0;32m~/code/mpb/plotting/mpb.py\u001b[0m in \u001b[0;36mrun_parallel\u001b[0;34m(self, id, use_subfolder, runs, processes, limit_memory)\u001b[0m\n\u001b[1;32m    419\u001b[0m                                    \u001b[0mids\u001b[0m\u001b[0;34m,\u001b[0m\u001b[0;34m\u001b[0m\u001b[0;34m\u001b[0m\u001b[0m\n\u001b[1;32m    420\u001b[0m                                    \u001b[0;34m[\u001b[0m\u001b[0mself\u001b[0m\u001b[0;34m.\u001b[0m\u001b[0msubfolder\u001b[0m\u001b[0;34m]\u001b[0m \u001b[0;34m*\u001b[0m \u001b[0mlen\u001b[0m\u001b[0;34m(\u001b[0m\u001b[0mself\u001b[0m\u001b[0;34m.\u001b[0m\u001b[0mbenchmarks\u001b[0m\u001b[0;34m)\u001b[0m\u001b[0;34m,\u001b[0m\u001b[0;34m\u001b[0m\u001b[0;34m\u001b[0m\u001b[0m\n\u001b[0;32m--> 421\u001b[0;31m                                    [memory_limit] * len(self.benchmarks)))\n\u001b[0m\u001b[1;32m    422\u001b[0m             \u001b[0;32mif\u001b[0m \u001b[0mall\u001b[0m\u001b[0;34m(\u001b[0m\u001b[0;34m[\u001b[0m\u001b[0mr\u001b[0m \u001b[0;34m==\u001b[0m \u001b[0;36m0\u001b[0m \u001b[0;32mfor\u001b[0m \u001b[0mr\u001b[0m \u001b[0;32min\u001b[0m \u001b[0mresults\u001b[0m\u001b[0;34m]\u001b[0m\u001b[0;34m)\u001b[0m\u001b[0;34m:\u001b[0m\u001b[0;34m\u001b[0m\u001b[0;34m\u001b[0m\u001b[0m\n\u001b[1;32m    423\u001b[0m                 \u001b[0mprint\u001b[0m\u001b[0;34m(\u001b[0m\u001b[0;34m\"All benchmarks succeeded.\"\u001b[0m\u001b[0;34m)\u001b[0m\u001b[0;34m\u001b[0m\u001b[0;34m\u001b[0m\u001b[0m\n",
      "\u001b[0;32m/usr/lib/python3.6/multiprocessing/pool.py\u001b[0m in \u001b[0;36mmap\u001b[0;34m(self, func, iterable, chunksize)\u001b[0m\n\u001b[1;32m    264\u001b[0m         \u001b[0;32min\u001b[0m \u001b[0ma\u001b[0m \u001b[0mlist\u001b[0m \u001b[0mthat\u001b[0m \u001b[0;32mis\u001b[0m \u001b[0mreturned\u001b[0m\u001b[0;34m.\u001b[0m\u001b[0;34m\u001b[0m\u001b[0;34m\u001b[0m\u001b[0m\n\u001b[1;32m    265\u001b[0m         '''\n\u001b[0;32m--> 266\u001b[0;31m         \u001b[0;32mreturn\u001b[0m \u001b[0mself\u001b[0m\u001b[0;34m.\u001b[0m\u001b[0m_map_async\u001b[0m\u001b[0;34m(\u001b[0m\u001b[0mfunc\u001b[0m\u001b[0;34m,\u001b[0m \u001b[0miterable\u001b[0m\u001b[0;34m,\u001b[0m \u001b[0mmapstar\u001b[0m\u001b[0;34m,\u001b[0m \u001b[0mchunksize\u001b[0m\u001b[0;34m)\u001b[0m\u001b[0;34m.\u001b[0m\u001b[0mget\u001b[0m\u001b[0;34m(\u001b[0m\u001b[0;34m)\u001b[0m\u001b[0;34m\u001b[0m\u001b[0;34m\u001b[0m\u001b[0m\n\u001b[0m\u001b[1;32m    267\u001b[0m \u001b[0;34m\u001b[0m\u001b[0m\n\u001b[1;32m    268\u001b[0m     \u001b[0;32mdef\u001b[0m \u001b[0mstarmap\u001b[0m\u001b[0;34m(\u001b[0m\u001b[0mself\u001b[0m\u001b[0;34m,\u001b[0m \u001b[0mfunc\u001b[0m\u001b[0;34m,\u001b[0m \u001b[0miterable\u001b[0m\u001b[0;34m,\u001b[0m \u001b[0mchunksize\u001b[0m\u001b[0;34m=\u001b[0m\u001b[0;32mNone\u001b[0m\u001b[0;34m)\u001b[0m\u001b[0;34m:\u001b[0m\u001b[0;34m\u001b[0m\u001b[0;34m\u001b[0m\u001b[0m\n",
      "\u001b[0;32m/usr/lib/python3.6/multiprocessing/pool.py\u001b[0m in \u001b[0;36mget\u001b[0;34m(self, timeout)\u001b[0m\n\u001b[1;32m    642\u001b[0m             \u001b[0;32mreturn\u001b[0m \u001b[0mself\u001b[0m\u001b[0;34m.\u001b[0m\u001b[0m_value\u001b[0m\u001b[0;34m\u001b[0m\u001b[0;34m\u001b[0m\u001b[0m\n\u001b[1;32m    643\u001b[0m         \u001b[0;32melse\u001b[0m\u001b[0;34m:\u001b[0m\u001b[0;34m\u001b[0m\u001b[0;34m\u001b[0m\u001b[0m\n\u001b[0;32m--> 644\u001b[0;31m             \u001b[0;32mraise\u001b[0m \u001b[0mself\u001b[0m\u001b[0;34m.\u001b[0m\u001b[0m_value\u001b[0m\u001b[0;34m\u001b[0m\u001b[0;34m\u001b[0m\u001b[0m\n\u001b[0m\u001b[1;32m    645\u001b[0m \u001b[0;34m\u001b[0m\u001b[0m\n\u001b[1;32m    646\u001b[0m     \u001b[0;32mdef\u001b[0m \u001b[0m_set\u001b[0m\u001b[0;34m(\u001b[0m\u001b[0mself\u001b[0m\u001b[0;34m,\u001b[0m \u001b[0mi\u001b[0m\u001b[0;34m,\u001b[0m \u001b[0mobj\u001b[0m\u001b[0;34m)\u001b[0m\u001b[0;34m:\u001b[0m\u001b[0;34m\u001b[0m\u001b[0;34m\u001b[0m\u001b[0m\n",
      "\u001b[0;31mTypeError\u001b[0m: 'NoneType' object is not subscriptable"
     ]
    }
   ],
   "source": [
    "scenario = 'Berlin_0_256' #'Boston_1_1024'\n",
    "num_scenarios = 50\n",
    "\n",
    "time_limit_multiplier = 1.\n",
    "\n",
    "steer_function_times = [\n",
    "    ('reeds_shepp', 15 * time_limit_multiplier),    \n",
    "    ('dubins', 45 * time_limit_multiplier),    \n",
    "    ('cc_reeds_shepp', 1.5 * 60 * time_limit_multiplier),    \n",
    "    ('posq', 120 * time_limit_multiplier)\n",
    "]\n",
    "\n",
    "for steer_function, time_limit in steer_function_times:\n",
    "    benchmark_moving_ai(scenario, num_scenarios, steer_function, time_limit)"
   ]
  },
  {
   "cell_type": "code",
   "execution_count": null,
   "metadata": {},
   "outputs": [],
   "source": [
    "pool.visualize_trajectories(show_legend=True)"
   ]
  },
  {
   "cell_type": "code",
   "execution_count": null,
   "metadata": {},
   "outputs": [],
   "source": [
    "pool.benchmarks[19].visualize_trajectories(fig_width=20, fig_height=20)"
   ]
  }
 ],
 "metadata": {
  "kernelspec": {
   "display_name": "Python 3",
   "language": "python",
   "name": "python3"
  },
  "language_info": {
   "codemirror_mode": {
    "name": "ipython",
    "version": 3
   },
   "file_extension": ".py",
   "mimetype": "text/x-python",
   "name": "python",
   "nbconvert_exporter": "python",
   "pygments_lexer": "ipython3",
   "version": "3.6.8"
  }
 },
 "nbformat": 4,
 "nbformat_minor": 4
}
