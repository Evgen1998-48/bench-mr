{
 "cells": [
  {
   "cell_type": "code",
   "execution_count": 2,
   "metadata": {},
   "outputs": [],
   "source": [
    "import matplotlib as mpl\n",
    "mpl.rcParams['mathtext.fontset'] = 'cm'\n",
    "# make sure to not use Level-3 fonts\n",
    "mpl.rcParams['pdf.fonttype'] = 42\n",
    "\n",
    "import json\n",
    "import numpy as np\n",
    "from color import get_color, get_colors\n",
    "import matplotlib.pyplot as plt"
   ]
  },
  {
   "cell_type": "code",
   "execution_count": 56,
   "metadata": {},
   "outputs": [
    {
     "name": "stdout",
     "output_type": "stream",
     "text": [
      "The autoreload extension is already loaded. To reload it, use:\n",
      "  %reload_ext autoreload\n"
     ]
    }
   ],
   "source": [
    "%load_ext autoreload\n",
    "%autoreload 2\n",
    "from retrieve import retrieve_planner_stats_by_run, retrieve_planner_stats_by_steering\n",
    "from definitions import steer_function_names, stat_names\n",
    "from utils import convert_planner_name"
   ]
  },
  {
   "cell_type": "code",
   "execution_count": 57,
   "metadata": {},
   "outputs": [
    {
     "data": {
      "text/plain": [
       "{1: {'CForest': {'curvature': 0.25000000624711,\n",
       "   'exact_goal_path': True,\n",
       "   'max_clearing_distance': 45.9055487119625,\n",
       "   'mean_clearing_distance': 10.0883382485791,\n",
       "   'median_clearing_distance': 7.3469157439169,\n",
       "   'min_clearing_distance': 0.0,\n",
       "   'path_collides': True,\n",
       "   'path_found': True,\n",
       "   'path_length': 392.056985657146,\n",
       "   'planner': 'CForest',\n",
       "   'planning_time': 15.01187618,\n",
       "   'smoothness': 0.0548816558251779,\n",
       "   'steer_function': 1,\n",
       "   'run_id': 1,\n",
       "   'intermediary': []}}}"
      ]
     },
     "execution_count": 57,
     "metadata": {},
     "output_type": "execute_result"
    }
   ],
   "source": [
    "retrieve_planner_stats_by_run('../results/movingai_berlin_256.json', planners='CForest', run_id='1')"
   ]
  },
  {
   "cell_type": "markdown",
   "metadata": {},
   "source": [
    "## Stats by Steer Function"
   ]
  },
  {
   "cell_type": "code",
   "execution_count": 58,
   "metadata": {},
   "outputs": [
    {
     "data": {
      "image/png": "[encoded data removed]",
      "text/plain": [
       "<Figure size 576x360 with 1 Axes>"
      ]
     },
     "metadata": {
      "needs_background": "light"
     },
     "output_type": "display_data"
    }
   ],
   "source": [
    "%reload_ext autoreload\n",
    "scenario = '../results/warehouse.json'\n",
    "metric = 'curvature'\n",
    "steer_funcs = [\n",
    "    'reeds_shepp',\n",
    "    'dubins',\n",
    "#     'posq',\n",
    "#     'clothoid',\n",
    "#     'linear',\n",
    "#     'cc_dubins',\n",
    "    'hc_reeds_shepp',\n",
    "    'cc_reeds_shepp'\n",
    "]\n",
    "ignored_planners = [\n",
    "    'SBPL', 'SST'\n",
    "]\n",
    "expected_number_of_planners = 15\n",
    "found_planners = []\n",
    "stats_by_steering = retrieve_planner_stats_by_steering(scenario, steer_funcs=','.join(steer_funcs))\n",
    "sf_counter = 0\n",
    "plt.figure(figsize=(8, 5))\n",
    "for si, (sf, steering) in enumerate(stats_by_steering.items()):\n",
    "    for planner, stats in steering.items():\n",
    "        if planner in ignored_planners:\n",
    "            continue\n",
    "        if planner not in found_planners:\n",
    "            found_planners.append(planner)\n",
    "        pi = found_planners.index(planner)\n",
    "        values = [v[metric] for v in stats.values() if v[\"exact_goal_path\"]]\n",
    "        xs = np.ones(len(values)) * (0.5 + sf_counter + (pi - expected_number_of_planners / 2) / 20)\n",
    "        if sf_counter == 0:\n",
    "            plt.scatter([], [], color=get_color(pi, num_colors=20), label=convert_planner_name(planner))\n",
    "        plt.scatter(xs, values, color=get_color(pi, num_colors=20), s=5)\n",
    "    sf_counter += 1\n",
    "\n",
    "xs = 0.5 + np.arange(len(steer_funcs))\n",
    "xlabels = [steer_function_names[s] for s in steer_funcs]\n",
    "plt.xticks(xs, xlabels, rotation=40)\n",
    "plt.gca().set_axisbelow(True)\n",
    "plt.grid()\n",
    "plt.gca().set_xlim([-0.5, len(steer_funcs) + 0.5])\n",
    "plt.title(stat_names[metric]);\n",
    "\n",
    "# Shrink current axis by 20%\n",
    "ax = plt.gca()\n",
    "box = ax.get_position()\n",
    "ax.set_position([box.x0, box.y0, box.width * 0.8, box.height])\n",
    "\n",
    "# Put a legend to the right of the current axis\n",
    "ax.legend(loc='center left', bbox_to_anchor=(1, 0.5));\n",
    "plt.savefig('curvature_warehouse.png', dpi=300, bbox_inches='tight')"
   ]
  },
  {
   "cell_type": "markdown",
   "metadata": {},
   "source": [
    "## Stats over different runs with one steer function"
   ]
  },
  {
   "cell_type": "code",
   "execution_count": 59,
   "metadata": {},
   "outputs": [
    {
     "ename": "FileNotFoundError",
     "evalue": "[Errno 2] No such file or directory: '../results/turning_radius2.000000'",
     "output_type": "error",
     "traceback": [
      "\u001b[0;31m---------------------------------------------------------------------------\u001b[0m",
      "\u001b[0;31mFileNotFoundError\u001b[0m                         Traceback (most recent call last)",
      "\u001b[0;32m<ipython-input-59-9e1725d6ebe0>\u001b[0m in \u001b[0;36m<module>\u001b[0;34m\u001b[0m\n\u001b[1;32m     14\u001b[0m \u001b[0;34m\u001b[0m\u001b[0m\n\u001b[1;32m     15\u001b[0m \u001b[0;32mfor\u001b[0m \u001b[0msi\u001b[0m\u001b[0;34m,\u001b[0m \u001b[0;34m(\u001b[0m\u001b[0mscenario_parameter\u001b[0m\u001b[0;34m,\u001b[0m \u001b[0mscenario\u001b[0m\u001b[0;34m)\u001b[0m \u001b[0;32min\u001b[0m \u001b[0menumerate\u001b[0m\u001b[0;34m(\u001b[0m\u001b[0mzip\u001b[0m\u001b[0;34m(\u001b[0m\u001b[0mscenario_parameters\u001b[0m\u001b[0;34m,\u001b[0m \u001b[0mscenarios\u001b[0m\u001b[0;34m)\u001b[0m\u001b[0;34m)\u001b[0m\u001b[0;34m:\u001b[0m\u001b[0;34m\u001b[0m\u001b[0m\n\u001b[0;32m---> 16\u001b[0;31m     \u001b[0mstats_by_steering\u001b[0m \u001b[0;34m=\u001b[0m \u001b[0mretrieve_planner_stats_by_steering\u001b[0m\u001b[0;34m(\u001b[0m\u001b[0mscenario\u001b[0m\u001b[0;34m,\u001b[0m \u001b[0msteer_funcs\u001b[0m\u001b[0;34m=\u001b[0m\u001b[0msteer_func\u001b[0m\u001b[0;34m)\u001b[0m\u001b[0;34m\u001b[0m\u001b[0m\n\u001b[0m\u001b[1;32m     17\u001b[0m     \u001b[0msteering\u001b[0m \u001b[0;34m=\u001b[0m \u001b[0mlist\u001b[0m\u001b[0;34m(\u001b[0m\u001b[0mstats_by_steering\u001b[0m\u001b[0;34m.\u001b[0m\u001b[0mvalues\u001b[0m\u001b[0;34m(\u001b[0m\u001b[0;34m)\u001b[0m\u001b[0;34m)\u001b[0m\u001b[0;34m[\u001b[0m\u001b[0;36m0\u001b[0m\u001b[0;34m]\u001b[0m\u001b[0;34m\u001b[0m\u001b[0m\n\u001b[1;32m     18\u001b[0m \u001b[0;31m#     print(steering)\u001b[0m\u001b[0;34m\u001b[0m\u001b[0;34m\u001b[0m\u001b[0m\n",
      "\u001b[0;32m~/mpb/plotting/retrieve.py\u001b[0m in \u001b[0;36mretrieve_planner_stats_by_steering\u001b[0;34m(json_file, steer_funcs, planners, run_id)\u001b[0m\n\u001b[1;32m     32\u001b[0m def retrieve_planner_stats_by_steering(json_file: str, steer_funcs: str = 'all', planners: str = 'all',\n\u001b[1;32m     33\u001b[0m                                        run_id: str = 'all'):\n\u001b[0;32m---> 34\u001b[0;31m     \u001b[0mretrieval\u001b[0m \u001b[0;34m=\u001b[0m \u001b[0mretrieve_planner_stats_by_run\u001b[0m\u001b[0;34m(\u001b[0m\u001b[0mjson_file\u001b[0m\u001b[0;34m,\u001b[0m \u001b[0mplanners\u001b[0m\u001b[0;34m=\u001b[0m\u001b[0mplanners\u001b[0m\u001b[0;34m,\u001b[0m \u001b[0mrun_id\u001b[0m\u001b[0;34m=\u001b[0m\u001b[0mrun_id\u001b[0m\u001b[0;34m)\u001b[0m\u001b[0;34m\u001b[0m\u001b[0m\n\u001b[0m\u001b[1;32m     35\u001b[0m     \u001b[0msteer_funcs\u001b[0m \u001b[0;34m=\u001b[0m \u001b[0mparse_steer_functions\u001b[0m\u001b[0;34m(\u001b[0m\u001b[0msteer_funcs\u001b[0m\u001b[0;34m)\u001b[0m\u001b[0;34m\u001b[0m\u001b[0m\n\u001b[1;32m     36\u001b[0m     \u001b[0mresult\u001b[0m \u001b[0;34m=\u001b[0m \u001b[0;34m{\u001b[0m\u001b[0;34m}\u001b[0m\u001b[0;34m\u001b[0m\u001b[0m\n",
      "\u001b[0;32m~/mpb/plotting/retrieve.py\u001b[0m in \u001b[0;36mretrieve_planner_stats_by_run\u001b[0;34m(json_file, planners, run_id)\u001b[0m\n\u001b[1;32m      4\u001b[0m \u001b[0;34m\u001b[0m\u001b[0m\n\u001b[1;32m      5\u001b[0m \u001b[0;32mdef\u001b[0m \u001b[0mretrieve_planner_stats_by_run\u001b[0m\u001b[0;34m(\u001b[0m\u001b[0mjson_file\u001b[0m\u001b[0;34m:\u001b[0m \u001b[0mstr\u001b[0m\u001b[0;34m,\u001b[0m \u001b[0mplanners\u001b[0m\u001b[0;34m:\u001b[0m \u001b[0mstr\u001b[0m \u001b[0;34m=\u001b[0m \u001b[0;34m'all'\u001b[0m\u001b[0;34m,\u001b[0m \u001b[0mrun_id\u001b[0m\u001b[0;34m:\u001b[0m \u001b[0mstr\u001b[0m \u001b[0;34m=\u001b[0m \u001b[0;34m'all'\u001b[0m\u001b[0;34m)\u001b[0m\u001b[0;34m:\u001b[0m\u001b[0;34m\u001b[0m\u001b[0m\n\u001b[0;32m----> 6\u001b[0;31m     \u001b[0mdata\u001b[0m \u001b[0;34m=\u001b[0m \u001b[0mjson\u001b[0m\u001b[0;34m.\u001b[0m\u001b[0mload\u001b[0m\u001b[0;34m(\u001b[0m\u001b[0mopen\u001b[0m\u001b[0;34m(\u001b[0m\u001b[0mjson_file\u001b[0m\u001b[0;34m,\u001b[0m \u001b[0;34m\"r\"\u001b[0m\u001b[0;34m)\u001b[0m\u001b[0;34m)\u001b[0m\u001b[0;34m\u001b[0m\u001b[0m\n\u001b[0m\u001b[1;32m      7\u001b[0m     \u001b[0mrun_ids\u001b[0m \u001b[0;34m=\u001b[0m \u001b[0mparse_run_ids\u001b[0m\u001b[0;34m(\u001b[0m\u001b[0mrun_id\u001b[0m\u001b[0;34m,\u001b[0m \u001b[0mlen\u001b[0m\u001b[0;34m(\u001b[0m\u001b[0mdata\u001b[0m\u001b[0;34m[\u001b[0m\u001b[0;34m\"runs\"\u001b[0m\u001b[0;34m]\u001b[0m\u001b[0;34m)\u001b[0m\u001b[0;34m)\u001b[0m\u001b[0;34m\u001b[0m\u001b[0m\n\u001b[1;32m      8\u001b[0m     \u001b[0mall_planners\u001b[0m \u001b[0;34m=\u001b[0m \u001b[0;34m(\u001b[0m\u001b[0mplanners\u001b[0m \u001b[0;34m==\u001b[0m \u001b[0;34m'all'\u001b[0m\u001b[0;34m)\u001b[0m\u001b[0;34m\u001b[0m\u001b[0m\n",
      "\u001b[0;31mFileNotFoundError\u001b[0m: [Errno 2] No such file or directory: '../results/turning_radius2.000000'"
     ]
    },
    {
     "data": {
      "text/plain": [
       "<Figure size 576x360 with 0 Axes>"
      ]
     },
     "metadata": {},
     "output_type": "display_data"
    }
   ],
   "source": [
    "%reload_ext autoreload\n",
    "scenario_parameters = [2, 3, 4, 5, 6]\n",
    "scenarios = ['../results/turning_radius%i.000000' % v for v in scenario_parameters]\n",
    "metric = 'curvature'\n",
    "steer_func = 'reeds_shepp'\n",
    "ignored_planners = [\n",
    "    'SBPL', 'SST'\n",
    "]\n",
    "expected_number_of_planners = 15\n",
    "found_planners = []\n",
    "plt.figure(figsize=(8, 5))\n",
    "\n",
    "ys = {}\n",
    "\n",
    "for si, (scenario_parameter, scenario) in enumerate(zip(scenario_parameters, scenarios)):\n",
    "    stats_by_steering = retrieve_planner_stats_by_steering(scenario, steer_funcs=steer_func)\n",
    "    steering = list(stats_by_steering.values())[0]\n",
    "#     print(steering)\n",
    "    for planner, stats in steering.items():\n",
    "        if planner in ignored_planners:\n",
    "            continue\n",
    "        if planner not in found_planners:\n",
    "            ys[planner] = {}\n",
    "            found_planners.append(planner)\n",
    "        if scenario_parameter not in ys[planner]:\n",
    "            ys[planner][scenario_parameter] = []\n",
    "        ys[planner][scenario_parameter] += [v[metric] for v in stats.values() if v[\"exact_goal_path\"]]\n",
    "\n",
    "plt.gca().set_axisbelow(True)\n",
    "plt.grid()\n",
    "\n",
    "print(found_planners)\n",
    "\n",
    "def clean_mean(vs):\n",
    "    if None in vs:\n",
    "        return None\n",
    "    return np.mean(vs)\n",
    "# print(ys)\n",
    "\n",
    "means = []\n",
    "stds = []\n",
    "for pi, planner in enumerate(found_planners):\n",
    "#     print(ys[planner])\n",
    "    means = [clean_mean(vs) for vs in ys[planner].values()]\n",
    "    plt.plot(scenario_parameters, means, '*-', color=get_color(pi, num_colors=20), label=convert_planner_name(planner))\n",
    "# plt.gca().set_xlim([-0.5, len(steer_funcs) + 0.5])\n",
    "plt.title(stat_names[metric]);\n",
    "\n",
    "# Shrink current axis by 20%\n",
    "ax = plt.gca()\n",
    "box = ax.get_position()\n",
    "ax.set_position([box.x0, box.y0, box.width * 0.8, box.height])\n",
    "ax.set_xlabel('Turning Radius')\n",
    "\n",
    "# Put a legend to the right of the current axis\n",
    "ax.legend(loc='center left', bbox_to_anchor=(1, 0.5));\n",
    "plt.savefig('turning_radii_%s.png' % metric, dpi=300, bbox_inches='tight')"
   ]
  }
 ],
 "metadata": {
  "kernelspec": {
   "display_name": "Python 3",
   "language": "python",
   "name": "python3"
  },
  "language_info": {
   "codemirror_mode": {
    "name": "ipython",
    "version": 3
   },
   "file_extension": ".py",
   "mimetype": "text/x-python",
   "name": "python",
   "nbconvert_exporter": "python",
   "pygments_lexer": "ipython3",
   "version": "3.6.5"
  }
 },
 "nbformat": 4,
 "nbformat_minor": 2
}
