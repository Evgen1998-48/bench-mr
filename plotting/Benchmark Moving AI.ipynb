{
 "cells": [
  {
   "cell_type": "markdown",
   "metadata": {},
   "source": [
    "## Steer Function Comparison\n",
    "In this notebook, we examine the planners using different steer functions."
   ]
  },
  {
   "cell_type": "code",
   "execution_count": 16,
   "metadata": {},
   "outputs": [
    {
     "name": "stdout",
     "output_type": "stream",
     "text": [
      "The autoreload extension is already loaded. To reload it, use:\n",
      "  %reload_ext autoreload\n"
     ]
    }
   ],
   "source": [
    "%load_ext autoreload\n",
    "%autoreload 2\n",
    "from mpb import MPB, MultipleMPB\n",
    "from plot_stats import plot_planner_stats, plot_smoother_stats\n",
    "from utils import latexify\n",
    "from table import latex_table\n",
    "from definitions import *\n",
    "import matplotlib as mpl\n",
    "import sys, os\n",
    "mpl.rcParams['mathtext.fontset'] = 'cm'\n",
    "# make sure to not use Level-3 fonts\n",
    "mpl.rcParams['pdf.fonttype'] = 42\n",
    "import matplotlib.pyplot as plt\n",
    "from copy import deepcopy"
   ]
  },
  {
   "cell_type": "markdown",
   "metadata": {},
   "source": [
    "### Moving AI Scenarios"
   ]
  },
  {
   "cell_type": "code",
   "execution_count": 21,
   "metadata": {},
   "outputs": [],
   "source": [
    "def benchmark_moving_ai(scenario: str,\n",
    "                        num_scenarios: int,\n",
    "                        steer_function: str,\n",
    "                        time_limit: float = 15):\n",
    "    scenario_file = '/root/code/mpb/bin/moving_ai_scenarios/%s.map.scen' % scenario\n",
    "    if not os.path.exists(scenario_file):\n",
    "        raise Exception(\"Scenario file \\\"%s\\\" could not be found.\" % scenario_file)\n",
    "    bench = \"moving_ai_%s_%s\" % (scenario, steer_function)\n",
    "    total_filename = \"%s/_total.json\" % bench\n",
    "\n",
    "    config = MPB.get_config()\n",
    "    config[\"benchmark.moving_ai.active\"] = True\n",
    "    config[\"max_planning_time\"] = time_limit\n",
    "    config[\"benchmark.moving_ai.create_border\"] = False\n",
    "    # use point-based collision model for MovingAI scenarios\n",
    "    config[\"env.collision.collision_model\"] = 0\n",
    "\n",
    "    pool = MultipleMPB()\n",
    "    for i in range(num_scenarios):\n",
    "        m = MPB()\n",
    "        config[\"benchmark.moving_ai.start\"] = i - num_scenarios\n",
    "        config[\"benchmark.moving_ai.end\"] = i - num_scenarios\n",
    "        config[\"benchmark.moving_ai.scenario\"] = scenario_file    \n",
    "        m.update(deepcopy(config))\n",
    "        m.set_steer_functions([steer_function])\n",
    "        m.set_smoothers(['grips', 'ompl_bspline', 'ompl_shortcut', 'ompl_simplify_max'])\n",
    "        #     m.set_planners(['theta_star'])\n",
    "        #     m.set_planners(['sbpl_adstar'])\n",
    "        pool.benchmarks.append(m)\n",
    "    run_result = pool.run_parallel(bench, processes=20, limit_memory=True)\n",
    "\n",
    "    # plot trajectories\n",
    "    try:\n",
    "        pool.visualize_trajectories(show_legend=True, fig_width=8, fig_height=8)\n",
    "        plt.savefig(\"%s/%s_trajectories.pdf\" % (bench, bench), bbox_inches='tight')\n",
    "    except Exception as e:\n",
    "        print(\"Error while visualizing trajectories:\", e, file=sys.stderr)\n",
    "\n",
    "    MPB.merge(pool.benchmarks, total_filename, make_separate_runs=True)\n",
    "\n",
    "    # plot planner stats\n",
    "    try:        \n",
    "        plot_planner_stats(total_filename, save_file=\"%s/%s_stats.pdf\" % (bench, bench))\n",
    "    except Exception as e:\n",
    "        print(\"Error while plotting planner statistics:\", e, file=sys.stderr)\n",
    "\n",
    "    # plot smoother stats\n",
    "    try:\n",
    "        plot_smoother_stats(total_filename,\n",
    "                            save_file=\"%s/%s_smoother_stats.pdf\" % (bench, bench),\n",
    "                            separate_planners=False, num_colors=8,\n",
    "                            combine_views=True, max_plots_per_line=3)\n",
    "    except Exception as e:\n",
    "        print(\"Error while plotting smoother statistics:\", e, file=sys.stderr)\n",
    "\n",
    "    # plot smoother stats (separated by planners)\n",
    "    try:\n",
    "        plot_smoother_stats(total_filename,\n",
    "                            save_file=\"%s/%s_smoother_stats_separated.pdf\" % (bench, bench),\n",
    "                            separate_planners=True, num_colors=8, combine_views=True,\n",
    "                            max_plots_per_line=1, fig_width=25, fig_height=6)\n",
    "    except Exception as e:\n",
    "        print(\"Error while plotting smoother statistics:\", e, file=sys.stderr)\n",
    "        \n",
    "    # generate LaTeX table\n",
    "    try:\n",
    "        with open(\"%s/%s_table.txt\" % (bench, bench), 'w') as tf:\n",
    "            tf.write(latex_table(total_filename,\n",
    "                                 row_label='\\\\textbf{Scenario: \\\\texttt{%s}} (%s steering, \\\\SI{%.1f}{\\\\minute} time limit)'\n",
    "\n",
    "                                 % (latexify(scenario),\n",
    "                                    latexify(steer_function_names[steer_function]),\n",
    "                                    time_limit/60),\n",
    "                                 time_limit=time_limit))\n",
    "    except Exception as e:\n",
    "        print(\"Error while generating table:\", e, file=sys.stderr)\n",
    "\n",
    "    return run_result"
   ]
  },
  {
   "cell_type": "code",
   "execution_count": null,
   "metadata": {},
   "outputs": [
    {
     "name": "stdout",
     "output_type": "stream",
     "text": [
      "Available memory: 256.73 GB, limiting each MPB process to 6.9% usage (17.83 GB).\n",
      "Creating pool of 20 processes.\n",
      "Running MPB with ID moving_ai_Denver_1_256_reeds_shepp_2 (log file at moving_ai_Denver_1_256_reeds_shepp/moving_ai_Denver_1_256_reeds_shepp_2.log)...\n",
      "Running MPB with ID moving_ai_Denver_1_256_reeds_shepp_4 (log file at moving_ai_Denver_1_256_reeds_shepp/moving_ai_Denver_1_256_reeds_shepp_4.log)...\n",
      "Running MPB with ID moving_ai_Denver_1_256_reeds_shepp_0 (log file at moving_ai_Denver_1_256_reeds_shepp/moving_ai_Denver_1_256_reeds_shepp_0.log)...\n",
      "Running MPB with ID moving_ai_Denver_1_256_reeds_shepp_8 (log file at moving_ai_Denver_1_256_reeds_shepp/moving_ai_Denver_1_256_reeds_shepp_8.log)...\n",
      "Running MPB with ID moving_ai_Denver_1_256_reeds_shepp_1 (log file at moving_ai_Denver_1_256_reeds_shepp/moving_ai_Denver_1_256_reeds_shepp_1.log)...\n",
      "Running MPB with ID moving_ai_Denver_1_256_reeds_shepp_6 (log file at moving_ai_Denver_1_256_reeds_shepp/moving_ai_Denver_1_256_reeds_shepp_6.log)...\n",
      "Running MPB with ID moving_ai_Denver_1_256_reeds_shepp_13 (log file at moving_ai_Denver_1_256_reeds_shepp/moving_ai_Denver_1_256_reeds_shepp_13.log)...\n",
      "Running MPB with ID moving_ai_Denver_1_256_reeds_shepp_3 (log file at moving_ai_Denver_1_256_reeds_shepp/moving_ai_Denver_1_256_reeds_shepp_3.log)...\n",
      "Running MPB with ID moving_ai_Denver_1_256_reeds_shepp_14 (log file at moving_ai_Denver_1_256_reeds_shepp/moving_ai_Denver_1_256_reeds_shepp_14.log)...\n",
      "Running MPB with ID moving_ai_Denver_1_256_reeds_shepp_17 (log file at moving_ai_Denver_1_256_reeds_shepp/moving_ai_Denver_1_256_reeds_shepp_17.log)...\n",
      "Running MPB with ID moving_ai_Denver_1_256_reeds_shepp_11 (log file at moving_ai_Denver_1_256_reeds_shepp/moving_ai_Denver_1_256_reeds_shepp_11.log)...\n",
      "Running MPB with ID moving_ai_Denver_1_256_reeds_shepp_5 (log file at moving_ai_Denver_1_256_reeds_shepp/moving_ai_Denver_1_256_reeds_shepp_5.log)...\n",
      "Running MPB with ID moving_ai_Denver_1_256_reeds_shepp_19 (log file at moving_ai_Denver_1_256_reeds_shepp/moving_ai_Denver_1_256_reeds_shepp_19.log)...\n",
      "Running MPB with ID moving_ai_Denver_1_256_reeds_shepp_12 (log file at moving_ai_Denver_1_256_reeds_shepp/moving_ai_Denver_1_256_reeds_shepp_12.log)...\n",
      "Running MPB with ID moving_ai_Denver_1_256_reeds_shepp_9 (log file at moving_ai_Denver_1_256_reeds_shepp/moving_ai_Denver_1_256_reeds_shepp_9.log)...\n",
      "Running MPB with ID moving_ai_Denver_1_256_reeds_shepp_15 (log file at moving_ai_Denver_1_256_reeds_shepp/moving_ai_Denver_1_256_reeds_shepp_15.log)...\n",
      "Running MPB with ID moving_ai_Denver_1_256_reeds_shepp_18 (log file at moving_ai_Denver_1_256_reeds_shepp/moving_ai_Denver_1_256_reeds_shepp_18.log)...\n",
      "Running MPB with ID moving_ai_Denver_1_256_reeds_shepp_16 (log file at moving_ai_Denver_1_256_reeds_shepp/moving_ai_Denver_1_256_reeds_shepp_16.log)...\n",
      "Running MPB with ID moving_ai_Denver_1_256_reeds_shepp_7 (log file at moving_ai_Denver_1_256_reeds_shepp/moving_ai_Denver_1_256_reeds_shepp_7.log)...\n",
      "Running MPB with ID moving_ai_Denver_1_256_reeds_shepp_10 (log file at moving_ai_Denver_1_256_reeds_shepp/moving_ai_Denver_1_256_reeds_shepp_10.log)...\n"
     ]
    },
    {
     "data": {
      "application/vnd.jupyter.widget-view+json": {
       "model_id": "fa0bbb2ccff84bb3bc9a12d4390b2d47",
       "version_major": 2,
       "version_minor": 0
      },
      "text/plain": [
       "HBox(children=(IntProgress(value=0, description='moving_ai_Denver_1_256_reeds_shepp_6', layout=Layout(flex='2'…"
      ]
     },
     "metadata": {},
     "output_type": "display_data"
    },
    {
     "data": {
      "application/vnd.jupyter.widget-view+json": {
       "model_id": "47542b2019604775996bb9121f187a5a",
       "version_major": 2,
       "version_minor": 0
      },
      "text/plain": [
       "HBox(children=(IntProgress(value=0, description='moving_ai_Denver_1_256_reeds_shepp_1', layout=Layout(flex='2'…"
      ]
     },
     "metadata": {},
     "output_type": "display_data"
    },
    {
     "data": {
      "application/vnd.jupyter.widget-view+json": {
       "model_id": "53f529c0b64b4fa0bf25c702a5696fca",
       "version_major": 2,
       "version_minor": 0
      },
      "text/plain": [
       "HBox(children=(IntProgress(value=0, description='moving_ai_Denver_1_256_reeds_shepp_14', layout=Layout(flex='2…"
      ]
     },
     "metadata": {},
     "output_type": "display_data"
    },
    {
     "data": {
      "application/vnd.jupyter.widget-view+json": {
       "model_id": "ef37c7bf92f14f65905676b5f7ff6635",
       "version_major": 2,
       "version_minor": 0
      },
      "text/plain": [
       "HBox(children=(IntProgress(value=0, description='moving_ai_Denver_1_256_reeds_shepp_4', layout=Layout(flex='2'…"
      ]
     },
     "metadata": {},
     "output_type": "display_data"
    },
    {
     "data": {
      "application/vnd.jupyter.widget-view+json": {
       "model_id": "58a554446fe74142b2f09cfa07752642",
       "version_major": 2,
       "version_minor": 0
      },
      "text/plain": [
       "HBox(children=(IntProgress(value=0, description='moving_ai_Denver_1_256_reeds_shepp_2', layout=Layout(flex='2'…"
      ]
     },
     "metadata": {},
     "output_type": "display_data"
    },
    {
     "data": {
      "application/vnd.jupyter.widget-view+json": {
       "model_id": "0caf522d1deb4f9199857b3327384acb",
       "version_major": 2,
       "version_minor": 0
      },
      "text/plain": [
       "HBox(children=(IntProgress(value=0, description='moving_ai_Denver_1_256_reeds_shepp_18', layout=Layout(flex='2…"
      ]
     },
     "metadata": {},
     "output_type": "display_data"
    },
    {
     "data": {
      "application/vnd.jupyter.widget-view+json": {
       "model_id": "eb72b693de4d473399b2bc4d0f91a092",
       "version_major": 2,
       "version_minor": 0
      },
      "text/plain": [
       "HBox(children=(IntProgress(value=0, description='moving_ai_Denver_1_256_reeds_shepp_8', layout=Layout(flex='2'…"
      ]
     },
     "metadata": {},
     "output_type": "display_data"
    },
    {
     "data": {
      "application/vnd.jupyter.widget-view+json": {
       "model_id": "e2748cc25e81446a82371fae0444ee0a",
       "version_major": 2,
       "version_minor": 0
      },
      "text/plain": [
       "HBox(children=(IntProgress(value=0, description='moving_ai_Denver_1_256_reeds_shepp_15', layout=Layout(flex='2…"
      ]
     },
     "metadata": {},
     "output_type": "display_data"
    },
    {
     "data": {
      "application/vnd.jupyter.widget-view+json": {
       "model_id": "c94897f260eb4006bfb37c5f0dec00f8",
       "version_major": 2,
       "version_minor": 0
      },
      "text/plain": [
       "HBox(children=(IntProgress(value=0, description='moving_ai_Denver_1_256_reeds_shepp_0', layout=Layout(flex='2'…"
      ]
     },
     "metadata": {},
     "output_type": "display_data"
    },
    {
     "data": {
      "application/vnd.jupyter.widget-view+json": {
       "model_id": "fa33d30daccd4052a1c15aaba7ed8708",
       "version_major": 2,
       "version_minor": 0
      },
      "text/plain": [
       "HBox(children=(IntProgress(value=0, description='moving_ai_Denver_1_256_reeds_shepp_12', layout=Layout(flex='2…"
      ]
     },
     "metadata": {},
     "output_type": "display_data"
    },
    {
     "data": {
      "application/vnd.jupyter.widget-view+json": {
       "model_id": "80a874aa83db41a08c677a4351eaea15",
       "version_major": 2,
       "version_minor": 0
      },
      "text/plain": [
       "HBox(children=(IntProgress(value=0, description='moving_ai_Denver_1_256_reeds_shepp_7', layout=Layout(flex='2'…"
      ]
     },
     "metadata": {},
     "output_type": "display_data"
    },
    {
     "data": {
      "application/vnd.jupyter.widget-view+json": {
       "model_id": "4ec89a05671447b88ffb06fdec04d30b",
       "version_major": 2,
       "version_minor": 0
      },
      "text/plain": [
       "HBox(children=(IntProgress(value=0, description='moving_ai_Denver_1_256_reeds_shepp_17', layout=Layout(flex='2…"
      ]
     },
     "metadata": {},
     "output_type": "display_data"
    },
    {
     "data": {
      "application/vnd.jupyter.widget-view+json": {
       "model_id": "a42fdfd18a314d2ca0491d187faf6197",
       "version_major": 2,
       "version_minor": 0
      },
      "text/plain": [
       "HBox(children=(IntProgress(value=0, description='moving_ai_Denver_1_256_reeds_shepp_5', layout=Layout(flex='2'…"
      ]
     },
     "metadata": {},
     "output_type": "display_data"
    },
    {
     "data": {
      "application/vnd.jupyter.widget-view+json": {
       "model_id": "04127e232d2843e0bdc98736718343ee",
       "version_major": 2,
       "version_minor": 0
      },
      "text/plain": [
       "HBox(children=(IntProgress(value=0, description='moving_ai_Denver_1_256_reeds_shepp_11', layout=Layout(flex='2…"
      ]
     },
     "metadata": {},
     "output_type": "display_data"
    },
    {
     "data": {
      "application/vnd.jupyter.widget-view+json": {
       "model_id": "9e32f3a99fa144d1b51b99797b3abeef",
       "version_major": 2,
       "version_minor": 0
      },
      "text/plain": [
       "HBox(children=(IntProgress(value=0, description='moving_ai_Denver_1_256_reeds_shepp_19', layout=Layout(flex='2…"
      ]
     },
     "metadata": {},
     "output_type": "display_data"
    },
    {
     "data": {
      "application/vnd.jupyter.widget-view+json": {
       "model_id": "a224bf271f614bddb414863700d89e8a",
       "version_major": 2,
       "version_minor": 0
      },
      "text/plain": [
       "HBox(children=(IntProgress(value=0, description='moving_ai_Denver_1_256_reeds_shepp_13', layout=Layout(flex='2…"
      ]
     },
     "metadata": {},
     "output_type": "display_data"
    },
    {
     "data": {
      "application/vnd.jupyter.widget-view+json": {
       "model_id": "0da031b6c6db406d84c366d9997020f8",
       "version_major": 2,
       "version_minor": 0
      },
      "text/plain": [
       "HBox(children=(IntProgress(value=0, description='moving_ai_Denver_1_256_reeds_shepp_3', layout=Layout(flex='2'…"
      ]
     },
     "metadata": {},
     "output_type": "display_data"
    },
    {
     "data": {
      "application/vnd.jupyter.widget-view+json": {
       "model_id": "a2e815b29e2044e6841a166b2a03565c",
       "version_major": 2,
       "version_minor": 0
      },
      "text/plain": [
       "HBox(children=(IntProgress(value=0, description='moving_ai_Denver_1_256_reeds_shepp_9', layout=Layout(flex='2'…"
      ]
     },
     "metadata": {},
     "output_type": "display_data"
    },
    {
     "data": {
      "application/vnd.jupyter.widget-view+json": {
       "model_id": "bc1c7144c8ab400e955e227da714be24",
       "version_major": 2,
       "version_minor": 0
      },
      "text/plain": [
       "HBox(children=(IntProgress(value=0, description='moving_ai_Denver_1_256_reeds_shepp_10', layout=Layout(flex='2…"
      ]
     },
     "metadata": {},
     "output_type": "display_data"
    },
    {
     "data": {
      "application/vnd.jupyter.widget-view+json": {
       "model_id": "10e4facb391a4e5f8330771eeb73833f",
       "version_major": 2,
       "version_minor": 0
      },
      "text/plain": [
       "HBox(children=(IntProgress(value=0, description='moving_ai_Denver_1_256_reeds_shepp_16', layout=Layout(flex='2…"
      ]
     },
     "metadata": {},
     "output_type": "display_data"
    },
    {
     "name": "stdout",
     "output_type": "stream",
     "text": [
      "Killed moving_ai_Denver_1_256_reeds_shepp_9 with planner sbpl_mha after 30.00s exceeded timeout.\n",
      "Killed moving_ai_Denver_1_256_reeds_shepp_9 with planner sbpl_arastar after 30.01s exceeded timeout.\n",
      "Killed moving_ai_Denver_1_256_reeds_shepp_1 with planner sbpl_arastar after 30.02s exceeded timeout.\n",
      "Killed moving_ai_Denver_1_256_reeds_shepp_19 with planner sbpl_adstar after 30.02s exceeded timeout.\n"
     ]
    }
   ],
   "source": [
    "scenario = 'Denver_1_256' #'Boston_1_1024'\n",
    "num_scenarios = 50\n",
    "\n",
    "time_limit_multiplier = 1\n",
    "\n",
    "steer_function_times = [\n",
    "    ('reeds_shepp', 15 * time_limit_multiplier),    \n",
    "    ('dubins', 45 * time_limit_multiplier),    \n",
    "    ('cc_reeds_shepp', 1.5 * 60 * time_limit_multiplier),    \n",
    "    ('posq', 120 * time_limit_multiplier)\n",
    "]\n",
    "\n",
    "for steer_function, time_limit in steer_function_times:\n",
    "    benchmark_moving_ai(scenario, num_scenarios, steer_function, time_limit)"
   ]
  },
  {
   "cell_type": "code",
   "execution_count": null,
   "metadata": {},
   "outputs": [],
   "source": [
    "pool.visualize_trajectories(show_legend=True)"
   ]
  },
  {
   "cell_type": "code",
   "execution_count": null,
   "metadata": {},
   "outputs": [],
   "source": [
    "pool.benchmarks[19].visualize_trajectories(fig_width=20, fig_height=20)"
   ]
  }
 ],
 "metadata": {
  "kernelspec": {
   "display_name": "Python 3",
   "language": "python",
   "name": "python3"
  },
  "language_info": {
   "codemirror_mode": {
    "name": "ipython",
    "version": 3
   },
   "file_extension": ".py",
   "mimetype": "text/x-python",
   "name": "python",
   "nbconvert_exporter": "python",
   "pygments_lexer": "ipython3",
   "version": "3.6.8"
  }
 },
 "nbformat": 4,
 "nbformat_minor": 4
}
