{
 "cells": [
  {
   "cell_type": "markdown",
   "metadata": {},
   "source": [
    "## Steer Function Comparison\n",
    "In this notebook, we examine the planners using different steer functions."
   ]
  },
  {
   "cell_type": "code",
   "execution_count": null,
   "metadata": {},
   "outputs": [],
   "source": [
    "%load_ext autoreload\n",
    "%autoreload 2\n",
    "from mpb import MPB, MultipleMPB\n",
    "from plot_stats import plot_planner_stats, plot_smoother_stats\n",
    "from utils import latexify\n",
    "from table import latex_table\n",
    "from definitions import *\n",
    "import matplotlib as mpl\n",
    "import sys, os\n",
    "mpl.rcParams['mathtext.fontset'] = 'cm'\n",
    "# make sure to not use Level-3 fonts\n",
    "mpl.rcParams['pdf.fonttype'] = 42\n",
    "import matplotlib.pyplot as plt\n",
    "from copy import deepcopy"
   ]
  },
  {
   "cell_type": "markdown",
   "metadata": {},
   "source": [
    "### Moving AI Scenarios"
   ]
  },
  {
   "cell_type": "code",
   "execution_count": null,
   "metadata": {},
   "outputs": [],
   "source": [
    "def benchmark_moving_ai(scenario: str,\n",
    "                        num_scenarios: int,\n",
    "                        steer_function: str,\n",
    "                        time_limit: float = 15):\n",
    "    scenario_file = '/root/code/mpb/bin/moving_ai_scenarios/%s.map.scen' % scenario\n",
    "    if not os.path.exists(scenario_file):\n",
    "        raise Exception(\"Scenario file \\\"%s\\\" could not be found.\" % scenario_file)\n",
    "    bench = \"moving_ai_%s_%s\" % (scenario, steer_function)\n",
    "    total_filename = \"%s/_total.json\" % bench\n",
    "\n",
    "    config = MPB.get_config()\n",
    "    config[\"benchmark.moving_ai.active\"] = True\n",
    "    config[\"max_planning_time\"] = time_limit\n",
    "    config[\"benchmark.moving_ai.create_border\"] = False\n",
    "    # use point-based collision model for MovingAI scenarios\n",
    "    config[\"env.collision.collision_model\"] = 0\n",
    "\n",
    "    pool = MultipleMPB()\n",
    "    for i in range(num_scenarios):\n",
    "        m = MPB()\n",
    "        config[\"benchmark.moving_ai.start\"] = i - num_scenarios\n",
    "        config[\"benchmark.moving_ai.end\"] = i - num_scenarios + 1\n",
    "        config[\"benchmark.moving_ai.scenario\"] = scenario_file    \n",
    "        m.update(deepcopy(config))\n",
    "        m.set_steer_functions([steer_function])\n",
    "        m.set_smoothers(['grips', 'ompl_bspline', 'ompl_shortcut', 'ompl_simplify_max'])\n",
    "#         m.set_planners(['theta_star'])\n",
    "        # m.set_planners(['sbpl_adstar', 'sbpl_arastar', 'sbpl_mha'])\n",
    "        pool.benchmarks.append(m)\n",
    "    run_result = pool.run_parallel(bench, processes=20, limit_memory=True)\n",
    "\n",
    "    # plot trajectories\n",
    "    try:\n",
    "        pool.visualize_trajectories(show_legend=True, fig_width=8, fig_height=8)\n",
    "        plt.savefig(\"%s/%s_trajectories.pdf\" % (bench, bench), bbox_inches='tight')\n",
    "    except Exception as e:\n",
    "        print(\"Error while visualizing trajectories:\", e, file=sys.stderr)\n",
    "\n",
    "    MPB.merge(pool.benchmarks, total_filename, make_separate_runs=True)\n",
    "\n",
    "    # plot planner stats\n",
    "    try:        \n",
    "        plot_planner_stats(total_filename, save_file=\"%s/%s_stats.pdf\" % (bench, bench))\n",
    "    except Exception as e:\n",
    "        print(\"Error while plotting planner statistics:\", e, file=sys.stderr)\n",
    "\n",
    "    # plot smoother stats\n",
    "    try:\n",
    "        plot_smoother_stats(total_filename,\n",
    "                            save_file=\"%s/%s_smoother_stats.pdf\" % (bench, bench),\n",
    "                            separate_planners=False, num_colors=8,\n",
    "                            combine_views=True, max_plots_per_line=3)\n",
    "    except Exception as e:\n",
    "        print(\"Error while plotting smoother statistics:\", e, file=sys.stderr)\n",
    "\n",
    "    # plot smoother stats (separated by planners)\n",
    "    try:\n",
    "        plot_smoother_stats(total_filename,\n",
    "                            save_file=\"%s/%s_smoother_stats_separated.pdf\" % (bench, bench),\n",
    "                            separate_planners=True, num_colors=8, combine_views=True,\n",
    "                            max_plots_per_line=1, fig_width=25, fig_height=6)\n",
    "    except Exception as e:\n",
    "        print(\"Error while plotting smoother statistics:\", e, file=sys.stderr)\n",
    "        \n",
    "    # generate LaTeX table\n",
    "    try:\n",
    "        with open(\"%s/%s_table.txt\" % (bench, bench), 'w') as tf:\n",
    "            tf.write(latex_table(total_filename,\n",
    "                                 row_label='\\\\textbf{Scenario: \\\\texttt{%s}} (%s steering, \\\\SI{%.1f}{\\\\minute} time limit)'\n",
    "\n",
    "                                 % (latexify(scenario),\n",
    "                                    latexify(steer_function_names[steer_function]),\n",
    "                                    time_limit/60),\n",
    "                                 time_limit=time_limit))\n",
    "    except Exception as e:\n",
    "        print(\"Error while generating table:\", e, file=sys.stderr)\n",
    "\n",
    "    return run_result"
   ]
  },
  {
   "cell_type": "markdown",
   "metadata": {},
   "source": [
    "### Pick which scenario to run"
   ]
  },
  {
   "cell_type": "code",
   "execution_count": null,
   "metadata": {},
   "outputs": [],
   "source": [
    "scenario = 'Berlin_0_256'\n",
    "num_scenarios = 50\n",
    "\n",
    "time_limit_multiplier = 6\n",
    "\n",
    "steer_function_times = [\n",
    "    ('reeds_shepp', 15 * time_limit_multiplier),    \n",
    "    ('dubins', 60 * time_limit_multiplier),    \n",
    "    ('cc_reeds_shepp', 180 * time_limit_multiplier),    \n",
    "    ('posq', 120 * time_limit_multiplier)\n",
    "]\n",
    "\n",
    "for steer_function, time_limit in steer_function_times:\n",
    "    benchmark_moving_ai(scenario, num_scenarios, steer_function, time_limit)"
   ]
  },
  {
   "cell_type": "code",
   "execution_count": null,
   "metadata": {},
   "outputs": [],
   "source": [
    "scenario = 'NewYork_1_512'\n",
    "num_scenarios = 50\n",
    "\n",
    "time_limit_multiplier = 10\n",
    "\n",
    "steer_function_times = [\n",
    "    ('reeds_shepp', 15 * time_limit_multiplier),    \n",
    "    ('dubins', 60 * time_limit_multiplier),    \n",
    "    ('cc_reeds_shepp', 180 * time_limit_multiplier),    \n",
    "    ('posq', 120 * time_limit_multiplier)\n",
    "]\n",
    "\n",
    "for steer_function, time_limit in steer_function_times:\n",
    "    benchmark_moving_ai(scenario, num_scenarios, steer_function, time_limit)"
   ]
  },
  {
   "cell_type": "code",
   "execution_count": null,
   "metadata": {},
   "outputs": [],
   "source": [
    "scenario = 'Boston_1_1024'\n",
    "num_scenarios = 50\n",
    "\n",
    "time_limit_multiplier = 30\n",
    "\n",
    "steer_function_times = [\n",
    "    ('reeds_shepp', 15 * time_limit_multiplier),    \n",
    "    ('dubins', 60 * time_limit_multiplier),    \n",
    "    ('cc_reeds_shepp', 1.5 * 60 * time_limit_multiplier),    \n",
    "    ('posq', 120 * time_limit_multiplier)\n",
    "]\n",
    "\n",
    "for steer_function, time_limit in steer_function_times:\n",
    "    benchmark_moving_ai(scenario, num_scenarios, steer_function, time_limit)"
   ]
  },
  {
   "cell_type": "markdown",
   "metadata": {},
   "source": [
    "### Generate $\\LaTeX$ table"
   ]
  },
  {
   "cell_type": "code",
   "execution_count": null,
   "metadata": {},
   "outputs": [],
   "source": [
    "steer_function = 1\n",
    "steer_name = steer_function_times[steer_function][0]\n",
    "steer_time = steer_function_times[steer_function][1]\n",
    "total_filename = 'moving_ai_%s_%s/_total.json' % (scenario, steer_name)\n",
    "print(latex_table(total_filename,\n",
    "                  row_label='%s (%s) [%d sec / %g min]' % (steer_name, scenario, steer_time, steer_time/60),\n",
    "                  time_limit=steer_time))"
   ]
  }
 ],
 "metadata": {
  "kernelspec": {
   "display_name": "Python 3",
   "language": "python",
   "name": "python3"
  },
  "language_info": {
   "codemirror_mode": {
    "name": "ipython",
    "version": 3
   },
   "file_extension": ".py",
   "mimetype": "text/x-python",
   "name": "python",
   "nbconvert_exporter": "python",
   "pygments_lexer": "ipython3",
   "version": "3.7.5"
  }
 },
 "nbformat": 4,
 "nbformat_minor": 4
}
