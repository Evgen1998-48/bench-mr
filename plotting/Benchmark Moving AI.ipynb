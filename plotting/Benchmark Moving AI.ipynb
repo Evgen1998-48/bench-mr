{
 "cells": [
  {
   "cell_type": "markdown",
   "metadata": {},
   "source": [
    "## Steer Function Comparison\n",
    "In this notebook, we examine the planners using different steer functions."
   ]
  },
  {
   "cell_type": "code",
   "execution_count": 1,
   "metadata": {},
   "outputs": [],
   "source": [
    "%load_ext autoreload\n",
    "%autoreload 2\n",
    "from mpb import MPB, MultipleMPB\n",
    "from plot_stats import plot_planner_stats, plot_smoother_stats\n",
    "from utils import latexify\n",
    "from table import latex_table\n",
    "from definitions import *\n",
    "import matplotlib as mpl\n",
    "import sys, os\n",
    "mpl.rcParams['mathtext.fontset'] = 'cm'\n",
    "# make sure to not use Level-3 fonts\n",
    "mpl.rcParams['pdf.fonttype'] = 42\n",
    "import matplotlib.pyplot as plt\n",
    "from copy import deepcopy"
   ]
  },
  {
   "cell_type": "markdown",
   "metadata": {},
   "source": [
    "### Moving AI Scenarios"
   ]
  },
  {
   "cell_type": "code",
   "execution_count": 9,
   "metadata": {},
   "outputs": [],
   "source": [
    "def benchmark_moving_ai(scenario: str,\n",
    "                        num_scenarios: int,\n",
    "                        steer_function: str,\n",
    "                        time_limit: float = 15):\n",
    "    scenario_file = '/root/code/mpb/bin/moving_ai_scenarios/%s.map.scen' % scenario\n",
    "    if not os.path.exists(scenario_file):\n",
    "        raise Exception(\"Scenario file \\\"%s\\\" could not be found.\" % scenario_file)\n",
    "    bench = \"moving_ai_%s_%s\" % (scenario, steer_function)\n",
    "    total_filename = \"%s/_total.json\" % bench\n",
    "\n",
    "    config = MPB.get_config()\n",
    "    config[\"benchmark.moving_ai.active\"] = True\n",
    "    config[\"max_planning_time\"] = time_limit\n",
    "    config[\"benchmark.moving_ai.create_border\"] = False\n",
    "    # use point-based collision model for MovingAI scenarios\n",
    "    config[\"env.collision.collision_model\"] = 0\n",
    "\n",
    "    pool = MultipleMPB()\n",
    "    for i in range(num_scenarios):\n",
    "        m = MPB()\n",
    "        config[\"benchmark.moving_ai.start\"] = i - num_scenarios\n",
    "        config[\"benchmark.moving_ai.end\"] = i - num_scenarios + 1\n",
    "        config[\"benchmark.moving_ai.scenario\"] = scenario_file    \n",
    "        m.update(deepcopy(config))\n",
    "        m.set_steer_functions([steer_function])\n",
    "        # m.set_smoothers(['grips', 'ompl_bspline', 'ompl_shortcut', 'ompl_simplify_max'])\n",
    "#         m.set_planners(['theta_star'])\n",
    "        # m.set_planners(['sbpl_adstar', 'sbpl_arastar', 'sbpl_mha'])\n",
    "        pool.benchmarks.append(m)\n",
    "    run_result = pool.run_parallel(bench, processes=20, limit_memory=True)\n",
    "\n",
    "    # plot trajectories\n",
    "    try:\n",
    "        pool.visualize_trajectories(show_legend=True, fig_width=8, fig_height=8)\n",
    "        plt.savefig(\"%s/%s_trajectories.pdf\" % (bench, bench), bbox_inches='tight')\n",
    "    except Exception as e:\n",
    "        print(\"Error while visualizing trajectories:\", e, file=sys.stderr)\n",
    "\n",
    "    MPB.merge(pool.benchmarks, total_filename, make_separate_runs=True)\n",
    "\n",
    "    # plot planner stats\n",
    "    try:        \n",
    "        plot_planner_stats(total_filename, save_file=\"%s/%s_stats.pdf\" % (bench, bench))\n",
    "    except Exception as e:\n",
    "        print(\"Error while plotting planner statistics:\", e, file=sys.stderr)\n",
    "\n",
    "    # plot smoother stats\n",
    "    try:\n",
    "        plot_smoother_stats(total_filename,\n",
    "                            save_file=\"%s/%s_smoother_stats.pdf\" % (bench, bench),\n",
    "                            separate_planners=False, num_colors=8,\n",
    "                            combine_views=True, max_plots_per_line=3)\n",
    "    except Exception as e:\n",
    "        print(\"Error while plotting smoother statistics:\", e, file=sys.stderr)\n",
    "\n",
    "    # plot smoother stats (separated by planners)\n",
    "    try:\n",
    "        plot_smoother_stats(total_filename,\n",
    "                            save_file=\"%s/%s_smoother_stats_separated.pdf\" % (bench, bench),\n",
    "                            separate_planners=True, num_colors=8, combine_views=True,\n",
    "                            max_plots_per_line=1, fig_width=25, fig_height=6)\n",
    "    except Exception as e:\n",
    "        print(\"Error while plotting smoother statistics:\", e, file=sys.stderr)\n",
    "        \n",
    "    # generate LaTeX table\n",
    "    try:\n",
    "        with open(\"%s/%s_table.txt\" % (bench, bench), 'w') as tf:\n",
    "            tf.write(latex_table(total_filename,\n",
    "                                 row_label='\\\\textbf{Scenario: \\\\texttt{%s}} (%s steering, \\\\SI{%.1f}{\\\\minute} time limit)'\n",
    "\n",
    "                                 % (latexify(scenario),\n",
    "                                    latexify(steer_function_names[steer_function]),\n",
    "                                    time_limit/60),\n",
    "                                 time_limit=time_limit))\n",
    "    except Exception as e:\n",
    "        print(\"Error while generating table:\", e, file=sys.stderr)\n",
    "\n",
    "    return run_result"
   ]
  },
  {
   "cell_type": "code",
   "execution_count": null,
   "metadata": {},
   "outputs": [
    {
     "name": "stdout",
     "output_type": "stream",
     "text": [
      "Created MPB from config ../bin/benchmark_template.json.\n",
      "Created MPB from config ../bin/benchmark_template.json.\n",
      "Created MPB from config ../bin/benchmark_template.json.\n",
      "Created MPB from config ../bin/benchmark_template.json.\n",
      "Created MPB from config ../bin/benchmark_template.json.\n",
      "Created MPB from config ../bin/benchmark_template.json.\n",
      "Created MPB from config ../bin/benchmark_template.json.\n",
      "Created MPB from config ../bin/benchmark_template.json.\n",
      "Created MPB from config ../bin/benchmark_template.json.\n",
      "Created MPB from config ../bin/benchmark_template.json.\n",
      "Created MPB from config ../bin/benchmark_template.json.\n",
      "Created MPB from config ../bin/benchmark_template.json.\n",
      "Created MPB from config ../bin/benchmark_template.json.\n",
      "Created MPB from config ../bin/benchmark_template.json.\n",
      "Created MPB from config ../bin/benchmark_template.json.\n",
      "Created MPB from config ../bin/benchmark_template.json.\n",
      "Created MPB from config ../bin/benchmark_template.json.\n",
      "Created MPB from config ../bin/benchmark_template.json.\n",
      "Created MPB from config ../bin/benchmark_template.json.\n",
      "Created MPB from config ../bin/benchmark_template.json.\n",
      "Created MPB from config ../bin/benchmark_template.json.\n",
      "Created MPB from config ../bin/benchmark_template.json.\n",
      "Created MPB from config ../bin/benchmark_template.json.\n",
      "Created MPB from config ../bin/benchmark_template.json.\n",
      "Created MPB from config ../bin/benchmark_template.json.\n",
      "Created MPB from config ../bin/benchmark_template.json.\n",
      "Created MPB from config ../bin/benchmark_template.json.\n",
      "Created MPB from config ../bin/benchmark_template.json.\n",
      "Created MPB from config ../bin/benchmark_template.json.\n",
      "Created MPB from config ../bin/benchmark_template.json.\n",
      "Created MPB from config ../bin/benchmark_template.json.\n",
      "Created MPB from config ../bin/benchmark_template.json.\n",
      "Created MPB from config ../bin/benchmark_template.json.\n",
      "Created MPB from config ../bin/benchmark_template.json.\n",
      "Created MPB from config ../bin/benchmark_template.json.\n",
      "Created MPB from config ../bin/benchmark_template.json.\n",
      "Created MPB from config ../bin/benchmark_template.json.\n",
      "Created MPB from config ../bin/benchmark_template.json.\n",
      "Created MPB from config ../bin/benchmark_template.json.\n",
      "Created MPB from config ../bin/benchmark_template.json.\n",
      "Created MPB from config ../bin/benchmark_template.json.\n",
      "Created MPB from config ../bin/benchmark_template.json.\n",
      "Created MPB from config ../bin/benchmark_template.json.\n",
      "Created MPB from config ../bin/benchmark_template.json.\n",
      "Created MPB from config ../bin/benchmark_template.json.\n",
      "Created MPB from config ../bin/benchmark_template.json.\n",
      "Created MPB from config ../bin/benchmark_template.json.\n",
      "Created MPB from config ../bin/benchmark_template.json.\n",
      "Created MPB from config ../bin/benchmark_template.json.\n",
      "Created MPB from config ../bin/benchmark_template.json.\n",
      "Available memory: 257.11 GB, limiting each MPB process to 6.9% usage (17.86 GB).\n",
      "Creating pool of 20 processes.\n",
      "Created MPB from config moving_ai_Berlin_0_256_reeds_shepp/moving_ai_Berlin_0_256_reeds_shepp_3_config.json.\n",
      "Created MPB from config moving_ai_Berlin_0_256_reeds_shepp/moving_ai_Berlin_0_256_reeds_shepp_10_config.json.\n",
      "Created MPB from config moving_ai_Berlin_0_256_reeds_shepp/moving_ai_Berlin_0_256_reeds_shepp_0_config.json.\n",
      "Created MPB from config moving_ai_Berlin_0_256_reeds_shepp/moving_ai_Berlin_0_256_reeds_shepp_8_config.json.\n",
      "Created MPB from config moving_ai_Berlin_0_256_reeds_shepp/moving_ai_Berlin_0_256_reeds_shepp_12_config.json.\n",
      "Created MPB from config moving_ai_Berlin_0_256_reeds_shepp/moving_ai_Berlin_0_256_reeds_shepp_11_config.json.\n",
      "Created MPB from config moving_ai_Berlin_0_256_reeds_shepp/moving_ai_Berlin_0_256_reeds_shepp_4_config.json.\n",
      "Created MPB from config moving_ai_Berlin_0_256_reeds_shepp/moving_ai_Berlin_0_256_reeds_shepp_9_config.json.\n",
      "Created MPB from config moving_ai_Berlin_0_256_reeds_shepp/moving_ai_Berlin_0_256_reeds_shepp_16_config.json.\n",
      "Created MPB from config moving_ai_Berlin_0_256_reeds_shepp/moving_ai_Berlin_0_256_reeds_shepp_19_config.json.\n",
      "Created MPB from config moving_ai_Berlin_0_256_reeds_shepp/moving_ai_Berlin_0_256_reeds_shepp_6_config.json.\n",
      "Created MPB from config moving_ai_Berlin_0_256_reeds_shepp/moving_ai_Berlin_0_256_reeds_shepp_13_config.json.\n",
      "Created MPB from config moving_ai_Berlin_0_256_reeds_shepp/moving_ai_Berlin_0_256_reeds_shepp_17_config.json.\n",
      "Created MPB from config moving_ai_Berlin_0_256_reeds_shepp/moving_ai_Berlin_0_256_reeds_shepp_7_config.json.\n",
      "Created MPB from config moving_ai_Berlin_0_256_reeds_shepp/moving_ai_Berlin_0_256_reeds_shepp_1_config.json.\n",
      "Created MPB from config moving_ai_Berlin_0_256_reeds_shepp/moving_ai_Berlin_0_256_reeds_shepp_18_config.json.\n",
      "Created MPB from config moving_ai_Berlin_0_256_reeds_shepp/moving_ai_Berlin_0_256_reeds_shepp_2_config.json.\n",
      "Created MPB from config moving_ai_Berlin_0_256_reeds_shepp/moving_ai_Berlin_0_256_reeds_shepp_14_config.json.\n",
      "Created MPB from config moving_ai_Berlin_0_256_reeds_shepp/moving_ai_Berlin_0_256_reeds_shepp_5_config.json.\n",
      "Created MPB from config moving_ai_Berlin_0_256_reeds_shepp/moving_ai_Berlin_0_256_reeds_shepp_15_config.json.\n",
      "Running MPB with ID moving_ai_Berlin_0_256_reeds_shepp_10 (log file at moving_ai_Berlin_0_256_reeds_shepp/moving_ai_Berlin_0_256_reeds_shepp_10.log)...\n",
      "Running MPB with ID moving_ai_Berlin_0_256_reeds_shepp_0 (log file at moving_ai_Berlin_0_256_reeds_shepp/moving_ai_Berlin_0_256_reeds_shepp_0.log)...\n",
      "Running MPB with ID moving_ai_Berlin_0_256_reeds_shepp_8 (log file at moving_ai_Berlin_0_256_reeds_shepp/moving_ai_Berlin_0_256_reeds_shepp_8.log)...\n",
      "Running MPB with ID moving_ai_Berlin_0_256_reeds_shepp_3 (log file at moving_ai_Berlin_0_256_reeds_shepp/moving_ai_Berlin_0_256_reeds_shepp_3.log)...\n",
      "Running MPB with ID moving_ai_Berlin_0_256_reeds_shepp_12 (log file at moving_ai_Berlin_0_256_reeds_shepp/moving_ai_Berlin_0_256_reeds_shepp_12.log)...\n",
      "Running MPB with ID moving_ai_Berlin_0_256_reeds_shepp_4 (log file at moving_ai_Berlin_0_256_reeds_shepp/moving_ai_Berlin_0_256_reeds_shepp_4.log)...\n",
      "Running MPB with ID moving_ai_Berlin_0_256_reeds_shepp_9 (log file at moving_ai_Berlin_0_256_reeds_shepp/moving_ai_Berlin_0_256_reeds_shepp_9.log)...\n",
      "Running MPB with ID moving_ai_Berlin_0_256_reeds_shepp_16 (log file at moving_ai_Berlin_0_256_reeds_shepp/moving_ai_Berlin_0_256_reeds_shepp_16.log)...\n",
      "Running MPB with ID moving_ai_Berlin_0_256_reeds_shepp_13 (log file at moving_ai_Berlin_0_256_reeds_shepp/moving_ai_Berlin_0_256_reeds_shepp_13.log)...\n",
      "Running MPB with ID moving_ai_Berlin_0_256_reeds_shepp_6 (log file at moving_ai_Berlin_0_256_reeds_shepp/moving_ai_Berlin_0_256_reeds_shepp_6.log)...\n",
      "Running MPB with ID moving_ai_Berlin_0_256_reeds_shepp_17 (log file at moving_ai_Berlin_0_256_reeds_shepp/moving_ai_Berlin_0_256_reeds_shepp_17.log)...\n",
      "Running MPB with ID moving_ai_Berlin_0_256_reeds_shepp_11 (log file at moving_ai_Berlin_0_256_reeds_shepp/moving_ai_Berlin_0_256_reeds_shepp_11.log)...\n",
      "Running MPB with ID moving_ai_Berlin_0_256_reeds_shepp_18 (log file at moving_ai_Berlin_0_256_reeds_shepp/moving_ai_Berlin_0_256_reeds_shepp_18.log)...\n",
      "Running MPB with ID moving_ai_Berlin_0_256_reeds_shepp_7 (log file at moving_ai_Berlin_0_256_reeds_shepp/moving_ai_Berlin_0_256_reeds_shepp_7.log)...\n",
      "Running MPB with ID moving_ai_Berlin_0_256_reeds_shepp_1 (log file at moving_ai_Berlin_0_256_reeds_shepp/moving_ai_Berlin_0_256_reeds_shepp_1.log)...\n",
      "Running MPB with ID moving_ai_Berlin_0_256_reeds_shepp_19 (log file at moving_ai_Berlin_0_256_reeds_shepp/moving_ai_Berlin_0_256_reeds_shepp_19.log)...\n",
      "Running MPB with ID moving_ai_Berlin_0_256_reeds_shepp_14 (log file at moving_ai_Berlin_0_256_reeds_shepp/moving_ai_Berlin_0_256_reeds_shepp_14.log)...\n",
      "Running MPB with ID moving_ai_Berlin_0_256_reeds_shepp_15 (log file at moving_ai_Berlin_0_256_reeds_shepp/moving_ai_Berlin_0_256_reeds_shepp_15.log)...\n",
      "Running MPB with ID moving_ai_Berlin_0_256_reeds_shepp_2 (log file at moving_ai_Berlin_0_256_reeds_shepp/moving_ai_Berlin_0_256_reeds_shepp_2.log)...\n",
      "Running MPB with ID moving_ai_Berlin_0_256_reeds_shepp_5 (log file at moving_ai_Berlin_0_256_reeds_shepp/moving_ai_Berlin_0_256_reeds_shepp_5.log)...\n"
     ]
    },
    {
     "data": {
      "application/vnd.jupyter.widget-view+json": {
       "model_id": "90b3ec402a694086adee730e09c0d074",
       "version_major": 2,
       "version_minor": 0
      },
      "text/plain": [
       "HBox(children=(IntProgress(value=0, description='moving_ai_Berlin_0_256_reeds_shepp_18', layout=Layout(flex='2…"
      ]
     },
     "metadata": {},
     "output_type": "display_data"
    },
    {
     "data": {
      "application/vnd.jupyter.widget-view+json": {
       "model_id": "78cbf2ea369645b2ae3580094cde5fba",
       "version_major": 2,
       "version_minor": 0
      },
      "text/plain": [
       "HBox(children=(IntProgress(value=0, description='moving_ai_Berlin_0_256_reeds_shepp_9', layout=Layout(flex='2'…"
      ]
     },
     "metadata": {},
     "output_type": "display_data"
    },
    {
     "data": {
      "application/vnd.jupyter.widget-view+json": {
       "model_id": "4c775ae596a2409f9a0c7483998d1704",
       "version_major": 2,
       "version_minor": 0
      },
      "text/plain": [
       "HBox(children=(IntProgress(value=0, description='moving_ai_Berlin_0_256_reeds_shepp_12', layout=Layout(flex='2…"
      ]
     },
     "metadata": {},
     "output_type": "display_data"
    },
    {
     "data": {
      "application/vnd.jupyter.widget-view+json": {
       "model_id": "b27eaf096a9245d2aaa13a12f384acd4",
       "version_major": 2,
       "version_minor": 0
      },
      "text/plain": [
       "HBox(children=(IntProgress(value=0, description='moving_ai_Berlin_0_256_reeds_shepp_3', layout=Layout(flex='2'…"
      ]
     },
     "metadata": {},
     "output_type": "display_data"
    },
    {
     "data": {
      "application/vnd.jupyter.widget-view+json": {
       "model_id": "125cf0aca2914916bea17f653f3c25af",
       "version_major": 2,
       "version_minor": 0
      },
      "text/plain": [
       "HBox(children=(IntProgress(value=0, description='moving_ai_Berlin_0_256_reeds_shepp_10', layout=Layout(flex='2…"
      ]
     },
     "metadata": {},
     "output_type": "display_data"
    },
    {
     "data": {
      "application/vnd.jupyter.widget-view+json": {
       "model_id": "b2a4175227a940b6825fe439729f4d8b",
       "version_major": 2,
       "version_minor": 0
      },
      "text/plain": [
       "HBox(children=(IntProgress(value=0, description='moving_ai_Berlin_0_256_reeds_shepp_8', layout=Layout(flex='2'…"
      ]
     },
     "metadata": {},
     "output_type": "display_data"
    },
    {
     "data": {
      "application/vnd.jupyter.widget-view+json": {
       "model_id": "9afc7eac25f141b499a427950778c58c",
       "version_major": 2,
       "version_minor": 0
      },
      "text/plain": [
       "HBox(children=(IntProgress(value=0, description='moving_ai_Berlin_0_256_reeds_shepp_17', layout=Layout(flex='2…"
      ]
     },
     "metadata": {},
     "output_type": "display_data"
    },
    {
     "data": {
      "application/vnd.jupyter.widget-view+json": {
       "model_id": "858060372af7402886131cf1a355bd00",
       "version_major": 2,
       "version_minor": 0
      },
      "text/plain": [
       "HBox(children=(IntProgress(value=0, description='moving_ai_Berlin_0_256_reeds_shepp_16', layout=Layout(flex='2…"
      ]
     },
     "metadata": {},
     "output_type": "display_data"
    },
    {
     "data": {
      "application/vnd.jupyter.widget-view+json": {
       "model_id": "3acfd61d695a4f5e903860316356fa9f",
       "version_major": 2,
       "version_minor": 0
      },
      "text/plain": [
       "HBox(children=(IntProgress(value=0, description='moving_ai_Berlin_0_256_reeds_shepp_1', layout=Layout(flex='2'…"
      ]
     },
     "metadata": {},
     "output_type": "display_data"
    },
    {
     "data": {
      "application/vnd.jupyter.widget-view+json": {
       "model_id": "922216831c5f483e9ddfda08fdc5468b",
       "version_major": 2,
       "version_minor": 0
      },
      "text/plain": [
       "HBox(children=(IntProgress(value=0, description='moving_ai_Berlin_0_256_reeds_shepp_6', layout=Layout(flex='2'…"
      ]
     },
     "metadata": {},
     "output_type": "display_data"
    },
    {
     "data": {
      "application/vnd.jupyter.widget-view+json": {
       "model_id": "429a1f115db9437c8914d41f513d7f7b",
       "version_major": 2,
       "version_minor": 0
      },
      "text/plain": [
       "HBox(children=(IntProgress(value=0, description='moving_ai_Berlin_0_256_reeds_shepp_19', layout=Layout(flex='2…"
      ]
     },
     "metadata": {},
     "output_type": "display_data"
    },
    {
     "data": {
      "application/vnd.jupyter.widget-view+json": {
       "model_id": "b38912cb54a441699ce7b6839b5af877",
       "version_major": 2,
       "version_minor": 0
      },
      "text/plain": [
       "HBox(children=(IntProgress(value=0, description='moving_ai_Berlin_0_256_reeds_shepp_7', layout=Layout(flex='2'…"
      ]
     },
     "metadata": {},
     "output_type": "display_data"
    },
    {
     "data": {
      "application/vnd.jupyter.widget-view+json": {
       "model_id": "bf1f63cd785e4328806a152146f5fd83",
       "version_major": 2,
       "version_minor": 0
      },
      "text/plain": [
       "HBox(children=(IntProgress(value=0, description='moving_ai_Berlin_0_256_reeds_shepp_11', layout=Layout(flex='2…"
      ]
     },
     "metadata": {},
     "output_type": "display_data"
    },
    {
     "data": {
      "application/vnd.jupyter.widget-view+json": {
       "model_id": "06ff39d5c0904d25b845279348a86eeb",
       "version_major": 2,
       "version_minor": 0
      },
      "text/plain": [
       "HBox(children=(IntProgress(value=0, description='moving_ai_Berlin_0_256_reeds_shepp_14', layout=Layout(flex='2…"
      ]
     },
     "metadata": {},
     "output_type": "display_data"
    },
    {
     "data": {
      "application/vnd.jupyter.widget-view+json": {
       "model_id": "bb89c80e604b440eb02dd7751547ba30",
       "version_major": 2,
       "version_minor": 0
      },
      "text/plain": [
       "HBox(children=(IntProgress(value=0, description='moving_ai_Berlin_0_256_reeds_shepp_15', layout=Layout(flex='2…"
      ]
     },
     "metadata": {},
     "output_type": "display_data"
    },
    {
     "data": {
      "application/vnd.jupyter.widget-view+json": {
       "model_id": "01feb33156d649eea49b54cdb3fcc20e",
       "version_major": 2,
       "version_minor": 0
      },
      "text/plain": [
       "HBox(children=(IntProgress(value=0, description='moving_ai_Berlin_0_256_reeds_shepp_4', layout=Layout(flex='2'…"
      ]
     },
     "metadata": {},
     "output_type": "display_data"
    },
    {
     "data": {
      "application/vnd.jupyter.widget-view+json": {
       "model_id": "60c4762cbaa141e18a987bd2f026e3bd",
       "version_major": 2,
       "version_minor": 0
      },
      "text/plain": [
       "HBox(children=(IntProgress(value=0, description='moving_ai_Berlin_0_256_reeds_shepp_2', layout=Layout(flex='2'…"
      ]
     },
     "metadata": {},
     "output_type": "display_data"
    },
    {
     "data": {
      "application/vnd.jupyter.widget-view+json": {
       "model_id": "1d16148d5c9a4a378e49e88c31dfb66f",
       "version_major": 2,
       "version_minor": 0
      },
      "text/plain": [
       "HBox(children=(IntProgress(value=0, description='moving_ai_Berlin_0_256_reeds_shepp_0', layout=Layout(flex='2'…"
      ]
     },
     "metadata": {},
     "output_type": "display_data"
    },
    {
     "data": {
      "application/vnd.jupyter.widget-view+json": {
       "model_id": "a779dc44f31c4a61af6c877765cbc3d8",
       "version_major": 2,
       "version_minor": 0
      },
      "text/plain": [
       "HBox(children=(IntProgress(value=0, description='moving_ai_Berlin_0_256_reeds_shepp_5', layout=Layout(flex='2'…"
      ]
     },
     "metadata": {},
     "output_type": "display_data"
    },
    {
     "data": {
      "application/vnd.jupyter.widget-view+json": {
       "model_id": "196cfbadb22e4379b1484c6df7b80aea",
       "version_major": 2,
       "version_minor": 0
      },
      "text/plain": [
       "HBox(children=(IntProgress(value=0, description='moving_ai_Berlin_0_256_reeds_shepp_13', layout=Layout(flex='2…"
      ]
     },
     "metadata": {},
     "output_type": "display_data"
    }
   ],
   "source": [
    "scenario = 'Berlin_0_256' # 'Denver_1_256' #'Boston_1_1024'\n",
    "num_scenarios = 50\n",
    "\n",
    "time_limit_multiplier = 6\n",
    "\n",
    "steer_function_times = [\n",
    "    ('reeds_shepp', 15 * time_limit_multiplier),    \n",
    "    ('dubins', 60 * time_limit_multiplier),    \n",
    "    ('cc_reeds_shepp', 1.5 * 60 * time_limit_multiplier),    \n",
    "    ('posq', 120 * time_limit_multiplier)\n",
    "]\n",
    "\n",
    "for steer_function, time_limit in steer_function_times:\n",
    "    benchmark_moving_ai(scenario, num_scenarios, steer_function, time_limit)"
   ]
  },
  {
   "cell_type": "code",
   "execution_count": 68,
   "metadata": {},
   "outputs": [
    {
     "name": "stdout",
     "output_type": "stream",
     "text": [
      "\\rowlabel{cc_reeds_shepp  [540 sec.]}\n",
      "\\\\\n",
      "BFMT                                     & % BFMT\n",
      "\t{\\hspace{-1.5cm}\\databartwo{0.98}{0.98}\\makebox[0pt][c]{\\hspace{1cm}50 / 50}} &\n",
      "\t{\\databar{0.07}}\t35.48 \\pm 4.02 &\n",
      "\t{\\databar{0.42}}\t364.42 \\pm 10.70 &\n",
      "\t{\\databar{0.22}}\t0.28 \\pm 0.14 &\n",
      "\t{\\databar{0.76}}\t8.88 \\pm 2.20 &\n",
      "\t{\\databar{0.05}}\t93 %\n",
      "\\\\\n",
      "BIT${}^*$                                & % BIT*\n",
      "\t{\\hspace{-1.5cm}\\databartwo{0.53}{0.53}\\makebox[0pt][c]{\\hspace{1cm}27 / 27}} &\n",
      "\t{\\databar{1.00}}\t540.23 \\pm 0.32 &\n",
      "\t{\\databar{0.42}}\t369.78 \\pm 9.33 &\n",
      "\t{\\databar{0.28}}\t0.36 \\pm 0.16 &\n",
      "\t{\\databar{0.67}}\t7.86 \\pm 2.86 &\n",
      "\t{\\databar{0.08}}\t88 %\n",
      "\\\\\n",
      "CForest                                  & % CForest\n",
      "\t{\\hspace{-1.5cm}\\databartwo{1.00}{0.00}\\makebox[0pt][c]{\\hspace{1cm}0 / 51}} &\n",
      "\t{\\databar{0.01}}\t6.04 \\pm 27.24 &\n",
      "\t{\\databar{0.38}}\t332.48 \\pm 43.72 &\n",
      "\t{\\databar{0.19}}\t0.24 \\pm 0.16 &\n",
      "\t{\\databar{0.71}}\t8.28 \\pm 2.50 &\n",
      "\t{\\databar{0.04}}\t79 %\n",
      "\\\\\n",
      "EST                                      & % EST\n",
      "\t{\\hspace{-1.5cm}\\databartwo{1.00}{0.98}\\makebox[0pt][c]{\\hspace{1cm}50 / 51}} &\n",
      "\t{\\databar{0.07}}\t37.78 \\pm 75.86 &\n",
      "\t{\\databar{0.69}}\t603.43 \\pm 85.59 &\n",
      "\t{\\databar{0.31}}\t0.40 \\pm 0.18 &\n",
      "\t{\\databar{0.99}}\t11.51 \\pm 1.98 &\n",
      "\t{\\databar{0.68}}\t1328 %\n",
      "\\\\\n",
      "Informed RRT${}^*$                       & % Informed RRT*\n",
      "\t{\\hspace{-1.5cm}\\databartwo{1.00}{0.92}\\makebox[0pt][c]{\\hspace{1cm}47 / 51}} &\n",
      "\t{\\databar{1.00}}\t540.18 \\pm 0.30 &\n",
      "\t{\\databar{0.40}}\t350.93 \\pm 18.28 &\n",
      "\t{\\databar{0.20}}\t0.26 \\pm 0.13 &\n",
      "\t{\\databar{0.68}}\t7.93 \\pm 2.09 &\n",
      "\t{\\databar{0.03}}\t55 %\n",
      "\\\\\n",
      "KPIECE                                   & % KPIECE\n",
      "\t{\\hspace{-1.5cm}\\databartwo{1.00}{0.98}\\makebox[0pt][c]{\\hspace{1cm}50 / 51}} &\n",
      "\t{\\databar{0.09}}\t50.62 \\pm 122.96 &\n",
      "\t{\\databar{1.00}}\t871.77 \\pm 181.52 &\n",
      "\t{\\databar{0.25}}\t0.32 \\pm 0.11 &\n",
      "\t{\\databar{0.96}}\t11.19 \\pm 1.43 &\n",
      "\t{\\databar{1.00}}\t1946 %\n",
      "\\\\\n",
      "PDST                                     & % PDST\n",
      "\t{\\hspace{-1.5cm}\\databartwo{1.00}{0.88}\\makebox[0pt][c]{\\hspace{1cm}45 / 51}} &\n",
      "\t{\\databar{0.20}}\t106.69 \\pm 161.92 &\n",
      "\t{\\databar{0.58}}\t502.35 \\pm 117.01 &\n",
      "\t{\\databar{0.25}}\t0.33 \\pm 0.25 &\n",
      "\t{\\databar{1.00}}\t11.67 \\pm 1.88 &\n",
      "\t{\\databar{0.18}}\t349 %\n",
      "\\\\\n",
      "PRM                                      & % PRM\n",
      "\t{\\hspace{-1.5cm}\\databartwo{1.00}{0.94}\\makebox[0pt][c]{\\hspace{1cm}48 / 51}} &\n",
      "\t{\\databar{1.00}}\t540.19 \\pm 0.12 &\n",
      "\t{\\databar{0.44}}\t387.66 \\pm 34.60 &\n",
      "\t{\\databar{0.29}}\t0.37 \\pm 0.16 &\n",
      "\t{\\databar{0.80}}\t9.38 \\pm 1.82 &\n",
      "\t{\\databar{0.14}}\t276 %\n",
      "\\\\\n",
      "PRM${}^*$                                & % PRM*\n",
      "\t{\\hspace{-1.5cm}\\databartwo{1.00}{0.90}\\makebox[0pt][c]{\\hspace{1cm}46 / 51}} &\n",
      "\t{\\databar{1.00}}\t540.34 \\pm 0.19 &\n",
      "\t{\\databar{0.44}}\t379.92 \\pm 27.19 &\n",
      "\t{\\databar{0.29}}\t0.38 \\pm 0.15 &\n",
      "\t{\\databar{0.79}}\t9.28 \\pm 1.68 &\n",
      "\t{\\databar{0.11}}\t212 %\n",
      "\\\\\n",
      "RRT                                      & % RRT\n",
      "\t{\\hspace{-1.5cm}\\databartwo{1.00}{0.96}\\makebox[0pt][c]{\\hspace{1cm}49 / 51}} &\n",
      "\t{\\databar{0.05}}\t24.72 \\pm 84.37 &\n",
      "\t{\\databar{0.56}}\t485.07 \\pm 67.91 &\n",
      "\t{\\databar{0.30}}\t0.40 \\pm 0.09 &\n",
      "\t{\\databar{0.98}}\t11.48 \\pm 1.62 &\n",
      "\t{\\databar{0.23}}\t442 %\n",
      "\\\\\n",
      "RRT\\#                                    & % RRT#\n",
      "\t{\\hspace{-1.5cm}\\databartwo{1.00}{0.98}\\makebox[0pt][c]{\\hspace{1cm}50 / 51}} &\n",
      "\t{\\databar{1.00}}\t540.51 \\pm 0.60 &\n",
      "\t{\\databar{0.41}}\t354.06 \\pm 25.05 &\n",
      "\t{\\databar{0.25}}\t0.33 \\pm 0.26 &\n",
      "\t{\\databar{0.70}}\t8.16 \\pm 2.00 &\n",
      "\t{\\databar{0.04}}\t82 %\n",
      "\\\\\n",
      "RRT${}^*$                                & % RRT*\n",
      "\t{\\hspace{-1.5cm}\\databartwo{1.00}{1.00}\\makebox[0pt][c]{\\hspace{1cm}51 / 51}} &\n",
      "\t{\\databar{1.00}}\t540.21 \\pm 0.26 &\n",
      "\t{\\databar{0.40}}\t350.60 \\pm 19.42 &\n",
      "\t{\\databar{0.21}}\t0.28 \\pm 0.15 &\n",
      "\t{\\databar{0.69}}\t8.00 \\pm 2.01 &\n",
      "\t{\\databar{0.03}}\t66 %\n",
      "\\\\\n",
      "SBPL AD${}^*$                            & % SBPL AD*\n",
      "\t0 &\n",
      "\tN / A&\n",
      "\tN / A&\n",
      "\tN / A&\n",
      "\tN / A&\n",
      "\tN / A%\n",
      "\\\\\n",
      "SBPL AR${}^*$                            & % SBPL AR*\n",
      "\t0 &\n",
      "\tN / A&\n",
      "\tN / A&\n",
      "\tN / A&\n",
      "\tN / A&\n",
      "\tN / A%\n",
      "\\\\\n",
      "SBPL MHA                                 & % SBPL MHA\n",
      "\t{\\hspace{-1.5cm}\\databartwo{0.98}{0.98}\\makebox[0pt][c]{\\hspace{1cm}50 / 50}} &\n",
      "\t{\\databar{0.22}}\t118.79 \\pm 58.26 &\n",
      "\t{\\databar{0.41}}\t359.34 \\pm 20.05 &\n",
      "\t{\\databar{1.00}}\t1.31 \\pm 1.61 &\n",
      "\t{\\databar{0.73}}\t8.52 \\pm 2.92 &\n",
      "\t{\\databar{0.04}}\t84 %\n",
      "\\\\\n",
      "SORRT${}^*$                              & % SORRT*\n",
      "\t{\\hspace{-1.5cm}\\databartwo{0.31}{0.31}\\makebox[0pt][c]{\\hspace{1cm}16 / 16}} &\n",
      "\t{\\databar{1.00}}\t540.13 \\pm 0.11 &\n",
      "\t{\\databar{0.41}}\t354.88 \\pm 21.51 &\n",
      "\t{\\databar{0.19}}\t0.25 \\pm 0.14 &\n",
      "\t{\\databar{0.57}}\t6.62 \\pm 2.56 &\n",
      "\t{\\databar{0.06}}\t38 %\n",
      "\\\\\n",
      "SPARS                                    & % SPARS\n",
      "\t{\\hspace{-1.5cm}\\databartwo{0.94}{0.94}\\makebox[0pt][c]{\\hspace{1cm}48 / 48}} &\n",
      "\t{\\databar{1.00}}\t541.95 \\pm 1.78 &\n",
      "\t{\\databar{0.51}}\t444.56 \\pm 63.26 &\n",
      "\t{\\databar{0.34}}\t0.44 \\pm 0.11 &\n",
      "\t{\\databar{0.97}}\t11.36 \\pm 1.13 &\n",
      "\t{\\databar{0.18}}\t350 %\n",
      "\\\\\n",
      "SPARS2                                   & % SPARS2\n",
      "\t0 &\n",
      "\tN / A&\n",
      "\tN / A&\n",
      "\tN / A&\n",
      "\tN / A&\n",
      "\tN / A%\n",
      "\\\\\n",
      "SST                                      & % SST\n",
      "\t{\\hspace{-1.5cm}\\databartwo{1.00}{1.00}\\makebox[0pt][c]{\\hspace{1cm}51 / 51}} &\n",
      "\t{\\databar{1.00}}\t540.02 \\pm 0.01 &\n",
      "\t{\\databar{0.56}}\t491.53 \\pm 79.66 &\n",
      "\t{\\databar{0.39}}\t0.51 \\pm 0.24 &\n",
      "\t{\\databar{0.85}}\t9.91 \\pm 1.66 &\n",
      "\t{\\databar{0.41}}\t795 %\n",
      "\\\\\n",
      "Theta${}^*$                              & % Theta*\n",
      "\t0 &\n",
      "\tN / A&\n",
      "\tN / A&\n",
      "\tN / A&\n",
      "\tN / A&\n",
      "\tN / A%\n",
      "\\\\\n",
      "\n"
     ]
    }
   ],
   "source": [
    "steer_function = 2\n",
    "steer_name = steer_function_times[steer_function][0]\n",
    "steer_time = steer_function_times[steer_function][1]\n",
    "total_filename = 'moving_ai_%s_%s/_total.json' % (scenario, steer_name)\n",
    "print(latex_table(total_filename, row_label='%s  [%d sec.]' % (steer_name, steer_time) , time_limit=steer_time))"
   ]
  },
  {
   "cell_type": "code",
   "execution_count": null,
   "metadata": {},
   "outputs": [],
   "source": []
  }
 ],
 "metadata": {
  "kernelspec": {
   "display_name": "Python 3",
   "language": "python",
   "name": "python3"
  },
  "language_info": {
   "codemirror_mode": {
    "name": "ipython",
    "version": 3
   },
   "file_extension": ".py",
   "mimetype": "text/x-python",
   "name": "python",
   "nbconvert_exporter": "python",
   "pygments_lexer": "ipython3",
   "version": "3.6.8"
  }
 },
 "nbformat": 4,
 "nbformat_minor": 4
}
