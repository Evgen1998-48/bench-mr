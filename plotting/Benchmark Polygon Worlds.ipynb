{
 "cells": [
  {
   "cell_type": "markdown",
   "metadata": {},
   "source": [
    "## Steer Function Comparison\n",
    "In this notebook, we examine the planners using different steer functions."
   ]
  },
  {
   "cell_type": "code",
   "execution_count": 7,
   "metadata": {},
   "outputs": [
    {
     "name": "stdout",
     "output_type": "stream",
     "text": [
      "The autoreload extension is already loaded. To reload it, use:\n",
      "  %reload_ext autoreload\n"
     ]
    }
   ],
   "source": [
    "%load_ext autoreload\n",
    "%autoreload 2\n",
    "from mpb import MPB, MultipleMPB\n",
    "from plot_stats import plot_planner_stats, plot_smoother_stats\n",
    "from utils import latexify\n",
    "from table import latex_table\n",
    "from definitions import *\n",
    "import matplotlib as mpl\n",
    "import sys, os\n",
    "mpl.rcParams['mathtext.fontset'] = 'cm'\n",
    "# make sure to not use Level-3 fonts\n",
    "mpl.rcParams['pdf.fonttype'] = 42\n",
    "import matplotlib.pyplot as plt\n",
    "from copy import deepcopy"
   ]
  },
  {
   "cell_type": "markdown",
   "metadata": {},
   "source": [
    "### Polygon Environments"
   ]
  },
  {
   "cell_type": "code",
   "execution_count": 8,
   "metadata": {},
   "outputs": [],
   "source": [
    "def benchmark_polygon(scenario: str, start: {str: float}, goal: {str: float}, robot_model: str = None):\n",
    "    time_limit_multiplier = 1\n",
    "    bench = \"polygon_%s\" % scenario\n",
    "\n",
    "    steer_function_times = [\n",
    "        ('reeds_shepp', 15 * time_limit_multiplier),    \n",
    "        ('dubins', 45 * time_limit_multiplier),    \n",
    "        ('cc_reeds_shepp', 1.5 * 60 * time_limit_multiplier),    \n",
    "        ('posq', 120 * time_limit_multiplier)\n",
    "    ]\n",
    "    \n",
    "    pool = MultipleMPB()\n",
    "    # config = MPB.get_config()\n",
    "    for steer_function, time_limit in steer_function_times:\n",
    "        m = MPB()   \n",
    "        # m.update(deepcopy(config))\n",
    "        m[\"max_planning_time\"] = time_limit\n",
    "        m[\"env.start\"] = start\n",
    "        m[\"env.goal\"] = goal\n",
    "        m[\"env.type\"] = \"polygon\"\n",
    "        m[\"env.polygon.source\"] = \"polygon_mazes/%s.svg\" % scenario\n",
    "        if robot_model:\n",
    "            print(\"Using robot model %s.\" % robot_model)\n",
    "            m[\"env.collision.robot_shape_source\"] = robot_model\n",
    "        m[\"benchmark.planning.sbpl_adstar\"] = False\n",
    "        m[\"benchmark.planning.sbpl_anastar\"] = False\n",
    "        m[\"benchmark.planning.sbpl_arastar\"] = False\n",
    "        m[\"benchmark.planning.sbpl_lazy_ara\"] = False\n",
    "        m[\"benchmark.planning.sbpl_mha\"] = False\n",
    "        m.set_steer_functions([steer_function])\n",
    "        #     m.set_smoothers(['grips', 'ompl_bspline', 'ompl_shortcut', 'ompl_simplify_max'])\n",
    "        #     m.set_planners(['theta_star'])\n",
    "        #     m.set_planners(['sbpl_adstar'])\n",
    "        pool.benchmarks.append(m)\n",
    "    run_result = pool.run_parallel(bench, processes=20, limit_memory=True)"
   ]
  },
  {
   "cell_type": "code",
   "execution_count": 9,
   "metadata": {},
   "outputs": [],
   "source": [
    "def generate_plots(scenario: str, start: {str: float}, goal: {str: float}, robot_model: str = None):\n",
    "    for i, (steer_function, _) in enumerate(steer_function_times):\n",
    "        bench_steer = \"%s_%s\" % (bench, steer_function)\n",
    "        # plot trajectories\n",
    "        try:\n",
    "            pool.benchmarks[i].visualize_trajectories(show_legend=True, fig_width=8, fig_height=8)\n",
    "            plt.savefig(\"%s/%s_trajectories.pdf\" % (bench, bench_steer), bbox_inches='tight')\n",
    "        except Exception as e:\n",
    "            print(\"Error while visualizing trajectories:\", e, file=sys.stderr)\n",
    "\n",
    "        # plot planner stats\n",
    "        try:        \n",
    "            plot_planner_stats(pool.benchmarks[i].results_filename, save_file=\"%s/%s_stats.pdf\" % (bench, bench_steer))\n",
    "        except Exception as e:\n",
    "            print(\"Error while plotting planner statistics:\", e, file=sys.stderr)\n",
    "\n",
    "        # plot smoother stats\n",
    "        try:\n",
    "            plot_smoother_stats(pool.benchmarks[i].results_filename,\n",
    "                                save_file=\"%s/%s_smoother_stats.pdf\" % (bench, bench_steer),\n",
    "                                separate_planners=False, num_colors=8,\n",
    "                                combine_views=True, max_plots_per_line=3)\n",
    "        except Exception as e:\n",
    "            print(\"Error while plotting smoother statistics:\", e, file=sys.stderr)\n",
    "\n",
    "        # plot smoother stats (separated by planners)\n",
    "        try:\n",
    "            plot_smoother_stats(pool.benchmarks[i].results_filename,\n",
    "                                save_file=\"%s/%s_smoother_stats_separated.pdf\" % (bench, bench_steer),\n",
    "                                separate_planners=True, num_colors=8, combine_views=True,\n",
    "                                max_plots_per_line=1, fig_width=25, fig_height=6)\n",
    "        except Exception as e:\n",
    "            print(\"Error while plotting smoother statistics:\", e, file=sys.stderr)\n",
    "\n",
    "        # generate LaTeX table\n",
    "        try:\n",
    "            with open(\"%s/%s_table.txt\" % (bench, bench_steer), 'w') as tf:\n",
    "                tf.write(latex_table(pool.benchmarks[i].results_filename,\n",
    "                                     row_label='\\\\textbf{Steer function: \\\\texttt{%s}} (\\\\SI{%.1f}{\\\\minute} time limit)'\n",
    "\n",
    "                                     % (latexify(steer_function_names[steer_function]),\n",
    "                                        time_limit/60),\n",
    "                                     time_limit=time_limit))\n",
    "        except Exception as e:\n",
    "            print(\"Error while generating table:\", e, file=sys.stderr)\n",
    "\n",
    "        return run_result"
   ]
  },
  {
   "cell_type": "code",
   "execution_count": 10,
   "metadata": {},
   "outputs": [
    {
     "name": "stdout",
     "output_type": "stream",
     "text": [
      "Created MPB from config ../bin/benchmark_template.json.\n",
      "Created MPB from config ../bin/benchmark_template.json.\n",
      "Created MPB from config ../bin/benchmark_template.json.\n",
      "Created MPB from config ../bin/benchmark_template.json.\n",
      "Available memory: 228.97 GB, limiting each MPB process to 6.9% usage (15.90 GB).\n",
      "Creating pool of 4 processes.\n",
      "Created MPB from config polygon_parking1/polygon_parking1_3_config.json.\n",
      "Created MPB from config polygon_parking1/polygon_parking1_1_config.json.\n",
      "Created MPB from config polygon_parking1/polygon_parking1_2_config.json.\n",
      "Created MPB from config polygon_parking1/polygon_parking1_0_config.json.\n",
      "Running MPB with ID polygon_parking1_3 (log file at polygon_parking1/polygon_parking1_3.log)...\n",
      "Running MPB with ID polygon_parking1_2 (log file at polygon_parking1/polygon_parking1_2.log)...\n",
      "Running MPB with ID polygon_parking1_1 (log file at polygon_parking1/polygon_parking1_1.log)...\n",
      "Running MPB with ID polygon_parking1_0 (log file at polygon_parking1/polygon_parking1_0.log)...\n"
     ]
    },
    {
     "data": {
      "application/vnd.jupyter.widget-view+json": {
       "model_id": "115937c68a5a43a0885bfb6237e56be4",
       "version_major": 2,
       "version_minor": 0
      },
      "text/plain": [
       "HBox(children=(IntProgress(value=0, description='polygon_parking1_1', layout=Layout(flex='2'), max=17, style=P…"
      ]
     },
     "metadata": {},
     "output_type": "display_data"
    },
    {
     "data": {
      "application/vnd.jupyter.widget-view+json": {
       "model_id": "bd8e640002204eb5bb17faaa0e82982d",
       "version_major": 2,
       "version_minor": 0
      },
      "text/plain": [
       "HBox(children=(IntProgress(value=0, description='polygon_parking1_2', layout=Layout(flex='2'), max=17, style=P…"
      ]
     },
     "metadata": {},
     "output_type": "display_data"
    },
    {
     "data": {
      "application/vnd.jupyter.widget-view+json": {
       "model_id": "0e6fc346677b4892a6918342b9858666",
       "version_major": 2,
       "version_minor": 0
      },
      "text/plain": [
       "HBox(children=(IntProgress(value=0, description='polygon_parking1_3', layout=Layout(flex='2'), max=17, style=P…"
      ]
     },
     "metadata": {},
     "output_type": "display_data"
    },
    {
     "data": {
      "application/vnd.jupyter.widget-view+json": {
       "model_id": "6230c31cc1314d0080a66ae3a772009e",
       "version_major": 2,
       "version_minor": 0
      },
      "text/plain": [
       "HBox(children=(IntProgress(value=0, description='polygon_parking1_0', layout=Layout(flex='2'), max=17, style=P…"
      ]
     },
     "metadata": {},
     "output_type": "display_data"
    },
    {
     "name": "stdout",
     "output_type": "stream",
     "text": [
      "\n",
      "Benchmark 0 (polygon_parking1_0) finished successfully.\n",
      "\n",
      "Benchmark 2 (polygon_parking1_2) finished successfully.\n",
      "\n",
      "Benchmark 3 (polygon_parking1_3) finished successfully.\n",
      "\n",
      "Benchmark 1 (polygon_parking1_1) finished successfully.\n",
      "All benchmarks succeeded.\n",
      "Created MPB from config ../bin/benchmark_template.json.\n",
      "Created MPB from config ../bin/benchmark_template.json.\n",
      "Created MPB from config ../bin/benchmark_template.json.\n",
      "Created MPB from config ../bin/benchmark_template.json.\n",
      "Available memory: 229.02 GB, limiting each MPB process to 6.9% usage (15.90 GB).\n",
      "Creating pool of 4 processes.\n",
      "Created MPB from config polygon_parking2/polygon_parking2_0_config.json.\n",
      "Created MPB from config polygon_parking2/polygon_parking2_1_config.json.\n",
      "Created MPB from config polygon_parking2/polygon_parking2_2_config.json.\n",
      "Created MPB from config polygon_parking2/polygon_parking2_3_config.json.\n",
      "Running MPB with ID polygon_parking2_1 (log file at polygon_parking2/polygon_parking2_1.log)...\n",
      "Running MPB with ID polygon_parking2_0 (log file at polygon_parking2/polygon_parking2_0.log)...\n",
      "Running MPB with ID polygon_parking2_2 (log file at polygon_parking2/polygon_parking2_2.log)...\n",
      "Running MPB with ID polygon_parking2_3 (log file at polygon_parking2/polygon_parking2_3.log)...\n"
     ]
    },
    {
     "data": {
      "application/vnd.jupyter.widget-view+json": {
       "model_id": "22eaef97c50342e5b6a30c81f998f96f",
       "version_major": 2,
       "version_minor": 0
      },
      "text/plain": [
       "HBox(children=(IntProgress(value=0, description='polygon_parking2_1', layout=Layout(flex='2'), max=17, style=P…"
      ]
     },
     "metadata": {},
     "output_type": "display_data"
    },
    {
     "data": {
      "application/vnd.jupyter.widget-view+json": {
       "model_id": "cf59872eeff047dfb1a22ca0facf861d",
       "version_major": 2,
       "version_minor": 0
      },
      "text/plain": [
       "HBox(children=(IntProgress(value=0, description='polygon_parking2_2', layout=Layout(flex='2'), max=17, style=P…"
      ]
     },
     "metadata": {},
     "output_type": "display_data"
    },
    {
     "data": {
      "application/vnd.jupyter.widget-view+json": {
       "model_id": "dea70092fb5f4b2781c6f1e8a237fee0",
       "version_major": 2,
       "version_minor": 0
      },
      "text/plain": [
       "HBox(children=(IntProgress(value=0, description='polygon_parking2_0', layout=Layout(flex='2'), max=17, style=P…"
      ]
     },
     "metadata": {},
     "output_type": "display_data"
    },
    {
     "data": {
      "application/vnd.jupyter.widget-view+json": {
       "model_id": "26ffe7ce5c42480782265bc9281501a5",
       "version_major": 2,
       "version_minor": 0
      },
      "text/plain": [
       "HBox(children=(IntProgress(value=0, description='polygon_parking2_3', layout=Layout(flex='2'), max=17, style=P…"
      ]
     },
     "metadata": {},
     "output_type": "display_data"
    },
    {
     "name": "stdout",
     "output_type": "stream",
     "text": [
      "\n",
      "Benchmark 0 (polygon_parking2_0) finished successfully.\n",
      "\n",
      "Benchmark 1 (polygon_parking2_1) finished successfully.\n",
      "\n",
      "Benchmark 3 (polygon_parking2_3) finished successfully.\n",
      "\n",
      "Benchmark 2 (polygon_parking2_2) finished successfully.\n",
      "All benchmarks succeeded.\n",
      "Created MPB from config ../bin/benchmark_template.json.\n",
      "Created MPB from config ../bin/benchmark_template.json.\n",
      "Created MPB from config ../bin/benchmark_template.json.\n",
      "Created MPB from config ../bin/benchmark_template.json.\n",
      "Available memory: 229.35 GB, limiting each MPB process to 6.9% usage (15.93 GB).\n",
      "Creating pool of 4 processes.\n",
      "Created MPB from config polygon_parking3/polygon_parking3_2_config.json.\n",
      "Created MPB from config polygon_parking3/polygon_parking3_1_config.json.\n",
      "Created MPB from config polygon_parking3/polygon_parking3_0_config.json.\n",
      "Created MPB from config polygon_parking3/polygon_parking3_3_config.json.\n",
      "Running MPB with ID polygon_parking3_2 (log file at polygon_parking3/polygon_parking3_2.log)...\n",
      "Running MPB with ID polygon_parking3_1 (log file at polygon_parking3/polygon_parking3_1.log)...\n",
      "Running MPB with ID polygon_parking3_0 (log file at polygon_parking3/polygon_parking3_0.log)...\n",
      "Running MPB with ID polygon_parking3_3 (log file at polygon_parking3/polygon_parking3_3.log)...\n"
     ]
    },
    {
     "data": {
      "application/vnd.jupyter.widget-view+json": {
       "model_id": "cf7218d68f134d218b28d6ac5246d798",
       "version_major": 2,
       "version_minor": 0
      },
      "text/plain": [
       "HBox(children=(IntProgress(value=0, description='polygon_parking3_0', layout=Layout(flex='2'), max=17, style=P…"
      ]
     },
     "metadata": {},
     "output_type": "display_data"
    },
    {
     "data": {
      "application/vnd.jupyter.widget-view+json": {
       "model_id": "4bed23bc3ddc4467b364681b0f4b687e",
       "version_major": 2,
       "version_minor": 0
      },
      "text/plain": [
       "HBox(children=(IntProgress(value=0, description='polygon_parking3_2', layout=Layout(flex='2'), max=17, style=P…"
      ]
     },
     "metadata": {},
     "output_type": "display_data"
    },
    {
     "data": {
      "application/vnd.jupyter.widget-view+json": {
       "model_id": "ca4f4d1d150347ef80c4fcd0d1259ed1",
       "version_major": 2,
       "version_minor": 0
      },
      "text/plain": [
       "HBox(children=(IntProgress(value=0, description='polygon_parking3_1', layout=Layout(flex='2'), max=17, style=P…"
      ]
     },
     "metadata": {},
     "output_type": "display_data"
    },
    {
     "data": {
      "application/vnd.jupyter.widget-view+json": {
       "model_id": "900e8fbff2aa4ababe07e97b094447c1",
       "version_major": 2,
       "version_minor": 0
      },
      "text/plain": [
       "HBox(children=(IntProgress(value=0, description='polygon_parking3_3', layout=Layout(flex='2'), max=17, style=P…"
      ]
     },
     "metadata": {},
     "output_type": "display_data"
    },
    {
     "name": "stdout",
     "output_type": "stream",
     "text": [
      "\n",
      "Benchmark 0 (polygon_parking3_0) finished successfully.\n",
      "\n",
      "Benchmark 3 (polygon_parking3_3) finished successfully.\n",
      "\n",
      "Benchmark 1 (polygon_parking3_1) finished successfully.\n",
      "\n",
      "Benchmark 2 (polygon_parking3_2) finished successfully.\n",
      "All benchmarks succeeded.\n",
      "Created MPB from config ../bin/benchmark_template.json.\n",
      "Using robot model polygon_mazes/warehouse_robot.svg.\n",
      "Created MPB from config ../bin/benchmark_template.json.\n",
      "Using robot model polygon_mazes/warehouse_robot.svg.\n",
      "Created MPB from config ../bin/benchmark_template.json.\n",
      "Using robot model polygon_mazes/warehouse_robot.svg.\n",
      "Created MPB from config ../bin/benchmark_template.json.\n",
      "Using robot model polygon_mazes/warehouse_robot.svg.\n",
      "Available memory: 228.38 GB, limiting each MPB process to 6.9% usage (15.86 GB).\n",
      "Creating pool of 4 processes.\n",
      "Created MPB from config polygon_warehouse/polygon_warehouse_0_config.json.\n",
      "Created MPB from config polygon_warehouse/polygon_warehouse_1_config.json.\n",
      "Created MPB from config polygon_warehouse/polygon_warehouse_3_config.json.\n",
      "Created MPB from config polygon_warehouse/polygon_warehouse_2_config.json.\n",
      "Running MPB with ID polygon_warehouse_0 (log file at polygon_warehouse/polygon_warehouse_0.log)...\n",
      "Running MPB with ID polygon_warehouse_1 (log file at polygon_warehouse/polygon_warehouse_1.log)...\n",
      "Running MPB with ID polygon_warehouse_2 (log file at polygon_warehouse/polygon_warehouse_2.log)...\n",
      "Running MPB with ID polygon_warehouse_3 (log file at polygon_warehouse/polygon_warehouse_3.log)...\n"
     ]
    },
    {
     "data": {
      "application/vnd.jupyter.widget-view+json": {
       "model_id": "abad2a8e2126496490ad87de8906e7ac",
       "version_major": 2,
       "version_minor": 0
      },
      "text/plain": [
       "HBox(children=(IntProgress(value=0, description='polygon_warehouse_0', layout=Layout(flex='2'), max=17, style=…"
      ]
     },
     "metadata": {},
     "output_type": "display_data"
    },
    {
     "data": {
      "application/vnd.jupyter.widget-view+json": {
       "model_id": "849f216caf1e43928035bfe9eb2be2a3",
       "version_major": 2,
       "version_minor": 0
      },
      "text/plain": [
       "HBox(children=(IntProgress(value=0, description='polygon_warehouse_2', layout=Layout(flex='2'), max=17, style=…"
      ]
     },
     "metadata": {},
     "output_type": "display_data"
    },
    {
     "data": {
      "application/vnd.jupyter.widget-view+json": {
       "model_id": "29d23e7b30564021846f1325563df1d3",
       "version_major": 2,
       "version_minor": 0
      },
      "text/plain": [
       "HBox(children=(IntProgress(value=0, description='polygon_warehouse_1', layout=Layout(flex='2'), max=17, style=…"
      ]
     },
     "metadata": {},
     "output_type": "display_data"
    },
    {
     "data": {
      "application/vnd.jupyter.widget-view+json": {
       "model_id": "7a12f487321c4915b0099224df30c796",
       "version_major": 2,
       "version_minor": 0
      },
      "text/plain": [
       "HBox(children=(IntProgress(value=0, description='polygon_warehouse_3', layout=Layout(flex='2'), max=17, style=…"
      ]
     },
     "metadata": {},
     "output_type": "display_data"
    },
    {
     "name": "stdout",
     "output_type": "stream",
     "text": [
      "\n",
      "Benchmark 0 (polygon_warehouse_0) finished successfully.\n",
      "\n",
      "Benchmark 1 (polygon_warehouse_1) finished successfully.\n",
      "\n",
      "Benchmark 3 (polygon_warehouse_3) finished successfully.\n",
      "\n",
      "Benchmark 2 (polygon_warehouse_2) finished successfully.\n",
      "All benchmarks succeeded.\n"
     ]
    },
    {
     "data": {
      "text/plain": [
       "[None, None, None, None]"
      ]
     },
     "execution_count": 10,
     "metadata": {},
     "output_type": "execute_result"
    }
   ],
   "source": [
    "scenarios = [\n",
    "  (\"parking1\", {\"theta\": -1.58, \"x\": 7.72, \"y\": -7.72}, {\"theta\": 0, \"x\": 0, \"y\": -2.27}),\n",
    "  (\"parking2\", {\"theta\": 0, \"x\": 0, \"y\": -2.27}, {\"theta\": -1.57, \"x\": 10.91, \"y\": 2.73}),\n",
    "  (\"parking3\", {\"theta\": 0, \"x\": 15.45, \"y\": -2.27}, {\"theta\": 0, \"x\": 3.82, \"y\": 0.34}),\n",
    "  (\"warehouse\", {\"theta\": -1.58, \"x\": -2.27, \"y\": 4.55}, {\"theta\": 1.58, \"x\": 63.64, \"y\": 2.27}, \"polygon_mazes/warehouse_robot.svg\")\n",
    "]\n",
    "\n",
    "list(map(lambda x: benchmark_polygon(*x), scenarios))"
   ]
  },
  {
   "cell_type": "code",
   "execution_count": 11,
   "metadata": {},
   "outputs": [
    {
     "ename": "NameError",
     "evalue": "name 'steer_function_times' is not defined",
     "output_type": "error",
     "traceback": [
      "\u001b[0;31m---------------------------------------------------------------------------\u001b[0m",
      "\u001b[0;31mNameError\u001b[0m                                 Traceback (most recent call last)",
      "\u001b[0;32m<ipython-input-11-5f2c69ef11e9>\u001b[0m in \u001b[0;36m<module>\u001b[0;34m\u001b[0m\n\u001b[0;32m----> 1\u001b[0;31m \u001b[0mlist\u001b[0m\u001b[0;34m(\u001b[0m\u001b[0mmap\u001b[0m\u001b[0;34m(\u001b[0m\u001b[0;32mlambda\u001b[0m \u001b[0mx\u001b[0m\u001b[0;34m:\u001b[0m \u001b[0mgenerate_plots\u001b[0m\u001b[0;34m(\u001b[0m\u001b[0;34m*\u001b[0m\u001b[0mx\u001b[0m\u001b[0;34m)\u001b[0m\u001b[0;34m,\u001b[0m \u001b[0mscenarios\u001b[0m\u001b[0;34m)\u001b[0m\u001b[0;34m)\u001b[0m\u001b[0;34m\u001b[0m\u001b[0;34m\u001b[0m\u001b[0m\n\u001b[0m",
      "\u001b[0;32m<ipython-input-11-5f2c69ef11e9>\u001b[0m in \u001b[0;36m<lambda>\u001b[0;34m(x)\u001b[0m\n\u001b[0;32m----> 1\u001b[0;31m \u001b[0mlist\u001b[0m\u001b[0;34m(\u001b[0m\u001b[0mmap\u001b[0m\u001b[0;34m(\u001b[0m\u001b[0;32mlambda\u001b[0m \u001b[0mx\u001b[0m\u001b[0;34m:\u001b[0m \u001b[0mgenerate_plots\u001b[0m\u001b[0;34m(\u001b[0m\u001b[0;34m*\u001b[0m\u001b[0mx\u001b[0m\u001b[0;34m)\u001b[0m\u001b[0;34m,\u001b[0m \u001b[0mscenarios\u001b[0m\u001b[0;34m)\u001b[0m\u001b[0;34m)\u001b[0m\u001b[0;34m\u001b[0m\u001b[0;34m\u001b[0m\u001b[0m\n\u001b[0m",
      "\u001b[0;32m<ipython-input-9-9a595b2794bb>\u001b[0m in \u001b[0;36mgenerate_plots\u001b[0;34m(scenario, start, goal, robot_model)\u001b[0m\n\u001b[1;32m      1\u001b[0m \u001b[0;32mdef\u001b[0m \u001b[0mgenerate_plots\u001b[0m\u001b[0;34m(\u001b[0m\u001b[0mscenario\u001b[0m\u001b[0;34m:\u001b[0m \u001b[0mstr\u001b[0m\u001b[0;34m,\u001b[0m \u001b[0mstart\u001b[0m\u001b[0;34m:\u001b[0m \u001b[0;34m{\u001b[0m\u001b[0mstr\u001b[0m\u001b[0;34m:\u001b[0m \u001b[0mfloat\u001b[0m\u001b[0;34m}\u001b[0m\u001b[0;34m,\u001b[0m \u001b[0mgoal\u001b[0m\u001b[0;34m:\u001b[0m \u001b[0;34m{\u001b[0m\u001b[0mstr\u001b[0m\u001b[0;34m:\u001b[0m \u001b[0mfloat\u001b[0m\u001b[0;34m}\u001b[0m\u001b[0;34m,\u001b[0m \u001b[0mrobot_model\u001b[0m\u001b[0;34m:\u001b[0m \u001b[0mstr\u001b[0m \u001b[0;34m=\u001b[0m \u001b[0;32mNone\u001b[0m\u001b[0;34m)\u001b[0m\u001b[0;34m:\u001b[0m\u001b[0;34m\u001b[0m\u001b[0;34m\u001b[0m\u001b[0m\n\u001b[0;32m----> 2\u001b[0;31m     \u001b[0;32mfor\u001b[0m \u001b[0mi\u001b[0m\u001b[0;34m,\u001b[0m \u001b[0;34m(\u001b[0m\u001b[0msteer_function\u001b[0m\u001b[0;34m,\u001b[0m \u001b[0m_\u001b[0m\u001b[0;34m)\u001b[0m \u001b[0;32min\u001b[0m \u001b[0menumerate\u001b[0m\u001b[0;34m(\u001b[0m\u001b[0msteer_function_times\u001b[0m\u001b[0;34m)\u001b[0m\u001b[0;34m:\u001b[0m\u001b[0;34m\u001b[0m\u001b[0;34m\u001b[0m\u001b[0m\n\u001b[0m\u001b[1;32m      3\u001b[0m         \u001b[0mbench_steer\u001b[0m \u001b[0;34m=\u001b[0m \u001b[0;34m\"%s_%s\"\u001b[0m \u001b[0;34m%\u001b[0m \u001b[0;34m(\u001b[0m\u001b[0mbench\u001b[0m\u001b[0;34m,\u001b[0m \u001b[0msteer_function\u001b[0m\u001b[0;34m)\u001b[0m\u001b[0;34m\u001b[0m\u001b[0;34m\u001b[0m\u001b[0m\n\u001b[1;32m      4\u001b[0m         \u001b[0;31m# plot trajectories\u001b[0m\u001b[0;34m\u001b[0m\u001b[0;34m\u001b[0m\u001b[0;34m\u001b[0m\u001b[0m\n\u001b[1;32m      5\u001b[0m         \u001b[0;32mtry\u001b[0m\u001b[0;34m:\u001b[0m\u001b[0;34m\u001b[0m\u001b[0;34m\u001b[0m\u001b[0m\n",
      "\u001b[0;31mNameError\u001b[0m: name 'steer_function_times' is not defined"
     ]
    }
   ],
   "source": [
    "list(map(lambda x: generate_plots(*x), scenarios))"
   ]
  }
 ],
 "metadata": {
  "kernelspec": {
   "display_name": "Python 3",
   "language": "python",
   "name": "python3"
  },
  "language_info": {
   "codemirror_mode": {
    "name": "ipython",
    "version": 3
   },
   "file_extension": ".py",
   "mimetype": "text/x-python",
   "name": "python",
   "nbconvert_exporter": "python",
   "pygments_lexer": "ipython3",
   "version": "3.6.8"
  }
 },
 "nbformat": 4,
 "nbformat_minor": 4
}
