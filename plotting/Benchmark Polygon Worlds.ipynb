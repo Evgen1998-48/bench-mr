{
 "cells": [
  {
   "cell_type": "markdown",
   "metadata": {},
   "source": [
    "## Steer Function Comparison\n",
    "In this notebook, we examine the planners using different steer functions."
   ]
  },
  {
   "cell_type": "code",
   "execution_count": 1,
   "metadata": {},
   "outputs": [],
   "source": [
    "%load_ext autoreload\n",
    "%autoreload 2\n",
    "from mpb import MPB, MultipleMPB\n",
    "from plot_stats import plot_planner_stats, plot_smoother_stats\n",
    "from utils import latexify\n",
    "from table import latex_table\n",
    "from definitions import *\n",
    "import matplotlib as mpl\n",
    "import sys, os\n",
    "mpl.rcParams['mathtext.fontset'] = 'cm'\n",
    "# make sure to not use Level-3 fonts\n",
    "mpl.rcParams['pdf.fonttype'] = 42\n",
    "import matplotlib.pyplot as plt\n",
    "from copy import deepcopy\n",
    "from trajectory import visualize_grid"
   ]
  },
  {
   "cell_type": "markdown",
   "metadata": {},
   "source": [
    "### Polygon Environments"
   ]
  },
  {
   "cell_type": "code",
   "execution_count": 2,
   "metadata": {},
   "outputs": [],
   "source": [
    "time_limit_multiplier = 1\n",
    "steer_function_times = [\n",
    "    ('reeds_shepp', 15 * time_limit_multiplier),    \n",
    "    ('dubins', 45 * time_limit_multiplier),    \n",
    "    ('cc_reeds_shepp', 1.5 * 60 * time_limit_multiplier),    \n",
    "    ('posq', 120 * time_limit_multiplier)\n",
    "]"
   ]
  },
  {
   "cell_type": "code",
   "execution_count": 3,
   "metadata": {},
   "outputs": [],
   "source": [
    "pools = {}\n",
    "def benchmark_polygon(scenario: str, start: {str: float}, goal: {str: float}, robot_model: str = None):\n",
    "    bench = \"polygon_%s\" % scenario\n",
    "    \n",
    "    pool = MultipleMPB()\n",
    "    for steer_function, time_limit in steer_function_times:\n",
    "        m = MPB()\n",
    "        m[\"max_planning_time\"] = time_limit\n",
    "        m[\"env.start\"] = start\n",
    "        m[\"env.goal\"] = goal\n",
    "        m[\"env.type\"] = \"polygon\"\n",
    "        m[\"env.polygon.source\"] = \"polygon_mazes/%s.svg\" % scenario[:-2]\n",
    "        if robot_model:\n",
    "            print(\"Using robot model %s.\" % robot_model)\n",
    "            m[\"env.collision.robot_shape_source\"] = robot_model\n",
    "        m[\"benchmark.planning.sbpl_adstar\"] = False\n",
    "        m[\"benchmark.planning.sbpl_anastar\"] = False\n",
    "        m[\"benchmark.planning.sbpl_arastar\"] = False\n",
    "        m[\"benchmark.planning.sbpl_lazy_ara\"] = False\n",
    "        m[\"benchmark.planning.sbpl_mha\"] = False\n",
    "        m.set_steer_functions([steer_function])\n",
    "        pool.benchmarks.append(m)\n",
    "    pools[scenario] = pool\n",
    "    run_result = pool.run_parallel(bench, processes=20, limit_memory=True)\n",
    "    pool.merge(bench + \"_total.json\", make_separate_runs=True)\n",
    "    return run_result"
   ]
  },
  {
   "cell_type": "code",
   "execution_count": 4,
   "metadata": {},
   "outputs": [],
   "source": [
    "def generate_plots(scenario: str, steer_function: int):\n",
    "    bench = \"polygon_%s\" % scenario\n",
    "    steer_function_name = steer_function_times[steer_function][0]\n",
    "    mpbs = [pool.benchmarks[steer_function] for pool_name, pool in pools.items() if pool_name.startswith(scenario)]\n",
    "    total_name = \"%s_total.json\" % scenario\n",
    "    MPB.merge(mpbs, total_name, make_separate_runs=True)\n",
    "    bench_steer = \"%s_%s\" % (bench, steer_function_name)\n",
    "\n",
    "    # plot planner stats\n",
    "    try:        \n",
    "        plot_planner_stats(total_name,\n",
    "                           save_file=\"%s/%s_stats.pdf\" % (bench, bench_steer),\n",
    "                           max_plots_per_line=5,\n",
    "                           metrics='path_length, curvature, planning_time, cusps, aggregate')\n",
    "    except Exception as e:\n",
    "        print(\"Error while plotting planner statistics:\", e, file=sys.stderr)"
   ]
  },
  {
   "cell_type": "markdown",
   "metadata": {},
   "source": [
    "Define 5 different start/goal configurations per polygon environment."
   ]
  },
  {
   "cell_type": "code",
   "execution_count": 5,
   "metadata": {},
   "outputs": [],
   "source": [
    "scenarios = [\n",
    "    (\n",
    "        \"parking1\", [\n",
    "            ({\"theta\": 0, \"x\": 0, \"y\": -2.27}, {\"theta\": -1.58, \"x\": 7.72, \"y\": -7.72}),\n",
    "            ({\"theta\": -1.58, \"x\": 7.72, \"y\": -7.72}, {\"theta\": 3.14, \"x\": 0, \"y\": -2.27}),\n",
    "            ({\"theta\": -1.58, \"x\": 7.72, \"y\": -7.72}, {\"theta\": 1.58, \"x\": 10, \"y\": -7.72}),\n",
    "            ({\"theta\": -1.58, \"x\": 7.72, \"y\": -7.72}, {\"theta\": 0, \"x\": 15, \"y\": -2.27}),\n",
    "            ({\"theta\": 3.14, \"x\": 15, \"y\": -2.27}, {\"theta\": -1.58, \"x\": 7.72, \"y\": -7.72}),\n",
    "        ]\n",
    "    ), (\n",
    "        \"parking2\", [\n",
    "            ({\"theta\": 0, \"x\": 0, \"y\": -2.27}, {\"theta\": 1.57, \"x\": 10.91, \"y\": 2.73}),\n",
    "            ({\"theta\": 1.57, \"x\": 10.91, \"y\": 2.73}, {\"theta\": 3.14, \"x\": 0, \"y\": -2.27}),\n",
    "            ({\"theta\": 0, \"x\": 0, \"y\": -2.27}, {\"theta\": 1.57, \"x\": 13.5, \"y\": -7}),\n",
    "            ({\"theta\": 1.57, \"x\": 13.5, \"y\": -7}, {\"theta\": 3.14, \"x\": 0, \"y\": -2.27}),\n",
    "            ({\"theta\": 1.57, \"x\": 13.5, \"y\": -7}, {\"theta\": 1.57, \"x\": 10.91, \"y\": 2.73}),\n",
    "        ]\n",
    "    ), (\n",
    "        \"parking3\", [\n",
    "            ({\"theta\": 0, \"x\": 15.45, \"y\": -2.27}, {\"theta\": 0, \"x\": 3.4, \"y\": 0.34}),\n",
    "            ({\"theta\": 0, \"x\": 5, \"y\": -2.27}, {\"theta\": 0, \"x\": 19.5, \"y\": -6}),\n",
    "            ({\"theta\": 3.14, \"x\": 19.5, \"y\": -6}, {\"theta\": 3.14, \"x\": 5, \"y\": -2.27}),\n",
    "            ({\"theta\": 3.14, \"x\": 19.5, \"y\": -2.5}, {\"theta\": 3.14, \"x\": 4.5, \"y\": 0.5}),\n",
    "            ({\"theta\": 0, \"x\": 4.5, \"y\": 0.5}, {\"theta\": 0, \"x\": 19.5, \"y\": -2.5}),\n",
    "        ]\n",
    "    ), (\n",
    "        \"warehouse\", [\n",
    "            ({\"theta\": -1.58, \"x\": -2.5, \"y\": 4.55}, {\"theta\": -1.58, \"x\": 65, \"y\": 2.5}, \"polygon_mazes/warehouse_robot.svg\"),\n",
    "            ({\"theta\": 0, \"x\": -2.5, \"y\": -55}, {\"theta\": 0, \"x\": 55, \"y\": 5.5}, \"polygon_mazes/warehouse_robot.svg\"),\n",
    "            ({\"theta\": 1.58, \"x\": 14.5, \"y\": -28}, {\"theta\": 1.58, \"x\": 48, \"y\": -28}, \"polygon_mazes/warehouse_robot.svg\"),\n",
    "            ({\"theta\": 3.14, \"x\": 65, \"y\": -55}, {\"theta\": 1.58, \"x\": 14.5, \"y\": 0}, \"polygon_mazes/warehouse_robot.svg\"),\n",
    "            ({\"theta\": 3.14, \"x\": 3, \"y\": -5}, {\"theta\": 1.58, \"x\": 66, \"y\": -5}, \"polygon_mazes/warehouse_robot.svg\"),\n",
    "        ]\n",
    "    )\n",
    "]"
   ]
  },
  {
   "cell_type": "markdown",
   "metadata": {},
   "source": [
    "### Run benchmarks\n",
    "For each steer function, run planners on 4 different polygon environments with 5 different start/goal configurations."
   ]
  },
  {
   "cell_type": "code",
   "execution_count": 6,
   "metadata": {},
   "outputs": [
    {
     "name": "stdout",
     "output_type": "stream",
     "text": [
      "Available memory: 12.43 GB, limiting each MPB process to 62.5% usage (7.77 GB).\n",
      "Creating pool of 4 processes.\n",
      "Created MPB from config polygon_parking1_0/polygon_parking1_0_1_config.json.\n",
      "Created MPB from config polygon_parking1_0/polygon_parking1_0_0_config.json.\n",
      "Created MPB from config polygon_parking1_0/polygon_parking1_0_2_config.json.\n",
      "Created MPB from config polygon_parking1_0/polygon_parking1_0_3_config.json.\n",
      "Running MPB with ID polygon_parking1_0_1 (log file at polygon_parking1_0/polygon_parking1_0_1.log)...\n",
      "Running MPB with ID polygon_parking1_0_0 (log file at polygon_parking1_0/polygon_parking1_0_0.log)...\n",
      "Running MPB with ID polygon_parking1_0_3 (log file at polygon_parking1_0/polygon_parking1_0_3.log)...\n",
      "Running MPB with ID polygon_parking1_0_2 (log file at polygon_parking1_0/polygon_parking1_0_2.log)...\n"
     ]
    },
    {
     "data": {
      "application/vnd.jupyter.widget-view+json": {
       "model_id": "52119310f90d41089f898de6d1ed72aa",
       "version_major": 2,
       "version_minor": 0
      },
      "text/plain": [
       "HBox(children=(FloatProgress(value=0.0, description='polygon_parking1_0_1', layout=Layout(flex='2'), max=22.0,…"
      ]
     },
     "metadata": {},
     "output_type": "display_data"
    },
    {
     "data": {
      "application/vnd.jupyter.widget-view+json": {
       "model_id": "2c0ab31fc64f4fc8a99e2500e4d24ac9",
       "version_major": 2,
       "version_minor": 0
      },
      "text/plain": [
       "HBox(children=(FloatProgress(value=0.0, description='polygon_parking1_0_2', layout=Layout(flex='2'), max=22.0,…"
      ]
     },
     "metadata": {},
     "output_type": "display_data"
    },
    {
     "data": {
      "application/vnd.jupyter.widget-view+json": {
       "model_id": "7350fc2db4094fa0b57296a8b7800947",
       "version_major": 2,
       "version_minor": 0
      },
      "text/plain": [
       "HBox(children=(FloatProgress(value=0.0, description='polygon_parking1_0_0', layout=Layout(flex='2'), max=22.0,…"
      ]
     },
     "metadata": {},
     "output_type": "display_data"
    },
    {
     "data": {
      "application/vnd.jupyter.widget-view+json": {
       "model_id": "bbe1a0a6b4f6449dbab86b3b33bf8bfc",
       "version_major": 2,
       "version_minor": 0
      },
      "text/plain": [
       "HBox(children=(FloatProgress(value=0.0, description='polygon_parking1_0_3', layout=Layout(flex='2'), max=22.0,…"
      ]
     },
     "metadata": {},
     "output_type": "display_data"
    },
    {
     "ename": "AttributeError",
     "evalue": "'NoneType' object has no attribute 'items'",
     "output_type": "error",
     "traceback": [
      "\u001b[0;31m---------------------------------------------------------------------------\u001b[0m",
      "\u001b[0;31mRemoteTraceback\u001b[0m                           Traceback (most recent call last)",
      "\u001b[0;31mRemoteTraceback\u001b[0m: \n\"\"\"\nTraceback (most recent call last):\n  File \"/usr/lib/python3.6/multiprocessing/pool.py\", line 119, in worker\n    result = (True, func(*args, **kwds))\n  File \"/usr/lib/python3.6/multiprocessing/pool.py\", line 44, in mapstar\n    return list(map(*args))\n  File \"/root/code/mpb/plotting/mpb.py\", line 472, in run_\n    show_progress_bar=True)\n  File \"/root/code/mpb/plotting/mpb.py\", line 309, in run\n    self.results_filename, silence=True)\n  File \"/root/code/mpb/plotting/mpb.py\", line 418, in merge\n    for pi, (planner, plan) in enumerate(run[\"plans\"].items()):\nAttributeError: 'NoneType' object has no attribute 'items'\n\"\"\"",
      "\nThe above exception was the direct cause of the following exception:\n",
      "\u001b[0;31mAttributeError\u001b[0m                            Traceback (most recent call last)",
      "\u001b[0;32m<ipython-input-6-fb7e266c9214>\u001b[0m in \u001b[0;36m<module>\u001b[0;34m\u001b[0m\n\u001b[1;32m      2\u001b[0m     \u001b[0;32mfor\u001b[0m \u001b[0mj\u001b[0m\u001b[0;34m,\u001b[0m \u001b[0marg\u001b[0m \u001b[0;32min\u001b[0m \u001b[0menumerate\u001b[0m\u001b[0;34m(\u001b[0m\u001b[0margs\u001b[0m\u001b[0;34m)\u001b[0m\u001b[0;34m:\u001b[0m\u001b[0;34m\u001b[0m\u001b[0;34m\u001b[0m\u001b[0m\n\u001b[1;32m      3\u001b[0m         \u001b[0mscenario\u001b[0m \u001b[0;34m=\u001b[0m \u001b[0;34m\"%s_%i\"\u001b[0m \u001b[0;34m%\u001b[0m \u001b[0;34m(\u001b[0m\u001b[0menv\u001b[0m\u001b[0;34m,\u001b[0m \u001b[0mj\u001b[0m\u001b[0;34m)\u001b[0m\u001b[0;34m\u001b[0m\u001b[0;34m\u001b[0m\u001b[0m\n\u001b[0;32m----> 4\u001b[0;31m         \u001b[0mbenchmark_polygon\u001b[0m\u001b[0;34m(\u001b[0m\u001b[0mscenario\u001b[0m\u001b[0;34m,\u001b[0m \u001b[0;34m*\u001b[0m\u001b[0marg\u001b[0m\u001b[0;34m)\u001b[0m\u001b[0;34m\u001b[0m\u001b[0;34m\u001b[0m\u001b[0m\n\u001b[0m",
      "\u001b[0;32m<ipython-input-3-dbb5ddc0fa14>\u001b[0m in \u001b[0;36mbenchmark_polygon\u001b[0;34m(scenario, start, goal, robot_model)\u001b[0m\n\u001b[1;32m     22\u001b[0m         \u001b[0mpool\u001b[0m\u001b[0;34m.\u001b[0m\u001b[0mbenchmarks\u001b[0m\u001b[0;34m.\u001b[0m\u001b[0mappend\u001b[0m\u001b[0;34m(\u001b[0m\u001b[0mm\u001b[0m\u001b[0;34m)\u001b[0m\u001b[0;34m\u001b[0m\u001b[0;34m\u001b[0m\u001b[0m\n\u001b[1;32m     23\u001b[0m     \u001b[0mpools\u001b[0m\u001b[0;34m[\u001b[0m\u001b[0mscenario\u001b[0m\u001b[0;34m]\u001b[0m \u001b[0;34m=\u001b[0m \u001b[0mpool\u001b[0m\u001b[0;34m\u001b[0m\u001b[0;34m\u001b[0m\u001b[0m\n\u001b[0;32m---> 24\u001b[0;31m     \u001b[0mrun_result\u001b[0m \u001b[0;34m=\u001b[0m \u001b[0mpool\u001b[0m\u001b[0;34m.\u001b[0m\u001b[0mrun_parallel\u001b[0m\u001b[0;34m(\u001b[0m\u001b[0mbench\u001b[0m\u001b[0;34m,\u001b[0m \u001b[0mprocesses\u001b[0m\u001b[0;34m=\u001b[0m\u001b[0;36m20\u001b[0m\u001b[0;34m,\u001b[0m \u001b[0mlimit_memory\u001b[0m\u001b[0;34m=\u001b[0m\u001b[0;32mTrue\u001b[0m\u001b[0;34m)\u001b[0m\u001b[0;34m\u001b[0m\u001b[0;34m\u001b[0m\u001b[0m\n\u001b[0m\u001b[1;32m     25\u001b[0m     \u001b[0mpool\u001b[0m\u001b[0;34m.\u001b[0m\u001b[0mmerge\u001b[0m\u001b[0;34m(\u001b[0m\u001b[0mbench\u001b[0m \u001b[0;34m+\u001b[0m \u001b[0;34m\"_total.json\"\u001b[0m\u001b[0;34m,\u001b[0m \u001b[0mmake_separate_runs\u001b[0m\u001b[0;34m=\u001b[0m\u001b[0;32mTrue\u001b[0m\u001b[0;34m)\u001b[0m\u001b[0;34m\u001b[0m\u001b[0;34m\u001b[0m\u001b[0m\n\u001b[1;32m     26\u001b[0m     \u001b[0;32mreturn\u001b[0m \u001b[0mrun_result\u001b[0m\u001b[0;34m\u001b[0m\u001b[0;34m\u001b[0m\u001b[0m\n",
      "\u001b[0;32m~/code/mpb/plotting/mpb.py\u001b[0m in \u001b[0;36mrun_parallel\u001b[0;34m(self, id, use_subfolder, runs, processes, limit_memory, show_plot)\u001b[0m\n\u001b[1;32m    535\u001b[0m                                    \u001b[0;34m[\u001b[0m\u001b[0mself\u001b[0m\u001b[0;34m.\u001b[0m\u001b[0msubfolder\u001b[0m\u001b[0;34m]\u001b[0m \u001b[0;34m*\u001b[0m \u001b[0mlen\u001b[0m\u001b[0;34m(\u001b[0m\u001b[0mself\u001b[0m\u001b[0;34m.\u001b[0m\u001b[0mbenchmarks\u001b[0m\u001b[0;34m)\u001b[0m\u001b[0;34m,\u001b[0m\u001b[0;34m\u001b[0m\u001b[0;34m\u001b[0m\u001b[0m\n\u001b[1;32m    536\u001b[0m                                    \u001b[0;34m[\u001b[0m\u001b[0mmemory_limit\u001b[0m\u001b[0;34m]\u001b[0m \u001b[0;34m*\u001b[0m \u001b[0mlen\u001b[0m\u001b[0;34m(\u001b[0m\u001b[0mself\u001b[0m\u001b[0;34m.\u001b[0m\u001b[0mbenchmarks\u001b[0m\u001b[0;34m)\u001b[0m\u001b[0;34m,\u001b[0m\u001b[0;34m\u001b[0m\u001b[0;34m\u001b[0m\u001b[0m\n\u001b[0;32m--> 537\u001b[0;31m                                    [runs] * len(self.benchmarks)))\n\u001b[0m\u001b[1;32m    538\u001b[0m \u001b[0;34m\u001b[0m\u001b[0m\n\u001b[1;32m    539\u001b[0m             \u001b[0;32mif\u001b[0m \u001b[0mshow_plot\u001b[0m\u001b[0;34m:\u001b[0m\u001b[0;34m\u001b[0m\u001b[0;34m\u001b[0m\u001b[0m\n",
      "\u001b[0;32m/usr/lib/python3.6/multiprocessing/pool.py\u001b[0m in \u001b[0;36mmap\u001b[0;34m(self, func, iterable, chunksize)\u001b[0m\n\u001b[1;32m    264\u001b[0m         \u001b[0;32min\u001b[0m \u001b[0ma\u001b[0m \u001b[0mlist\u001b[0m \u001b[0mthat\u001b[0m \u001b[0;32mis\u001b[0m \u001b[0mreturned\u001b[0m\u001b[0;34m.\u001b[0m\u001b[0;34m\u001b[0m\u001b[0;34m\u001b[0m\u001b[0m\n\u001b[1;32m    265\u001b[0m         '''\n\u001b[0;32m--> 266\u001b[0;31m         \u001b[0;32mreturn\u001b[0m \u001b[0mself\u001b[0m\u001b[0;34m.\u001b[0m\u001b[0m_map_async\u001b[0m\u001b[0;34m(\u001b[0m\u001b[0mfunc\u001b[0m\u001b[0;34m,\u001b[0m \u001b[0miterable\u001b[0m\u001b[0;34m,\u001b[0m \u001b[0mmapstar\u001b[0m\u001b[0;34m,\u001b[0m \u001b[0mchunksize\u001b[0m\u001b[0;34m)\u001b[0m\u001b[0;34m.\u001b[0m\u001b[0mget\u001b[0m\u001b[0;34m(\u001b[0m\u001b[0;34m)\u001b[0m\u001b[0;34m\u001b[0m\u001b[0;34m\u001b[0m\u001b[0m\n\u001b[0m\u001b[1;32m    267\u001b[0m \u001b[0;34m\u001b[0m\u001b[0m\n\u001b[1;32m    268\u001b[0m     \u001b[0;32mdef\u001b[0m \u001b[0mstarmap\u001b[0m\u001b[0;34m(\u001b[0m\u001b[0mself\u001b[0m\u001b[0;34m,\u001b[0m \u001b[0mfunc\u001b[0m\u001b[0;34m,\u001b[0m \u001b[0miterable\u001b[0m\u001b[0;34m,\u001b[0m \u001b[0mchunksize\u001b[0m\u001b[0;34m=\u001b[0m\u001b[0;32mNone\u001b[0m\u001b[0;34m)\u001b[0m\u001b[0;34m:\u001b[0m\u001b[0;34m\u001b[0m\u001b[0;34m\u001b[0m\u001b[0m\n",
      "\u001b[0;32m/usr/lib/python3.6/multiprocessing/pool.py\u001b[0m in \u001b[0;36mget\u001b[0;34m(self, timeout)\u001b[0m\n\u001b[1;32m    642\u001b[0m             \u001b[0;32mreturn\u001b[0m \u001b[0mself\u001b[0m\u001b[0;34m.\u001b[0m\u001b[0m_value\u001b[0m\u001b[0;34m\u001b[0m\u001b[0;34m\u001b[0m\u001b[0m\n\u001b[1;32m    643\u001b[0m         \u001b[0;32melse\u001b[0m\u001b[0;34m:\u001b[0m\u001b[0;34m\u001b[0m\u001b[0;34m\u001b[0m\u001b[0m\n\u001b[0;32m--> 644\u001b[0;31m             \u001b[0;32mraise\u001b[0m \u001b[0mself\u001b[0m\u001b[0;34m.\u001b[0m\u001b[0m_value\u001b[0m\u001b[0;34m\u001b[0m\u001b[0;34m\u001b[0m\u001b[0m\n\u001b[0m\u001b[1;32m    645\u001b[0m \u001b[0;34m\u001b[0m\u001b[0m\n\u001b[1;32m    646\u001b[0m     \u001b[0;32mdef\u001b[0m \u001b[0m_set\u001b[0m\u001b[0;34m(\u001b[0m\u001b[0mself\u001b[0m\u001b[0;34m,\u001b[0m \u001b[0mi\u001b[0m\u001b[0;34m,\u001b[0m \u001b[0mobj\u001b[0m\u001b[0;34m)\u001b[0m\u001b[0;34m:\u001b[0m\u001b[0;34m\u001b[0m\u001b[0;34m\u001b[0m\u001b[0m\n",
      "\u001b[0;31mAttributeError\u001b[0m: 'NoneType' object has no attribute 'items'"
     ]
    }
   ],
   "source": [
    "for i, (env, args) in enumerate(scenarios):\n",
    "    for j, arg in enumerate(args):\n",
    "        scenario = \"%s_%i\" % (env, j)\n",
    "        benchmark_polygon(scenario, *arg)"
   ]
  },
  {
   "cell_type": "markdown",
   "metadata": {},
   "source": [
    "Plot statistics."
   ]
  },
  {
   "cell_type": "code",
   "execution_count": null,
   "metadata": {},
   "outputs": [],
   "source": [
    "print(pools.keys())\n",
    "for steer in range(len(steer_function_times)):\n",
    "    for env, _ in scenarios:\n",
    "        generate_plots(env, steer)"
   ]
  },
  {
   "cell_type": "markdown",
   "metadata": {},
   "source": [
    "Visualize trajectories."
   ]
  },
  {
   "cell_type": "code",
   "execution_count": null,
   "metadata": {},
   "outputs": [],
   "source": [
    "for env, args in scenarios:\n",
    "    for j in range(1, len(args) + 1):\n",
    "        suptitle = \"Environment: %s   Scenario: %i\" % (env, j)\n",
    "        scenario = \"%s_%i\" % (env, j)\n",
    "        visualize_grid(\"polygon_%s/polygon_%s_0_results.json\" % (scenario, scenario),\n",
    "                       suptitle=suptitle, save_file=\"%s.pdf\" % scenario,\n",
    "                       plot_every_nth_polygon=10)"
   ]
  }
 ],
 "metadata": {
  "kernelspec": {
   "display_name": "Python 3",
   "language": "python",
   "name": "python3"
  },
  "language_info": {
   "codemirror_mode": {
    "name": "ipython",
    "version": 3
   },
   "file_extension": ".py",
   "mimetype": "text/x-python",
   "name": "python",
   "nbconvert_exporter": "python",
   "pygments_lexer": "ipython3",
   "version": "3.6.9"
  }
 },
 "nbformat": 4,
 "nbformat_minor": 4
}
