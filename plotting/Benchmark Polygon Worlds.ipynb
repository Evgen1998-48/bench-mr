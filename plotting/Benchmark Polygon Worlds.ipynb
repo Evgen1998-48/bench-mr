{
 "cells": [
  {
   "cell_type": "markdown",
   "metadata": {},
   "source": [
    "## Steer Function Comparison\n",
    "In this notebook, we examine the planners using different steer functions."
   ]
  },
  {
   "cell_type": "code",
   "execution_count": null,
   "metadata": {},
   "outputs": [],
   "source": [
    "%load_ext autoreload\n",
    "%autoreload 2\n",
    "from mpb import MPB, MultipleMPB\n",
    "from plot_stats import plot_planner_stats, plot_smoother_stats\n",
    "from utils import latexify\n",
    "from table import latex_table\n",
    "from definitions import *\n",
    "import matplotlib as mpl\n",
    "import sys, os\n",
    "mpl.rcParams['mathtext.fontset'] = 'cm'\n",
    "# make sure to not use Level-3 fonts\n",
    "mpl.rcParams['pdf.fonttype'] = 42\n",
    "import matplotlib.pyplot as plt\n",
    "from copy import deepcopy"
   ]
  },
  {
   "cell_type": "markdown",
   "metadata": {},
   "source": [
    "### Polygon Environments"
   ]
  },
  {
   "cell_type": "code",
   "execution_count": null,
   "metadata": {},
   "outputs": [],
   "source": [
    "def benchmark_polygon(scenario: str, start: {str: float}, goal: {str: float}, robot_model: str = None):\n",
    "    time_limit_multiplier = 1\n",
    "    bench = \"polygon_%s\" % scenario\n",
    "\n",
    "    steer_function_times = [\n",
    "        ('reeds_shepp', 15 * time_limit_multiplier),    \n",
    "        ('dubins', 45 * time_limit_multiplier),    \n",
    "        ('cc_reeds_shepp', 1.5 * 60 * time_limit_multiplier),    \n",
    "        ('posq', 120 * time_limit_multiplier)\n",
    "    ]\n",
    "    \n",
    "    pool = MultipleMPB()\n",
    "    # config = MPB.get_config()\n",
    "    for steer_function, time_limit in steer_function_times:\n",
    "        m = MPB()   \n",
    "        # m.update(deepcopy(config))\n",
    "        m[\"max_planning_time\"] = time_limit\n",
    "        m[\"env.start\"] = start\n",
    "        m[\"env.goal\"] = goal\n",
    "        m[\"env.type\"] = \"polygon\"\n",
    "        m[\"env.polygon.source\"] = \"polygon_mazes/%s.svg\" % scenario\n",
    "        if robot_model:\n",
    "            print(\"Using robot model %s.\" % robot_model)\n",
    "            m[\"env.collision.robot_shape_source\"] = robot_model\n",
    "        m[\"benchmark.planning.sbpl_adstar\"] = False\n",
    "        m[\"benchmark.planning.sbpl_anastar\"] = False\n",
    "        m[\"benchmark.planning.sbpl_arastar\"] = False\n",
    "        m[\"benchmark.planning.sbpl_lazy_ara\"] = False\n",
    "        m[\"benchmark.planning.sbpl_mha\"] = False\n",
    "        m.set_steer_functions([steer_function])\n",
    "        #     m.set_smoothers(['grips', 'ompl_bspline', 'ompl_shortcut', 'ompl_simplify_max'])\n",
    "        #     m.set_planners(['theta_star'])\n",
    "        #     m.set_planners(['sbpl_adstar'])\n",
    "        pool.benchmarks.append(m)\n",
    "    run_result = pool.run_parallel(bench, processes=20, limit_memory=True)"
   ]
  },
  {
   "cell_type": "code",
   "execution_count": null,
   "metadata": {},
   "outputs": [],
   "source": [
    "def generate_plots(scenario: str, start: {str: float}, goal: {str: float}, robot_model: str = None):\n",
    "    for i, (steer_function, _) in enumerate(steer_function_times):\n",
    "        bench_steer = \"%s_%s\" % (bench, steer_function)\n",
    "        # plot trajectories\n",
    "        try:\n",
    "            pool.benchmarks[i].visualize_trajectories(show_legend=True, fig_width=8, fig_height=8)\n",
    "            plt.savefig(\"%s/%s_trajectories.pdf\" % (bench, bench_steer), bbox_inches='tight')\n",
    "        except Exception as e:\n",
    "            print(\"Error while visualizing trajectories:\", e, file=sys.stderr)\n",
    "\n",
    "        # plot planner stats\n",
    "        try:        \n",
    "            plot_planner_stats(pool.benchmarks[i].results_filename, save_file=\"%s/%s_stats.pdf\" % (bench, bench_steer))\n",
    "        except Exception as e:\n",
    "            print(\"Error while plotting planner statistics:\", e, file=sys.stderr)\n",
    "\n",
    "        # plot smoother stats\n",
    "        try:\n",
    "            plot_smoother_stats(pool.benchmarks[i].results_filename,\n",
    "                                save_file=\"%s/%s_smoother_stats.pdf\" % (bench, bench_steer),\n",
    "                                separate_planners=False, num_colors=8,\n",
    "                                combine_views=True, max_plots_per_line=3)\n",
    "        except Exception as e:\n",
    "            print(\"Error while plotting smoother statistics:\", e, file=sys.stderr)\n",
    "\n",
    "        # plot smoother stats (separated by planners)\n",
    "        try:\n",
    "            plot_smoother_stats(pool.benchmarks[i].results_filename,\n",
    "                                save_file=\"%s/%s_smoother_stats_separated.pdf\" % (bench, bench_steer),\n",
    "                                separate_planners=True, num_colors=8, combine_views=True,\n",
    "                                max_plots_per_line=1, fig_width=25, fig_height=6)\n",
    "        except Exception as e:\n",
    "            print(\"Error while plotting smoother statistics:\", e, file=sys.stderr)\n",
    "\n",
    "        # generate LaTeX table\n",
    "        try:\n",
    "            with open(\"%s/%s_table.txt\" % (bench, bench_steer), 'w') as tf:\n",
    "                tf.write(latex_table(pool.benchmarks[i].results_filename,\n",
    "                                     row_label='\\\\textbf{Steer function: \\\\texttt{%s}} (\\\\SI{%.1f}{\\\\minute} time limit)'\n",
    "\n",
    "                                     % (latexify(steer_function_names[steer_function]),\n",
    "                                        time_limit/60),\n",
    "                                     time_limit=time_limit))\n",
    "        except Exception as e:\n",
    "            print(\"Error while generating table:\", e, file=sys.stderr)\n",
    "\n",
    "        return run_result"
   ]
  },
  {
   "cell_type": "code",
   "execution_count": null,
   "metadata": {},
   "outputs": [],
   "source": [
    "scenarios = [\n",
    "  (\"parking1\", {\"theta\": -1.58, \"x\": 7.72, \"y\": -7.72}, {\"theta\": 0, \"x\": 0, \"y\": -2.27}),\n",
    "  (\"parking2\", {\"theta\": 0, \"x\": 0, \"y\": -2.27}, {\"theta\": -1.57, \"x\": 10.91, \"y\": 2.73}),\n",
    "  (\"parking3\", {\"theta\": 0, \"x\": 15.45, \"y\": -2.27}, {\"theta\": 0, \"x\": 3.82, \"y\": 0.34}),\n",
    "  (\"warehouse\", {\"theta\": -1.58, \"x\": -2.27, \"y\": 4.55}, {\"theta\": 1.58, \"x\": 63.64, \"y\": 2.27}, \"polygon_mazes/warehouse_robot.svg\")\n",
    "]\n",
    "\n",
    "list(map(lambda x: benchmark_polygon(*x), scenarios))"
   ]
  },
  {
   "cell_type": "code",
   "execution_count": null,
   "metadata": {},
   "outputs": [],
   "source": [
    "list(map(lambda x: generate_plots(*x), scenarios))"
   ]
  }
 ],
 "metadata": {
  "kernelspec": {
   "display_name": "Python 3",
   "language": "python",
   "name": "python3"
  },
  "language_info": {
   "codemirror_mode": {
    "name": "ipython",
    "version": 3
   },
   "file_extension": ".py",
   "mimetype": "text/x-python",
   "name": "python",
   "nbconvert_exporter": "python",
   "pygments_lexer": "ipython3",
   "version": "3.6.8"
  }
 },
 "nbformat": 4,
 "nbformat_minor": 4
}
