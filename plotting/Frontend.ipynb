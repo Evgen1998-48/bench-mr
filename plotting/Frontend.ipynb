{
 "cells": [
  {
   "cell_type": "markdown",
   "metadata": {},
   "source": [
    "## Python Frontend\n",
    "This notebook demonstrates the Python frontend to MPB."
   ]
  },
  {
   "cell_type": "code",
   "execution_count": 1,
   "metadata": {},
   "outputs": [],
   "source": [
    "%load_ext autoreload\n",
    "%autoreload 2\n",
    "from mpb import MPB, MultipleMPB\n",
    "import matplotlib as mpl\n",
    "mpl.rcParams['mathtext.fontset'] = 'cm'\n",
    "# make sure to not use Level-3 fonts\n",
    "mpl.rcParams['pdf.fonttype'] = 42\n",
    "import matplotlib.pyplot as plt"
   ]
  },
  {
   "cell_type": "code",
   "execution_count": 2,
   "metadata": {},
   "outputs": [],
   "source": [
    "mpb = MPB()"
   ]
  },
  {
   "cell_type": "markdown",
   "metadata": {},
   "source": [
    "Any configuration values (or subtrees) can be set and retrieved using the bracket operator on the `MPB` instance. The key is a string and by using the dot-notation, a path can be given:"
   ]
  },
  {
   "cell_type": "code",
   "execution_count": 3,
   "metadata": {},
   "outputs": [],
   "source": [
    "mpb[\"ompl.seed\"] = 4  # set the seed of the OMPL planners"
   ]
  },
  {
   "cell_type": "markdown",
   "metadata": {},
   "source": [
    "Some helper functions are available to set environment properties, and configure the planners, steer functions and post smoothers:"
   ]
  },
  {
   "cell_type": "code",
   "execution_count": 4,
   "metadata": {},
   "outputs": [
    {
     "name": "stdout",
     "output_type": "stream",
     "text": [
      "1.0\n"
     ]
    }
   ],
   "source": [
    "mpb.set_corridor_grid_env(radius = 3)\n",
    "#mpb.set_planners(['rrt', 'rrt_star', 'informed_rrt_star'])\n",
    "mpb.set_planners(['fpest', 'fprrt', 'fpsst', 'fpkpiece'])\n",
    "mpb.set_robot_models_functions(['kinematic_car', 'kinematic_single_track'])\n",
    "mpb.set_exact_goal_radius(1.0)\n",
    "#mpb.set_steer_functions(['reeds_shepp'])"
   ]
  },
  {
   "cell_type": "markdown",
   "metadata": {},
   "source": [
    "Run the motion planning benchmark:"
   ]
  },
  {
   "cell_type": "code",
   "execution_count": 5,
   "metadata": {},
   "outputs": [
    {
     "name": "stdout",
     "output_type": "stream",
     "text": [
      "Running MPB with ID test_run (log file at test_run.log)...\n"
     ]
    },
    {
     "data": {
      "application/vnd.jupyter.widget-view+json": {
       "model_id": "286ea5433df746afbd6d8dfe39cd2f1c",
       "version_major": 2,
       "version_minor": 0
      },
      "text/plain": [
       "HBox(children=(FloatProgress(value=0.0, description='test_run', layout=Layout(flex='2'), max=12.0, style=Progr…"
      ]
     },
     "metadata": {},
     "output_type": "display_data"
    },
    {
     "name": "stdout",
     "output_type": "stream",
     "text": [
      "\n"
     ]
    },
    {
     "data": {
      "text/plain": [
       "0"
      ]
     },
     "execution_count": 5,
     "metadata": {},
     "output_type": "execute_result"
    }
   ],
   "source": [
    "mpb.run(id='test_run', runs=3)  # optional run ID, number of runs (environments)"
   ]
  },
  {
   "cell_type": "code",
   "execution_count": 8,
   "metadata": {},
   "outputs": [
    {
     "name": "stdout",
     "output_type": "stream",
     "text": [
      "<_io.TextIOWrapper name='test_run_results.json' mode='r' encoding='UTF-8'>\n",
      "+++++++++++++++++++++++++ Run #0 (1 / 6) +++++++++++++++++++++++++\n",
      "kinematic_car\n",
      "+ Robot Model:        Kinematic Car \n",
      "+ Environment:     grid\n",
      "+ Planners:        RRT, EST, SST, KPIECE1\n",
      "+ Found solution:  4 / 4\n",
      "+ Exact solution:  2 / 4\n",
      "+ Found colliding: 0 / 4\n",
      "++++++++++++++++++++++++++++++++++++++++++++++++++++++++++++++++++\n",
      "\n",
      "+++++++++++++++++++++++++ Run #1 (2 / 6) +++++++++++++++++++++++++\n",
      "kinematic_car\n",
      "+ Robot Model:        Kinematic Car \n",
      "+ Environment:     grid\n",
      "+ Planners:        RRT, EST, SST, KPIECE1\n",
      "+ Found solution:  4 / 4\n",
      "+ Exact solution:  0 / 4\n",
      "+ Found colliding: 2 / 4\n",
      "++++++++++++++++++++++++++++++++++++++++++++++++++++++++++++++++++\n",
      "\n",
      "+++++++++++++++++++++++++ Run #2 (3 / 6) +++++++++++++++++++++++++\n",
      "kinematic_car\n",
      "+ Robot Model:        Kinematic Car \n",
      "+ Environment:     grid\n",
      "+ Planners:        RRT, EST, SST, KPIECE1\n",
      "+ Found solution:  4 / 4\n",
      "+ Exact solution:  2 / 4\n",
      "+ Found colliding: 0 / 4\n",
      "++++++++++++++++++++++++++++++++++++++++++++++++++++++++++++++++++\n",
      "\n",
      "+++++++++++++++++++++++++ Run #3 (4 / 6) +++++++++++++++++++++++++\n",
      "kinematic_car\n",
      "+ Robot Model:        Kinematic Car \n",
      "+ Environment:     grid\n",
      "+ Planners:        RRT, EST, SST, KPIECE1\n",
      "+ Found solution:  4 / 4\n",
      "+ Exact solution:  0 / 4\n",
      "+ Found colliding: 0 / 4\n",
      "++++++++++++++++++++++++++++++++++++++++++++++++++++++++++++++++++\n",
      "\n",
      "+++++++++++++++++++++++++ Run #4 (5 / 6) +++++++++++++++++++++++++\n",
      "kinematic_car\n",
      "+ Robot Model:        Kinematic Car \n",
      "+ Environment:     grid\n",
      "+ Planners:        RRT, EST, SST, KPIECE1\n",
      "+ Found solution:  4 / 4\n",
      "+ Exact solution:  2 / 4\n",
      "+ Found colliding: 0 / 4\n",
      "++++++++++++++++++++++++++++++++++++++++++++++++++++++++++++++++++\n",
      "\n",
      "+++++++++++++++++++++++++ Run #5 (6 / 6) +++++++++++++++++++++++++\n",
      "kinematic_car\n",
      "+ Robot Model:        Kinematic Car \n",
      "+ Environment:     grid\n",
      "+ Planners:        RRT, EST, SST, KPIECE1\n",
      "+ Found solution:  4 / 4\n",
      "+ Exact solution:  0 / 4\n",
      "+ Found colliding: 1 / 4\n",
      "++++++++++++++++++++++++++++++++++++++++++++++++++++++++++++++++++\n",
      "\n"
     ]
    }
   ],
   "source": [
    "mpb.print_info()"
   ]
  },
  {
   "cell_type": "markdown",
   "metadata": {},
   "source": [
    "Visualize the planner trajectories:"
   ]
  },
  {
   "cell_type": "code",
   "execution_count": null,
   "metadata": {},
   "outputs": [],
   "source": [
    "mpb.visualize_trajectories()"
   ]
  },
  {
   "cell_type": "markdown",
   "metadata": {},
   "source": [
    "Plot planner statistics:"
   ]
  },
  {
   "cell_type": "code",
   "execution_count": null,
   "metadata": {},
   "outputs": [],
   "source": [
    "mpb.plot_planner_stats()"
   ]
  },
  {
   "cell_type": "markdown",
   "metadata": {},
   "source": [
    "We can also use the frontend to compare the solutions of the anytime planners over the course of a given time interval. Let's take an Informed RRT* planner and run it on the time allotments of 0.5s, 1s and 10s:"
   ]
  },
  {
   "cell_type": "code",
   "execution_count": null,
   "metadata": {},
   "outputs": [],
   "source": [
    "ms = []\n",
    "for time in [.5, 1, 10]:\n",
    "    m = MPB()    \n",
    "    m[\"max_planning_time\"] = time\n",
    "    m.set_corridor_grid_env(width=150, height=150, branches=100, radius=3)\n",
    "    m.set_planners(['informed_rrt_star'])\n",
    "    m.set_steer_functions(['reeds_shepp'])\n",
    "    m.run('anytime_%.1f' % time)\n",
    "    ms.append(m)    "
   ]
  },
  {
   "cell_type": "markdown",
   "metadata": {},
   "source": [
    "Visualize the results:"
   ]
  },
  {
   "cell_type": "code",
   "execution_count": null,
   "metadata": {},
   "outputs": [],
   "source": [
    "plt.figure(figsize=(6 * len(ms), 6))\n",
    "for i, m in enumerate(ms):\n",
    "    plt.subplot(1, len(ms), i+1)\n",
    "    m.visualize_trajectories(headless=True, combine_views=False, use_existing_subplot=True, show_legend=False)\n",
    "    plt.title(\"%.1f s\" % m[\"max_planning_time\"])\n",
    "plt.tight_layout()\n",
    "plt.savefig(\"informed_rrt_star_anytime.pdf\")"
   ]
  },
  {
   "cell_type": "markdown",
   "metadata": {},
   "source": [
    "Multiple benchmarks can also be run in parallel using `MultipleMPB`:"
   ]
  },
  {
   "cell_type": "code",
   "execution_count": null,
   "metadata": {},
   "outputs": [],
   "source": [
    "pool = MultipleMPB()\n",
    "for time in [.5, 1, 10]:\n",
    "    m = MPB()    \n",
    "    m[\"max_planning_time\"] = time\n",
    "    m.set_corridor_grid_env(width=150, height=150, branches=100, radius=3)\n",
    "    m.set_planners(['informed_rrt_star'])\n",
    "    m.set_steer_functions(['reeds_shepp'])\n",
    "    pool.benchmarks.append(m)\n",
    "    \n",
    "pool.run_parallel('test_parallel', runs=5)"
   ]
  },
  {
   "cell_type": "code",
   "execution_count": null,
   "metadata": {},
   "outputs": [],
   "source": [
    "pool.visualize_trajectories(run_id='1')"
   ]
  },
  {
   "cell_type": "code",
   "execution_count": null,
   "metadata": {},
   "outputs": [],
   "source": []
  },
  {
   "cell_type": "code",
   "execution_count": null,
   "metadata": {},
   "outputs": [],
   "source": []
  }
 ],
 "metadata": {
  "kernelspec": {
   "display_name": "Python 3",
   "language": "python",
   "name": "python3"
  },
  "language_info": {
   "codemirror_mode": {
    "name": "ipython",
    "version": 3
   },
   "file_extension": ".py",
   "mimetype": "text/x-python",
   "name": "python",
   "nbconvert_exporter": "python",
   "pygments_lexer": "ipython3",
   "version": "3.6.9"
  }
 },
 "nbformat": 4,
 "nbformat_minor": 4
}
