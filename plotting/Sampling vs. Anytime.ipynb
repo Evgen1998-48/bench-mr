{
 "cells": [
  {
   "cell_type": "markdown",
   "metadata": {},
   "source": [
    "## Sampling-based vs. Anytime Planners\n",
    "In this notebook, we investigate the trade-off between sampling-based and anytime planners to compare the results from an anytime planner against the sampling-based planner in combination with a post-smoothing method. They could take approximately the same time and maybe it is beneficial to have a fast planner and an efficitive post-smoothing step vs. a single anytime planner."
   ]
  },
  {
   "cell_type": "code",
   "execution_count": null,
   "metadata": {
    "jupyter": {
     "source_hidden": true
    }
   },
   "outputs": [],
   "source": [
    "import os\n",
    "os.chdir(\"/home/eric/mpb/plotting\")"
   ]
  },
  {
   "cell_type": "code",
   "execution_count": null,
   "metadata": {},
   "outputs": [],
   "source": [
    "%load_ext autoreload\n",
    "%autoreload 2\n",
    "import mpb\n",
    "from mpb import MPB, MultipleMPB\n",
    "from definitions import all_planners, sampling_planners, \\\n",
    "                        anytime_planners, sbpl_planners\n",
    "\n",
    "import matplotlib as mpl\n",
    "mpl.rcParams['mathtext.fontset'] = 'cm'\n",
    "# make sure to not use Level-3 fonts\n",
    "mpl.rcParams['pdf.fonttype'] = 42\n",
    "import matplotlib.pyplot as plt"
   ]
  },
  {
   "cell_type": "code",
   "execution_count": null,
   "metadata": {},
   "outputs": [],
   "source": [
    "pool = MultipleMPB()\n",
    "for planner in sampling_planners:\n",
    "    m = MPB()\n",
    "    m.set_corridor_grid_env(width=150, height=150, branches=100, radius=4)\n",
    "    m.set_planners([planner])\n",
    "    m.set_steer_functions(['reeds_shepp'])\n",
    "    m.set_smoothers(['grips', 'ompl_bspline', 'ompl_shortcut', 'ompl_simplify_max'])\n",
    "    m.set_id('sampling_%s' % planner)\n",
    "    pool.benchmarks.append(m)    \n",
    "\n",
    "for planner in anytime_planners:\n",
    "    for max_time in [5, 10, 15, 30, 45, 60]:\n",
    "        m = MPB()\n",
    "        m.set_corridor_grid_env(width=150, height=150, branches=100, radius=4)\n",
    "        m.set_planners([planner])\n",
    "        m.set_steer_functions(['reeds_shepp'])\n",
    "        m[\"max_planning_time\"] = max_time\n",
    "        m.set_smoothers(['grips', 'ompl_bspline', 'ompl_shortcut', 'ompl_simplify_max'])\n",
    "        m.set_id('anytime_%s' % planner)\n",
    "        pool.benchmarks.append(m)\n",
    "pool.run_parallel('sam_vs_any', runs=5)"
   ]
  },
  {
   "cell_type": "code",
   "execution_count": null,
   "metadata": {},
   "outputs": [],
   "source": [
    "pool.visualize_trajectories(run_id='1', show_smoother=True, show_legend=True)"
   ]
  },
  {
   "cell_type": "code",
   "execution_count": null,
   "metadata": {},
   "outputs": [],
   "source": [
    "pool.plot_planner_stats()"
   ]
  },
  {
   "cell_type": "code",
   "execution_count": null,
   "metadata": {},
   "outputs": [],
   "source": [
    "pool.plot_smoother_stats()"
   ]
  },
  {
   "cell_type": "code",
   "execution_count": null,
   "metadata": {},
   "outputs": [],
   "source": [
    "MPB.merge(pool.benchmarks[:4], \"sampling_based.json\")"
   ]
  },
  {
   "cell_type": "code",
   "execution_count": null,
   "metadata": {},
   "outputs": [],
   "source": [
    "from plot_stats import plot_planner_stats\n",
    "plot_planner_stats(\"sampling_based.json\")"
   ]
  },
  {
   "cell_type": "code",
   "execution_count": null,
   "metadata": {},
   "outputs": [],
   "source": [
    "from plot_stats import plot_smoother_stats\n",
    "plot_smoother_stats(\"sampling_based.json\", num_colors=5)"
   ]
  },
  {
   "cell_type": "code",
   "execution_count": null,
   "metadata": {},
   "outputs": [],
   "source": []
  }
 ],
 "metadata": {
  "kernelspec": {
   "display_name": "Python 3",
   "language": "python",
   "name": "python3"
  },
  "language_info": {
   "codemirror_mode": {
    "name": "ipython",
    "version": 3
   },
   "file_extension": ".py",
   "mimetype": "text/x-python",
   "name": "python",
   "nbconvert_exporter": "python",
   "pygments_lexer": "ipython3",
   "version": "3.6.8"
  }
 },
 "nbformat": 4,
 "nbformat_minor": 4
}
