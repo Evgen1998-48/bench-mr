{
 "cells": [
  {
   "cell_type": "markdown",
   "metadata": {},
   "source": [
    "## Sampling-based vs. Anytime Planners\n",
    "In this notebook, we investigate the trade-off between sampling-based and anytime planners to compare the results from an anytime planner against the sampling-based planner in combination with a post-smoothing method. They could take approximately the same time and maybe it is beneficial to have a fast planner and an efficitive post-smoothing step vs. a single anytime planner."
   ]
  },
  {
   "cell_type": "code",
   "execution_count": 2,
   "metadata": {},
   "outputs": [],
   "source": [
    "%load_ext autoreload\n",
    "%autoreload 2\n",
    "import mpb\n",
    "from mpb import MPB, MultipleMPB\n",
    "from definitions import all_planners, sampling_planners, \\\n",
    "                        anytime_planners, sbpl_planners\n",
    "\n",
    "import matplotlib as mpl\n",
    "mpl.rcParams['mathtext.fontset'] = 'cm'\n",
    "# make sure to not use Level-3 fonts\n",
    "mpl.rcParams['pdf.fonttype'] = 42\n",
    "import matplotlib.pyplot as plt"
   ]
  },
  {
   "cell_type": "code",
   "execution_count": 10,
   "metadata": {},
   "outputs": [
    {
     "name": "stdout",
     "output_type": "stream",
     "text": [
      "Created MPB from config ../bin/benchmark_template.json.\n",
      "Created MPB from config ../bin/benchmark_template.json.\n",
      "Created MPB from config ../bin/benchmark_template.json.\n",
      "Created MPB from config ../bin/benchmark_template.json.\n",
      "Created MPB from config ../bin/benchmark_template.json.\n",
      "Created MPB from config ../bin/benchmark_template.json.\n",
      "Created MPB from config ../bin/benchmark_template.json.\n",
      "Created MPB from config ../bin/benchmark_template.json.\n",
      "Created MPB from config ../bin/benchmark_template.json.\n",
      "Created MPB from config ../bin/benchmark_template.json.\n",
      "Created MPB from config ../bin/benchmark_template.json.\n",
      "Created MPB from config ../bin/benchmark_template.json.\n",
      "Created MPB from config ../bin/benchmark_template.json.\n",
      "Created MPB from config ../bin/benchmark_template.json.\n",
      "Created MPB from config ../bin/benchmark_template.json.\n",
      "Created MPB from config ../bin/benchmark_template.json.\n",
      "Created MPB from config ../bin/benchmark_template.json.\n",
      "Created MPB from config ../bin/benchmark_template.json.\n",
      "Created MPB from config ../bin/benchmark_template.json.\n",
      "Created MPB from config ../bin/benchmark_template.json.\n",
      "Created MPB from config ../bin/benchmark_template.json.\n",
      "Created MPB from config ../bin/benchmark_template.json.\n",
      "Created MPB from config ../bin/benchmark_template.json.\n",
      "Created MPB from config ../bin/benchmark_template.json.\n",
      "Created MPB from config ../bin/benchmark_template.json.\n",
      "Created MPB from config ../bin/benchmark_template.json.\n",
      "Created MPB from config ../bin/benchmark_template.json.\n",
      "Created MPB from config ../bin/benchmark_template.json.\n",
      "Created MPB from config ../bin/benchmark_template.json.\n",
      "Created MPB from config ../bin/benchmark_template.json.\n",
      "Created MPB from config ../bin/benchmark_template.json.\n",
      "Created MPB from config ../bin/benchmark_template.json.\n",
      "Created MPB from config ../bin/benchmark_template.json.\n",
      "Created MPB from config ../bin/benchmark_template.json.\n",
      "Created MPB from config ../bin/benchmark_template.json.\n",
      "Created MPB from config ../bin/benchmark_template.json.\n",
      "Created MPB from config ../bin/benchmark_template.json.\n",
      "Created MPB from config ../bin/benchmark_template.json.\n",
      "Created MPB from config ../bin/benchmark_template.json.\n",
      "Created MPB from config ../bin/benchmark_template.json.\n",
      "Created MPB from config ../bin/benchmark_template.json.\n",
      "Created MPB from config ../bin/benchmark_template.json.\n",
      "Created MPB from config ../bin/benchmark_template.json.\n",
      "Created MPB from config ../bin/benchmark_template.json.\n",
      "Created MPB from config ../bin/benchmark_template.json.\n",
      "Created MPB from config ../bin/benchmark_template.json.\n",
      "Created MPB from config ../bin/benchmark_template.json.\n",
      "Created MPB from config ../bin/benchmark_template.json.\n",
      "Created MPB from config ../bin/benchmark_template.json.\n",
      "Created MPB from config ../bin/benchmark_template.json.\n",
      "Created MPB from config ../bin/benchmark_template.json.\n",
      "Created MPB from config ../bin/benchmark_template.json.\n",
      "Created MPB from config ../bin/benchmark_template.json.\n",
      "Created MPB from config ../bin/benchmark_template.json.\n",
      "Created MPB from config ../bin/benchmark_template.json.\n",
      "Created MPB from config ../bin/benchmark_template.json.\n",
      "Created MPB from config ../bin/benchmark_template.json.\n",
      "Created MPB from config ../bin/benchmark_template.json.\n",
      "Created MPB from config ../bin/benchmark_template.json.\n",
      "Created MPB from config ../bin/benchmark_template.json.\n",
      "Created MPB from config ../bin/benchmark_template.json.\n",
      "Created MPB from config ../bin/benchmark_template.json.\n",
      "Created MPB from config ../bin/benchmark_template.json.\n",
      "Created MPB from config ../bin/benchmark_template.json.\n",
      "Created MPB from config ../bin/benchmark_template.json.\n",
      "Created MPB from config ../bin/benchmark_template.json.\n",
      "Created MPB from config ../bin/benchmark_template.json.\n",
      "Created MPB from config ../bin/benchmark_template.json.\n",
      "Created MPB from config ../bin/benchmark_template.json.\n",
      "Created MPB from config ../bin/benchmark_template.json.\n",
      "Available memory: 228.95 GB, limiting each MPB process to 6.9% usage (15.90 GB).\n",
      "Creating pool of 70 processes.\n",
      "Created MPB from config sam_vs_any/sampling_sst_config.json.\n",
      "Created MPB from config sam_vs_any/sampling_fmt_config.json.\n",
      "Created MPB from config sam_vs_any/sampling_kpiece_config.json.\n",
      "Created MPB from config sam_vs_any/sampling_theta_star_config.json.\n",
      "Created MPB from config sam_vs_any/sampling_rrt_config.json.\n",
      "Created MPB from config sam_vs_any/sampling_est_config.json.\n",
      "Created MPB from config sam_vs_any/sampling_stride_config.json.\n",
      "Running MPB with ID sampling_fmt (log file at sam_vs_any/sampling_fmt.log)...\n",
      "Created MPB from config sam_vs_any/anytime_rrt_star_15_config.json.\n",
      "Created MPB from config sam_vs_any/anytime_rrt_star_10_config.json.\n",
      "Created MPB from config sam_vs_any/anytime_rrt_star_30_config.json.\n",
      "Created MPB from config sam_vs_any/anytime_rrt_star_5_config.json.\n",
      "Created MPB from config sam_vs_any/sampling_prm_config.json.\n",
      "Running MPB with ID sampling_theta_star (log file at sam_vs_any/sampling_theta_star.log)...\n",
      "Running MPB with ID sampling_est (log file at sam_vs_any/sampling_est.log)...\n",
      "Running MPB with ID sampling_stride (log file at sam_vs_any/sampling_stride.log)...\n",
      "Created MPB from config sam_vs_any/sampling_sbl_config.json.\n",
      "Running MPB with ID sampling_sst (log file at sam_vs_any/sampling_sst.log)...\n",
      "Running MPB with ID sampling_rrt (log file at sam_vs_any/sampling_rrt.log)...\n",
      "Running MPB with ID anytime_rrt_star_5 (log file at sam_vs_any/anytime_rrt_star_5.log)...\n",
      "Running MPB with ID anytime_rrt_star_30 (log file at sam_vs_any/anytime_rrt_star_30.log)...\n",
      "Running MPB with ID anytime_rrt_star_15 (log file at sam_vs_any/anytime_rrt_star_15.log)...\n",
      "Created MPB from config sam_vs_any/anytime_rrt_star_60_config.json.\n",
      "Created MPB from config sam_vs_any/anytime_rrt_sharp_15_config.json.\n",
      "Running MPB with ID sampling_kpiece (log file at sam_vs_any/sampling_kpiece.log)...\n",
      "Created MPB from config sam_vs_any/anytime_rrt_star_45_config.json.\n",
      "Running MPB with ID sampling_prm (log file at sam_vs_any/sampling_prm.log)...\n",
      "Running MPB with ID anytime_rrt_star_10 (log file at sam_vs_any/anytime_rrt_star_10.log)...\n",
      "Running MPB with ID anytime_rrt_star_60 (log file at sam_vs_any/anytime_rrt_star_60.log)...\n",
      "Created MPB from config sam_vs_any/anytime_rrt_sharp_60_config.json.\n",
      "Running MPB with ID anytime_rrt_sharp_15 (log file at sam_vs_any/anytime_rrt_sharp_15.log)...\n",
      "Created MPB from config sam_vs_any/anytime_rrt_sharp_30_config.json.\n",
      "Created MPB from config sam_vs_any/sampling_pdst_config.json.\n",
      "Running MPB with ID anytime_rrt_star_45 (log file at sam_vs_any/anytime_rrt_star_45.log)...\n",
      "Created MPB from config sam_vs_any/anytime_rrt_sharp_45_config.json.\n",
      "Created MPB from config sam_vs_any/anytime_informed_rrt_star_5_config.json.\n",
      "Created MPB from config sam_vs_any/anytime_rrt_sharp_10_config.json.\n",
      "Created MPB from config sam_vs_any/anytime_rrt_sharp_5_config.json.\n",
      "Created MPB from config sam_vs_any/anytime_informed_rrt_star_10_config.json.\n",
      "Created MPB from config sam_vs_any/anytime_informed_rrt_star_15_config.json.\n",
      "Created MPB from config sam_vs_any/anytime_informed_rrt_star_60_config.json.\n",
      "Created MPB from config sam_vs_any/anytime_informed_rrt_star_30_config.json.\n",
      "Created MPB from config sam_vs_any/anytime_sorrt_star_15_config.json.\n",
      "Running MPB with ID sampling_sbl (log file at sam_vs_any/sampling_sbl.log)...\n",
      "Created MPB from config sam_vs_any/anytime_sorrt_star_10_config.json.\n",
      "Created MPB from config sam_vs_any/anytime_sorrt_star_45_config.json.\n",
      "Created MPB from config sam_vs_any/anytime_sorrt_star_30_config.json.\n",
      "Created MPB from config sam_vs_any/anytime_prm_star_5_config.json.\n",
      "Created MPB from config sam_vs_any/anytime_sorrt_star_5_config.json.\n",
      "Created MPB from config sam_vs_any/anytime_sorrt_star_60_config.json.\n",
      "Created MPB from config sam_vs_any/anytime_prm_star_30_config.json.\n",
      "Created MPB from config sam_vs_any/anytime_prm_star_60_config.json.\n",
      "Created MPB from config sam_vs_any/anytime_bfmt_5_config.json.\n",
      "Created MPB from config sam_vs_any/anytime_bfmt_10_config.json.\n",
      "Created MPB from config sam_vs_any/anytime_cforest_60_config.json.\n",
      "Running MPB with ID anytime_sorrt_star_45 (log file at sam_vs_any/anytime_sorrt_star_45.log)...\n",
      "Created MPB from config sam_vs_any/anytime_cforest_30_config.json.\n",
      "Running MPB with ID anytime_sorrt_star_30 (log file at sam_vs_any/anytime_sorrt_star_30.log)...\n",
      "Running MPB with ID anytime_sorrt_star_10 (log file at sam_vs_any/anytime_sorrt_star_10.log)...\n",
      "Created MPB from config sam_vs_any/anytime_cforest_15_config.json.\n",
      "Created MPB from config sam_vs_any/anytime_bfmt_30_config.json.\n",
      "Created MPB from config sam_vs_any/anytime_cforest_10_config.json.\n",
      "Created MPB from config sam_vs_any/anytime_bit_star_5_config.json.\n",
      "Created MPB from config sam_vs_any/anytime_bfmt_60_config.json.\n",
      "Created MPB from config sam_vs_any/anytime_bit_star_45_config.json.\n",
      "Created MPB from config sam_vs_any/anytime_bit_star_30_config.json.\n",
      "Created MPB from config sam_vs_any/anytime_bit_star_15_config.json.\n",
      "Created MPB from config sam_vs_any/anytime_bit_star_60_config.json.\n",
      "Created MPB from config sam_vs_any/anytime_prm_star_10_config.json.\n",
      "Created MPB from config sam_vs_any/anytime_spars_5_config.json.\n",
      "Running MPB with ID anytime_sorrt_star_15 (log file at sam_vs_any/anytime_sorrt_star_15.log)...\n",
      "Created MPB from config sam_vs_any/anytime_spars_15_config.json.\n",
      "Created MPB from config sam_vs_any/anytime_spars_30_config.json.\n",
      "Created MPB from config sam_vs_any/anytime_spars_60_config.json.\n",
      "Created MPB from config sam_vs_any/anytime_spars2_5_config.json.\n",
      "Created MPB from config sam_vs_any/anytime_spars2_10_config.json.\n",
      "Created MPB from config sam_vs_any/anytime_spars2_15_config.json.\n",
      "Running MPB with ID anytime_informed_rrt_star_30 (log file at sam_vs_any/anytime_informed_rrt_star_30.log)...\n",
      "Created MPB from config sam_vs_any/anytime_spars2_45_config.json.\n",
      "Created MPB from config sam_vs_any/anytime_spars2_30_config.json.\n",
      "Running MPB with ID anytime_rrt_sharp_45 (log file at sam_vs_any/anytime_rrt_sharp_45.log)...\n",
      "Created MPB from config sam_vs_any/anytime_bfmt_45_config.json.\n",
      "Created MPB from config sam_vs_any/anytime_prm_star_15_config.json.\n",
      "Running MPB with ID anytime_informed_rrt_star_5 (log file at sam_vs_any/anytime_informed_rrt_star_5.log)...\n",
      "Running MPB with ID anytime_informed_rrt_star_60 (log file at sam_vs_any/anytime_informed_rrt_star_60.log)...\n",
      "Created MPB from config sam_vs_any/anytime_cforest_5_config.json.\n",
      "Running MPB with ID anytime_informed_rrt_star_10 (log file at sam_vs_any/anytime_informed_rrt_star_10.log)...\n",
      "Running MPB with ID anytime_informed_rrt_star_15 (log file at sam_vs_any/anytime_informed_rrt_star_15.log)...\n",
      "Running MPB with ID anytime_rrt_sharp_5 (log file at sam_vs_any/anytime_rrt_sharp_5.log)...\n",
      "Running MPB with ID anytime_sorrt_star_60 (log file at sam_vs_any/anytime_sorrt_star_60.log)...\n",
      "Running MPB with ID anytime_cforest_60 (log file at sam_vs_any/anytime_cforest_60.log)...\n",
      "Running MPB with ID anytime_rrt_sharp_60 (log file at sam_vs_any/anytime_rrt_sharp_60.log)...\n",
      "Running MPB with ID anytime_prm_star_10 (log file at sam_vs_any/anytime_prm_star_10.log)...\n",
      "Created MPB from config sam_vs_any/anytime_cforest_45_config.json.\n",
      "Created MPB from config sam_vs_any/anytime_informed_rrt_star_45_config.json.\n",
      "Created MPB from config sam_vs_any/anytime_bfmt_15_config.json.\n",
      "Running MPB with ID anytime_rrt_sharp_10 (log file at sam_vs_any/anytime_rrt_sharp_10.log)...\n",
      "Created MPB from config sam_vs_any/anytime_spars_45_config.json.\n",
      "Running MPB with ID anytime_prm_star_30 (log file at sam_vs_any/anytime_prm_star_30.log)...\n",
      "Running MPB with ID anytime_cforest_30 (log file at sam_vs_any/anytime_cforest_30.log)...\n",
      "Created MPB from config sam_vs_any/anytime_spars_10_config.json.\n",
      "Running MPB with ID anytime_bfmt_5 (log file at sam_vs_any/anytime_bfmt_5.log)...\n",
      "Running MPB with ID anytime_bit_star_45 (log file at sam_vs_any/anytime_bit_star_45.log)...\n",
      "Running MPB with ID sampling_pdst (log file at sam_vs_any/sampling_pdst.log)...\n",
      "Running MPB with ID anytime_prm_star_5 (log file at sam_vs_any/anytime_prm_star_5.log)...\n",
      "Running MPB with ID anytime_bit_star_60 (log file at sam_vs_any/anytime_bit_star_60.log)...\n",
      "Running MPB with ID anytime_prm_star_15 (log file at sam_vs_any/anytime_prm_star_15.log)...\n",
      "Running MPB with ID anytime_bfmt_60 (log file at sam_vs_any/anytime_bfmt_60.log)...\n",
      "Running MPB with ID anytime_cforest_15 (log file at sam_vs_any/anytime_cforest_15.log)...\n",
      "Running MPB with ID anytime_bit_star_5 (log file at sam_vs_any/anytime_bit_star_5.log)...\n",
      "Running MPB with ID anytime_prm_star_60 (log file at sam_vs_any/anytime_prm_star_60.log)...\n",
      "Created MPB from config sam_vs_any/anytime_prm_star_45_config.json.\n",
      "Running MPB with ID anytime_bfmt_45 (log file at sam_vs_any/anytime_bfmt_45.log)...\n",
      "Running MPB with ID anytime_bit_star_30 (log file at sam_vs_any/anytime_bit_star_30.log)...\n",
      "Running MPB with ID anytime_spars2_5 (log file at sam_vs_any/anytime_spars2_5.log)...\n",
      "Created MPB from config sam_vs_any/anytime_bit_star_10_config.json.\n",
      "Running MPB with ID anytime_spars_5 (log file at sam_vs_any/anytime_spars_5.log)...\n",
      "Running MPB with ID anytime_cforest_5 (log file at sam_vs_any/anytime_cforest_5.log)...\n",
      "Running MPB with ID anytime_rrt_sharp_30 (log file at sam_vs_any/anytime_rrt_sharp_30.log)...\n",
      "Running MPB with ID anytime_sorrt_star_5 (log file at sam_vs_any/anytime_sorrt_star_5.log)...\n",
      "Running MPB with ID anytime_informed_rrt_star_45 (log file at sam_vs_any/anytime_informed_rrt_star_45.log)...\n",
      "Running MPB with ID anytime_bfmt_10 (log file at sam_vs_any/anytime_bfmt_10.log)...\n",
      "Running MPB with ID anytime_bfmt_15 (log file at sam_vs_any/anytime_bfmt_15.log)...\n",
      "Running MPB with ID anytime_bit_star_15 (log file at sam_vs_any/anytime_bit_star_15.log)...\n",
      "Running MPB with ID anytime_spars2_10 (log file at sam_vs_any/anytime_spars2_10.log)...\n",
      "Running MPB with ID anytime_spars2_45 (log file at sam_vs_any/anytime_spars2_45.log)...\n",
      "Running MPB with ID anytime_bit_star_10 (log file at sam_vs_any/anytime_bit_star_10.log)...\n",
      "Running MPB with ID anytime_spars_30 (log file at sam_vs_any/anytime_spars_30.log)...\n",
      "Running MPB with ID anytime_spars2_15 (log file at sam_vs_any/anytime_spars2_15.log)...\n",
      "Running MPB with ID anytime_cforest_45 (log file at sam_vs_any/anytime_cforest_45.log)...\n",
      "Running MPB with ID anytime_spars_45 (log file at sam_vs_any/anytime_spars_45.log)...\n",
      "Running MPB with ID anytime_cforest_10 (log file at sam_vs_any/anytime_cforest_10.log)...\n",
      "Running MPB with ID anytime_bfmt_30 (log file at sam_vs_any/anytime_bfmt_30.log)...\n",
      "Running MPB with ID anytime_spars2_30 (log file at sam_vs_any/anytime_spars2_30.log)...\n",
      "Running MPB with ID anytime_spars_60 (log file at sam_vs_any/anytime_spars_60.log)...\n",
      "Running MPB with ID anytime_spars_10 (log file at sam_vs_any/anytime_spars_10.log)...\n",
      "Running MPB with ID anytime_spars_15 (log file at sam_vs_any/anytime_spars_15.log)...\n",
      "Running MPB with ID anytime_prm_star_45 (log file at sam_vs_any/anytime_prm_star_45.log)...\n",
      "Created MPB from config sam_vs_any/anytime_spars2_60_config.json.\n",
      "Running MPB with ID anytime_spars2_60 (log file at sam_vs_any/anytime_spars2_60.log)...\n"
     ]
    },
    {
     "data": {
      "application/vnd.jupyter.widget-view+json": {
       "model_id": "a4c1aaed7adb429ea1532def9ac0ca81",
       "version_major": 2,
       "version_minor": 0
      },
      "text/plain": [
       "HBox(children=(IntProgress(value=0, description='sampling_sst', layout=Layout(flex='2'), max=5, style=Progress…"
      ]
     },
     "metadata": {},
     "output_type": "display_data"
    },
    {
     "data": {
      "application/vnd.jupyter.widget-view+json": {
       "model_id": "b8e9baf857e9410cb9385fef2ff78e89",
       "version_major": 2,
       "version_minor": 0
      },
      "text/plain": [
       "HBox(children=(IntProgress(value=0, description='anytime_rrt_star_15', layout=Layout(flex='2'), max=5, style=P…"
      ]
     },
     "metadata": {},
     "output_type": "display_data"
    },
    {
     "data": {
      "application/vnd.jupyter.widget-view+json": {
       "model_id": "e7ac3228b7c04f01b1b79351451fa64e",
       "version_major": 2,
       "version_minor": 0
      },
      "text/plain": [
       "HBox(children=(IntProgress(value=0, description='anytime_rrt_star_5', layout=Layout(flex='2'), max=5, style=Pr…"
      ]
     },
     "metadata": {},
     "output_type": "display_data"
    },
    {
     "data": {
      "application/vnd.jupyter.widget-view+json": {
       "model_id": "6333a12f89624226a098413ebe352cf7",
       "version_major": 2,
       "version_minor": 0
      },
      "text/plain": [
       "HBox(children=(IntProgress(value=0, description='anytime_informed_rrt_star_60', layout=Layout(flex='2'), max=5…"
      ]
     },
     "metadata": {},
     "output_type": "display_data"
    },
    {
     "data": {
      "application/vnd.jupyter.widget-view+json": {
       "model_id": "908233a0383b487bbb92049937da4740",
       "version_major": 2,
       "version_minor": 0
      },
      "text/plain": [
       "HBox(children=(IntProgress(value=0, description='sampling_theta_star', layout=Layout(flex='2'), max=5, style=P…"
      ]
     },
     "metadata": {},
     "output_type": "display_data"
    },
    {
     "data": {
      "application/vnd.jupyter.widget-view+json": {
       "model_id": "ba48880f92eb4e9794df1c1abd9d502a",
       "version_major": 2,
       "version_minor": 0
      },
      "text/plain": [
       "HBox(children=(IntProgress(value=0, description='sampling_rrt', layout=Layout(flex='2'), max=5, style=Progress…"
      ]
     },
     "metadata": {},
     "output_type": "display_data"
    },
    {
     "data": {
      "application/vnd.jupyter.widget-view+json": {
       "model_id": "f4b13881480343c697e5eb7e263e9d90",
       "version_major": 2,
       "version_minor": 0
      },
      "text/plain": [
       "HBox(children=(IntProgress(value=0, description='anytime_rrt_sharp_45', layout=Layout(flex='2'), max=5, style=…"
      ]
     },
     "metadata": {},
     "output_type": "display_data"
    },
    {
     "data": {
      "application/vnd.jupyter.widget-view+json": {
       "model_id": "e206f4d1fee9485b891dc630b9898fff",
       "version_major": 2,
       "version_minor": 0
      },
      "text/plain": [
       "HBox(children=(IntProgress(value=0, description='sampling_fmt', layout=Layout(flex='2'), max=5, style=Progress…"
      ]
     },
     "metadata": {},
     "output_type": "display_data"
    },
    {
     "data": {
      "application/vnd.jupyter.widget-view+json": {
       "model_id": "2a5e801e9994424cbb14ae9d26571cf2",
       "version_major": 2,
       "version_minor": 0
      },
      "text/plain": [
       "HBox(children=(IntProgress(value=0, description='anytime_sorrt_star_15', layout=Layout(flex='2'), max=5, style…"
      ]
     },
     "metadata": {},
     "output_type": "display_data"
    },
    {
     "data": {
      "application/vnd.jupyter.widget-view+json": {
       "model_id": "6e7f690f596d4f8dbbce6ecdadc39740",
       "version_major": 2,
       "version_minor": 0
      },
      "text/plain": [
       "HBox(children=(IntProgress(value=0, description='sampling_kpiece', layout=Layout(flex='2'), max=5, style=Progr…"
      ]
     },
     "metadata": {},
     "output_type": "display_data"
    },
    {
     "data": {
      "application/vnd.jupyter.widget-view+json": {
       "model_id": "ab2691f2eb5c4a05850b5ec7ee89a888",
       "version_major": 2,
       "version_minor": 0
      },
      "text/plain": [
       "HBox(children=(IntProgress(value=0, description='sampling_est', layout=Layout(flex='2'), max=5, style=Progress…"
      ]
     },
     "metadata": {},
     "output_type": "display_data"
    },
    {
     "data": {
      "application/vnd.jupyter.widget-view+json": {
       "model_id": "6a814b883a9d4b99b960676b268e56cb",
       "version_major": 2,
       "version_minor": 0
      },
      "text/plain": [
       "HBox(children=(IntProgress(value=0, description='anytime_sorrt_star_45', layout=Layout(flex='2'), max=5, style…"
      ]
     },
     "metadata": {},
     "output_type": "display_data"
    },
    {
     "data": {
      "application/vnd.jupyter.widget-view+json": {
       "model_id": "18735f46531947d0b1191911092a0d3c",
       "version_major": 2,
       "version_minor": 0
      },
      "text/plain": [
       "HBox(children=(IntProgress(value=0, description='anytime_sorrt_star_60', layout=Layout(flex='2'), max=5, style…"
      ]
     },
     "metadata": {},
     "output_type": "display_data"
    },
    {
     "data": {
      "application/vnd.jupyter.widget-view+json": {
       "model_id": "96d6acb7459b47dc99d33645275d6001",
       "version_major": 2,
       "version_minor": 0
      },
      "text/plain": [
       "HBox(children=(IntProgress(value=0, description='anytime_rrt_star_45', layout=Layout(flex='2'), max=5, style=P…"
      ]
     },
     "metadata": {},
     "output_type": "display_data"
    },
    {
     "data": {
      "application/vnd.jupyter.widget-view+json": {
       "model_id": "677cc1970fca4b42a506f4804a0a71ad",
       "version_major": 2,
       "version_minor": 0
      },
      "text/plain": [
       "HBox(children=(IntProgress(value=0, description='anytime_bfmt_5', layout=Layout(flex='2'), max=5, style=Progre…"
      ]
     },
     "metadata": {},
     "output_type": "display_data"
    },
    {
     "data": {
      "application/vnd.jupyter.widget-view+json": {
       "model_id": "2940e514df954a798dfbdd1cc3d44bbc",
       "version_major": 2,
       "version_minor": 0
      },
      "text/plain": [
       "HBox(children=(IntProgress(value=0, description='anytime_rrt_star_30', layout=Layout(flex='2'), max=5, style=P…"
      ]
     },
     "metadata": {},
     "output_type": "display_data"
    },
    {
     "data": {
      "application/vnd.jupyter.widget-view+json": {
       "model_id": "8eea3b7abfbb4a0a895a6d59078af713",
       "version_major": 2,
       "version_minor": 0
      },
      "text/plain": [
       "HBox(children=(IntProgress(value=0, description='anytime_bfmt_10', layout=Layout(flex='2'), max=5, style=Progr…"
      ]
     },
     "metadata": {},
     "output_type": "display_data"
    },
    {
     "data": {
      "application/vnd.jupyter.widget-view+json": {
       "model_id": "8572f1cc476a485e8e3daece3468ce51",
       "version_major": 2,
       "version_minor": 0
      },
      "text/plain": [
       "HBox(children=(IntProgress(value=0, description='sampling_stride', layout=Layout(flex='2'), max=5, style=Progr…"
      ]
     },
     "metadata": {},
     "output_type": "display_data"
    },
    {
     "data": {
      "application/vnd.jupyter.widget-view+json": {
       "model_id": "42c0630704664d3c9e65b5258241dfe3",
       "version_major": 2,
       "version_minor": 0
      },
      "text/plain": [
       "HBox(children=(IntProgress(value=0, description='anytime_informed_rrt_star_30', layout=Layout(flex='2'), max=5…"
      ]
     },
     "metadata": {},
     "output_type": "display_data"
    },
    {
     "data": {
      "application/vnd.jupyter.widget-view+json": {
       "model_id": "8fccbcdfc4174c5c85466bd118a2ff87",
       "version_major": 2,
       "version_minor": 0
      },
      "text/plain": [
       "HBox(children=(IntProgress(value=0, description='anytime_informed_rrt_star_45', layout=Layout(flex='2'), max=5…"
      ]
     },
     "metadata": {},
     "output_type": "display_data"
    },
    {
     "data": {
      "application/vnd.jupyter.widget-view+json": {
       "model_id": "e88013c9b50d433b90070a8a14b8931c",
       "version_major": 2,
       "version_minor": 0
      },
      "text/plain": [
       "HBox(children=(IntProgress(value=0, description='anytime_bfmt_45', layout=Layout(flex='2'), max=5, style=Progr…"
      ]
     },
     "metadata": {},
     "output_type": "display_data"
    },
    {
     "data": {
      "application/vnd.jupyter.widget-view+json": {
       "model_id": "474db011efc74d649a70935c8615f881",
       "version_major": 2,
       "version_minor": 0
      },
      "text/plain": [
       "HBox(children=(IntProgress(value=0, description='anytime_informed_rrt_star_5', layout=Layout(flex='2'), max=5,…"
      ]
     },
     "metadata": {},
     "output_type": "display_data"
    },
    {
     "data": {
      "application/vnd.jupyter.widget-view+json": {
       "model_id": "97b60382406046afae77e2587152ebf6",
       "version_major": 2,
       "version_minor": 0
      },
      "text/plain": [
       "HBox(children=(IntProgress(value=0, description='anytime_bit_star_15', layout=Layout(flex='2'), max=5, style=P…"
      ]
     },
     "metadata": {},
     "output_type": "display_data"
    },
    {
     "data": {
      "application/vnd.jupyter.widget-view+json": {
       "model_id": "dbad5aa063094c8fa177ed86bbc22dd9",
       "version_major": 2,
       "version_minor": 0
      },
      "text/plain": [
       "HBox(children=(IntProgress(value=0, description='anytime_prm_star_60', layout=Layout(flex='2'), max=5, style=P…"
      ]
     },
     "metadata": {},
     "output_type": "display_data"
    },
    {
     "data": {
      "application/vnd.jupyter.widget-view+json": {
       "model_id": "4b229ca2a4584c259c0db4ef311c604a",
       "version_major": 2,
       "version_minor": 0
      },
      "text/plain": [
       "HBox(children=(IntProgress(value=0, description='anytime_informed_rrt_star_10', layout=Layout(flex='2'), max=5…"
      ]
     },
     "metadata": {},
     "output_type": "display_data"
    },
    {
     "data": {
      "application/vnd.jupyter.widget-view+json": {
       "model_id": "29515a1835a843aba95c1bed643d7acd",
       "version_major": 2,
       "version_minor": 0
      },
      "text/plain": [
       "HBox(children=(IntProgress(value=0, description='anytime_rrt_star_60', layout=Layout(flex='2'), max=5, style=P…"
      ]
     },
     "metadata": {},
     "output_type": "display_data"
    },
    {
     "data": {
      "application/vnd.jupyter.widget-view+json": {
       "model_id": "2f2fa449fe984b119c94ae5ca3aed804",
       "version_major": 2,
       "version_minor": 0
      },
      "text/plain": [
       "HBox(children=(IntProgress(value=0, description='anytime_cforest_60', layout=Layout(flex='2'), max=5, style=Pr…"
      ]
     },
     "metadata": {},
     "output_type": "display_data"
    },
    {
     "data": {
      "application/vnd.jupyter.widget-view+json": {
       "model_id": "efa86f45e0e74c69ba15fb75ca8f2a9d",
       "version_major": 2,
       "version_minor": 0
      },
      "text/plain": [
       "HBox(children=(IntProgress(value=0, description='anytime_cforest_30', layout=Layout(flex='2'), max=5, style=Pr…"
      ]
     },
     "metadata": {},
     "output_type": "display_data"
    },
    {
     "data": {
      "application/vnd.jupyter.widget-view+json": {
       "model_id": "cdde76c643194bc19ca07c5e454a7cb8",
       "version_major": 2,
       "version_minor": 0
      },
      "text/plain": [
       "HBox(children=(IntProgress(value=0, description='anytime_bit_star_45', layout=Layout(flex='2'), max=5, style=P…"
      ]
     },
     "metadata": {},
     "output_type": "display_data"
    },
    {
     "data": {
      "application/vnd.jupyter.widget-view+json": {
       "model_id": "8637a33cc8614b79a803ab27f2aabc3d",
       "version_major": 2,
       "version_minor": 0
      },
      "text/plain": [
       "HBox(children=(IntProgress(value=0, description='sampling_sbl', layout=Layout(flex='2'), max=5, style=Progress…"
      ]
     },
     "metadata": {},
     "output_type": "display_data"
    },
    {
     "data": {
      "application/vnd.jupyter.widget-view+json": {
       "model_id": "8792d0c0e4b841bcb5cdcd970e9b0ac5",
       "version_major": 2,
       "version_minor": 0
      },
      "text/plain": [
       "HBox(children=(IntProgress(value=0, description='anytime_prm_star_30', layout=Layout(flex='2'), max=5, style=P…"
      ]
     },
     "metadata": {},
     "output_type": "display_data"
    },
    {
     "data": {
      "application/vnd.jupyter.widget-view+json": {
       "model_id": "bbb7b7ac65a648c5806ac7b9b5daba05",
       "version_major": 2,
       "version_minor": 0
      },
      "text/plain": [
       "HBox(children=(IntProgress(value=0, description='anytime_spars_5', layout=Layout(flex='2'), max=5, style=Progr…"
      ]
     },
     "metadata": {},
     "output_type": "display_data"
    },
    {
     "data": {
      "application/vnd.jupyter.widget-view+json": {
       "model_id": "4fc1dee75335436d8b72b3f8ea49aff1",
       "version_major": 2,
       "version_minor": 0
      },
      "text/plain": [
       "HBox(children=(IntProgress(value=0, description='anytime_sorrt_star_10', layout=Layout(flex='2'), max=5, style…"
      ]
     },
     "metadata": {},
     "output_type": "display_data"
    },
    {
     "data": {
      "application/vnd.jupyter.widget-view+json": {
       "model_id": "b7a4f46d5fac4e6c9e53d11b5d54c0ae",
       "version_major": 2,
       "version_minor": 0
      },
      "text/plain": [
       "HBox(children=(IntProgress(value=0, description='anytime_prm_star_5', layout=Layout(flex='2'), max=5, style=Pr…"
      ]
     },
     "metadata": {},
     "output_type": "display_data"
    },
    {
     "data": {
      "application/vnd.jupyter.widget-view+json": {
       "model_id": "24fc3c491eea40db83013ba885a12eea",
       "version_major": 2,
       "version_minor": 0
      },
      "text/plain": [
       "HBox(children=(IntProgress(value=0, description='anytime_bfmt_60', layout=Layout(flex='2'), max=5, style=Progr…"
      ]
     },
     "metadata": {},
     "output_type": "display_data"
    },
    {
     "data": {
      "application/vnd.jupyter.widget-view+json": {
       "model_id": "88a21b11700f4521bda19edfc6281db0",
       "version_major": 2,
       "version_minor": 0
      },
      "text/plain": [
       "HBox(children=(IntProgress(value=0, description='anytime_rrt_sharp_15', layout=Layout(flex='2'), max=5, style=…"
      ]
     },
     "metadata": {},
     "output_type": "display_data"
    },
    {
     "data": {
      "application/vnd.jupyter.widget-view+json": {
       "model_id": "d7242c120dc54019aba9a91cd3bfbbf3",
       "version_major": 2,
       "version_minor": 0
      },
      "text/plain": [
       "HBox(children=(IntProgress(value=0, description='anytime_bit_star_60', layout=Layout(flex='2'), max=5, style=P…"
      ]
     },
     "metadata": {},
     "output_type": "display_data"
    },
    {
     "data": {
      "application/vnd.jupyter.widget-view+json": {
       "model_id": "0a17fc7c9afb40aa870fe8b6531b47f0",
       "version_major": 2,
       "version_minor": 0
      },
      "text/plain": [
       "HBox(children=(IntProgress(value=0, description='anytime_sorrt_star_30', layout=Layout(flex='2'), max=5, style…"
      ]
     },
     "metadata": {},
     "output_type": "display_data"
    },
    {
     "data": {
      "application/vnd.jupyter.widget-view+json": {
       "model_id": "55c18691b0904e14854fd0648defa0c5",
       "version_major": 2,
       "version_minor": 0
      },
      "text/plain": [
       "HBox(children=(IntProgress(value=0, description='anytime_prm_star_10', layout=Layout(flex='2'), max=5, style=P…"
      ]
     },
     "metadata": {},
     "output_type": "display_data"
    },
    {
     "data": {
      "application/vnd.jupyter.widget-view+json": {
       "model_id": "a372b989d1274d0b870a6588bf331425",
       "version_major": 2,
       "version_minor": 0
      },
      "text/plain": [
       "HBox(children=(IntProgress(value=0, description='anytime_spars_15', layout=Layout(flex='2'), max=5, style=Prog…"
      ]
     },
     "metadata": {},
     "output_type": "display_data"
    },
    {
     "data": {
      "application/vnd.jupyter.widget-view+json": {
       "model_id": "cb7fb6926b48481b9ef70a49d1d38e43",
       "version_major": 2,
       "version_minor": 0
      },
      "text/plain": [
       "HBox(children=(IntProgress(value=0, description='anytime_informed_rrt_star_15', layout=Layout(flex='2'), max=5…"
      ]
     },
     "metadata": {},
     "output_type": "display_data"
    },
    {
     "data": {
      "application/vnd.jupyter.widget-view+json": {
       "model_id": "c1da0d425f57482da464e6d3d5e471db",
       "version_major": 2,
       "version_minor": 0
      },
      "text/plain": [
       "HBox(children=(IntProgress(value=0, description='anytime_spars2_45', layout=Layout(flex='2'), max=5, style=Pro…"
      ]
     },
     "metadata": {},
     "output_type": "display_data"
    },
    {
     "data": {
      "application/vnd.jupyter.widget-view+json": {
       "model_id": "e7f4fa30715c4340be229364c072a63b",
       "version_major": 2,
       "version_minor": 0
      },
      "text/plain": [
       "HBox(children=(IntProgress(value=0, description='sampling_prm', layout=Layout(flex='2'), max=5, style=Progress…"
      ]
     },
     "metadata": {},
     "output_type": "display_data"
    },
    {
     "data": {
      "application/vnd.jupyter.widget-view+json": {
       "model_id": "d575ba6bf2b8484e81337066cf8cd2b4",
       "version_major": 2,
       "version_minor": 0
      },
      "text/plain": [
       "HBox(children=(IntProgress(value=0, description='anytime_spars2_30', layout=Layout(flex='2'), max=5, style=Pro…"
      ]
     },
     "metadata": {},
     "output_type": "display_data"
    },
    {
     "data": {
      "application/vnd.jupyter.widget-view+json": {
       "model_id": "9736363c282b495c8a9ffcc2d7ca3b5c",
       "version_major": 2,
       "version_minor": 0
      },
      "text/plain": [
       "HBox(children=(IntProgress(value=0, description='anytime_bit_star_30', layout=Layout(flex='2'), max=5, style=P…"
      ]
     },
     "metadata": {},
     "output_type": "display_data"
    },
    {
     "data": {
      "application/vnd.jupyter.widget-view+json": {
       "model_id": "a77aef52d86f48c78a4de7e815969b26",
       "version_major": 2,
       "version_minor": 0
      },
      "text/plain": [
       "HBox(children=(IntProgress(value=0, description='anytime_spars2_10', layout=Layout(flex='2'), max=5, style=Pro…"
      ]
     },
     "metadata": {},
     "output_type": "display_data"
    },
    {
     "data": {
      "application/vnd.jupyter.widget-view+json": {
       "model_id": "43c2d9fb8bb34567b3d8dfac3848f502",
       "version_major": 2,
       "version_minor": 0
      },
      "text/plain": [
       "HBox(children=(IntProgress(value=0, description='anytime_spars_10', layout=Layout(flex='2'), max=5, style=Prog…"
      ]
     },
     "metadata": {},
     "output_type": "display_data"
    },
    {
     "data": {
      "application/vnd.jupyter.widget-view+json": {
       "model_id": "6ecee6c1864a4125bcb196ce16247c50",
       "version_major": 2,
       "version_minor": 0
      },
      "text/plain": [
       "HBox(children=(IntProgress(value=0, description='anytime_spars_60', layout=Layout(flex='2'), max=5, style=Prog…"
      ]
     },
     "metadata": {},
     "output_type": "display_data"
    },
    {
     "data": {
      "application/vnd.jupyter.widget-view+json": {
       "model_id": "449c16af1fee4976b13aadbe8736770c",
       "version_major": 2,
       "version_minor": 0
      },
      "text/plain": [
       "HBox(children=(IntProgress(value=0, description='anytime_cforest_5', layout=Layout(flex='2'), max=5, style=Pro…"
      ]
     },
     "metadata": {},
     "output_type": "display_data"
    },
    {
     "data": {
      "application/vnd.jupyter.widget-view+json": {
       "model_id": "a93d371d245b4175a72c0ee776433977",
       "version_major": 2,
       "version_minor": 0
      },
      "text/plain": [
       "HBox(children=(IntProgress(value=0, description='anytime_bit_star_5', layout=Layout(flex='2'), max=5, style=Pr…"
      ]
     },
     "metadata": {},
     "output_type": "display_data"
    },
    {
     "data": {
      "application/vnd.jupyter.widget-view+json": {
       "model_id": "b492504674a144db9d44abc80d52ee78",
       "version_major": 2,
       "version_minor": 0
      },
      "text/plain": [
       "HBox(children=(IntProgress(value=0, description='anytime_spars2_15', layout=Layout(flex='2'), max=5, style=Pro…"
      ]
     },
     "metadata": {},
     "output_type": "display_data"
    },
    {
     "data": {
      "application/vnd.jupyter.widget-view+json": {
       "model_id": "0c5cfbde5ba848a5abe2ee8b85b60221",
       "version_major": 2,
       "version_minor": 0
      },
      "text/plain": [
       "HBox(children=(IntProgress(value=0, description='anytime_spars_30', layout=Layout(flex='2'), max=5, style=Prog…"
      ]
     },
     "metadata": {},
     "output_type": "display_data"
    },
    {
     "data": {
      "application/vnd.jupyter.widget-view+json": {
       "model_id": "3e36604140de47d4bf7d692e81dc045c",
       "version_major": 2,
       "version_minor": 0
      },
      "text/plain": [
       "HBox(children=(IntProgress(value=0, description='anytime_spars2_5', layout=Layout(flex='2'), max=5, style=Prog…"
      ]
     },
     "metadata": {},
     "output_type": "display_data"
    },
    {
     "data": {
      "application/vnd.jupyter.widget-view+json": {
       "model_id": "259009941849431dad3b155d378fac02",
       "version_major": 2,
       "version_minor": 0
      },
      "text/plain": [
       "HBox(children=(IntProgress(value=0, description='anytime_prm_star_45', layout=Layout(flex='2'), max=5, style=P…"
      ]
     },
     "metadata": {},
     "output_type": "display_data"
    },
    {
     "data": {
      "application/vnd.jupyter.widget-view+json": {
       "model_id": "2caf86727fdb411ba852e17a7ae28b90",
       "version_major": 2,
       "version_minor": 0
      },
      "text/plain": [
       "HBox(children=(IntProgress(value=0, description='anytime_rrt_sharp_5', layout=Layout(flex='2'), max=5, style=P…"
      ]
     },
     "metadata": {},
     "output_type": "display_data"
    },
    {
     "data": {
      "application/vnd.jupyter.widget-view+json": {
       "model_id": "2a53443dfb964f57ae3cfb9c61c47127",
       "version_major": 2,
       "version_minor": 0
      },
      "text/plain": [
       "HBox(children=(IntProgress(value=0, description='anytime_rrt_star_10', layout=Layout(flex='2'), max=5, style=P…"
      ]
     },
     "metadata": {},
     "output_type": "display_data"
    },
    {
     "data": {
      "application/vnd.jupyter.widget-view+json": {
       "model_id": "9a141c9ed4c54abdb2da753c337e4d98",
       "version_major": 2,
       "version_minor": 0
      },
      "text/plain": [
       "HBox(children=(IntProgress(value=0, description='anytime_bfmt_30', layout=Layout(flex='2'), max=5, style=Progr…"
      ]
     },
     "metadata": {},
     "output_type": "display_data"
    },
    {
     "data": {
      "application/vnd.jupyter.widget-view+json": {
       "model_id": "81b6063b91134f2aa905ca2db527107b",
       "version_major": 2,
       "version_minor": 0
      },
      "text/plain": [
       "HBox(children=(IntProgress(value=0, description='anytime_cforest_15', layout=Layout(flex='2'), max=5, style=Pr…"
      ]
     },
     "metadata": {},
     "output_type": "display_data"
    },
    {
     "data": {
      "application/vnd.jupyter.widget-view+json": {
       "model_id": "eca8af5929f645368700ecd6ee5e7737",
       "version_major": 2,
       "version_minor": 0
      },
      "text/plain": [
       "HBox(children=(IntProgress(value=0, description='anytime_spars_45', layout=Layout(flex='2'), max=5, style=Prog…"
      ]
     },
     "metadata": {},
     "output_type": "display_data"
    },
    {
     "data": {
      "application/vnd.jupyter.widget-view+json": {
       "model_id": "a256a05e21d64dd99583a12ab0c05f07",
       "version_major": 2,
       "version_minor": 0
      },
      "text/plain": [
       "HBox(children=(IntProgress(value=0, description='anytime_bit_star_10', layout=Layout(flex='2'), max=5, style=P…"
      ]
     },
     "metadata": {},
     "output_type": "display_data"
    },
    {
     "data": {
      "application/vnd.jupyter.widget-view+json": {
       "model_id": "10a019f7b1b84b00b17a48fd15342e2f",
       "version_major": 2,
       "version_minor": 0
      },
      "text/plain": [
       "HBox(children=(IntProgress(value=0, description='anytime_prm_star_15', layout=Layout(flex='2'), max=5, style=P…"
      ]
     },
     "metadata": {},
     "output_type": "display_data"
    },
    {
     "data": {
      "application/vnd.jupyter.widget-view+json": {
       "model_id": "29d9fcc5938b4a4494b0c9f07c507bda",
       "version_major": 2,
       "version_minor": 0
      },
      "text/plain": [
       "HBox(children=(IntProgress(value=0, description='sampling_pdst', layout=Layout(flex='2'), max=5, style=Progres…"
      ]
     },
     "metadata": {},
     "output_type": "display_data"
    },
    {
     "data": {
      "application/vnd.jupyter.widget-view+json": {
       "model_id": "793c1d06ac7544e1b6199b1f3269e40c",
       "version_major": 2,
       "version_minor": 0
      },
      "text/plain": [
       "HBox(children=(IntProgress(value=0, description='anytime_rrt_sharp_10', layout=Layout(flex='2'), max=5, style=…"
      ]
     },
     "metadata": {},
     "output_type": "display_data"
    },
    {
     "data": {
      "application/vnd.jupyter.widget-view+json": {
       "model_id": "797076683d924ddc988c6e31d2b9d54e",
       "version_major": 2,
       "version_minor": 0
      },
      "text/plain": [
       "HBox(children=(IntProgress(value=0, description='anytime_cforest_45', layout=Layout(flex='2'), max=5, style=Pr…"
      ]
     },
     "metadata": {},
     "output_type": "display_data"
    },
    {
     "data": {
      "application/vnd.jupyter.widget-view+json": {
       "model_id": "48f3c495ce3c4292b10dfa9de363e2d3",
       "version_major": 2,
       "version_minor": 0
      },
      "text/plain": [
       "HBox(children=(IntProgress(value=0, description='anytime_rrt_sharp_30', layout=Layout(flex='2'), max=5, style=…"
      ]
     },
     "metadata": {},
     "output_type": "display_data"
    },
    {
     "data": {
      "application/vnd.jupyter.widget-view+json": {
       "model_id": "467667ebbd974350beb151fafcc44dbe",
       "version_major": 2,
       "version_minor": 0
      },
      "text/plain": [
       "HBox(children=(IntProgress(value=0, description='anytime_spars2_60', layout=Layout(flex='2'), max=5, style=Pro…"
      ]
     },
     "metadata": {},
     "output_type": "display_data"
    },
    {
     "data": {
      "application/vnd.jupyter.widget-view+json": {
       "model_id": "e635b8dc6e0047da9c64c3e82dd6ed86",
       "version_major": 2,
       "version_minor": 0
      },
      "text/plain": [
       "HBox(children=(IntProgress(value=0, description='anytime_rrt_sharp_60', layout=Layout(flex='2'), max=5, style=…"
      ]
     },
     "metadata": {},
     "output_type": "display_data"
    },
    {
     "data": {
      "application/vnd.jupyter.widget-view+json": {
       "model_id": "3979f06c9a944703a617d6482a4ab235",
       "version_major": 2,
       "version_minor": 0
      },
      "text/plain": [
       "HBox(children=(IntProgress(value=0, description='anytime_cforest_10', layout=Layout(flex='2'), max=5, style=Pr…"
      ]
     },
     "metadata": {},
     "output_type": "display_data"
    },
    {
     "data": {
      "application/vnd.jupyter.widget-view+json": {
       "model_id": "b634d07648b748949e0e191f50127e1e",
       "version_major": 2,
       "version_minor": 0
      },
      "text/plain": [
       "HBox(children=(IntProgress(value=0, description='anytime_sorrt_star_5', layout=Layout(flex='2'), max=5, style=…"
      ]
     },
     "metadata": {},
     "output_type": "display_data"
    },
    {
     "name": "stdout",
     "output_type": "stream",
     "text": [
      "\n"
     ]
    },
    {
     "data": {
      "application/vnd.jupyter.widget-view+json": {
       "model_id": "be7d98a3a6324e80bf1b1f591e5f8f05",
       "version_major": 2,
       "version_minor": 0
      },
      "text/plain": [
       "HBox(children=(IntProgress(value=0, description='anytime_bfmt_15', layout=Layout(flex='2'), max=5, style=Progr…"
      ]
     },
     "metadata": {},
     "output_type": "display_data"
    },
    {
     "name": "stdout",
     "output_type": "stream",
     "text": [
      "Benchmark 4 (sampling_theta_star) finished successfully.\n",
      "\n",
      "Benchmark 40 (anytime_bfmt_5) finished successfully.\n",
      "\n",
      "Benchmark 52 (anytime_bit_star_5) finished successfully.\n",
      "\n",
      "Benchmark 58 (anytime_spars_5) finished successfully.\n",
      "\n",
      "Benchmark 16 (anytime_rrt_sharp_5) finished successfully.\n",
      "\n",
      "Benchmark 10 (anytime_rrt_star_5) finished successfully.\n",
      "\n",
      "Benchmark 28 (anytime_sorrt_star_5) finished successfully.\n",
      "\n",
      "Benchmark 46 (anytime_cforest_5) finished successfully.\n",
      "\n",
      "Benchmark 22 (anytime_informed_rrt_star_5) finished successfully.\n",
      "\n",
      "Benchmark 64 (anytime_spars2_5) finished successfully.\n",
      "Killed anytime_prm_star_5 with planner prm_star after 50.01s exceeded timeout.\n"
     ]
    },
    {
     "name": "stderr",
     "output_type": "stream",
     "text": [
      "Error (-9) occurred for MPB with ID anytime_prm_star_5 using planner prm *.\n"
     ]
    },
    {
     "name": "stdout",
     "output_type": "stream",
     "text": [
      "\n"
     ]
    },
    {
     "name": "stderr",
     "output_type": "stream",
     "text": [
      "Benchmark 34 (anytime_prm_star_5) failed. Return code: -1.\n"
     ]
    },
    {
     "name": "stdout",
     "output_type": "stream",
     "text": [
      "\n",
      "Benchmark 41 (anytime_bfmt_10) finished successfully.\n",
      "\n",
      "\n",
      "Benchmark 53 (anytime_bit_star_10) finished successfully.\n",
      "Benchmark 2 (sampling_sbl) finished successfully.\n",
      "\n",
      "Benchmark 59 (anytime_spars_10) finished successfully.\n",
      "\n",
      "Benchmark 47 (anytime_cforest_10) finished successfully.\n",
      "\n",
      "Benchmark 17 (anytime_rrt_sharp_10) finished successfully.\n",
      "\n",
      "Benchmark 23 (anytime_informed_rrt_star_10) finished successfully.\n",
      "\n",
      "Benchmark 11 (anytime_rrt_star_10) finished successfully.\n",
      "\n",
      "Benchmark 29 (anytime_sorrt_star_10) finished successfully.\n",
      "\n",
      "Benchmark 6 (sampling_fmt) finished successfully.\n",
      "\n",
      "Benchmark 65 (anytime_spars2_10) finished successfully.\n",
      "\n",
      "Benchmark 35 (anytime_prm_star_10) finished successfully.\n",
      "\n",
      "Benchmark 44 (anytime_bfmt_45) finished successfully.\n",
      "\n",
      "\n",
      "Benchmark 45 (anytime_bfmt_60) finished successfully.\n",
      "Benchmark 42 (anytime_bfmt_15) finished successfully.\n",
      "\n",
      "Benchmark 7 (sampling_kpiece) finished successfully.\n",
      "\n",
      "Benchmark 54 (anytime_bit_star_15) finished successfully.\n",
      "\n",
      "Benchmark 1 (sampling_est) finished successfully.\n",
      "\n",
      "\n",
      "Benchmark 43 (anytime_bfmt_30) finished successfully.\n",
      "Benchmark 18 (anytime_rrt_sharp_15) finished successfully.\n",
      "\n",
      "Benchmark 48 (anytime_cforest_15) finished successfully.\n",
      "\n",
      "Benchmark 12 (anytime_rrt_star_15) finished successfully.\n",
      "\n",
      "Benchmark 30 (anytime_sorrt_star_15) finished successfully.\n",
      "\n",
      "Benchmark 24 (anytime_informed_rrt_star_15) finished successfully.\n",
      "\n",
      "Benchmark 66 (anytime_spars2_15) finished successfully.\n",
      "\n",
      "Benchmark 36 (anytime_prm_star_15) finished successfully.\n",
      "\n",
      "Benchmark 0 (sampling_rrt) finished successfully.\n",
      "\n",
      "Benchmark 60 (anytime_spars_15) finished successfully.\n",
      "\n",
      "Benchmark 3 (sampling_prm) finished successfully.\n",
      "\n",
      "Benchmark 8 (sampling_pdst) finished successfully.\n",
      "\n",
      "Benchmark 9 (sampling_stride) finished successfully.\n",
      "\n",
      "Benchmark 5 (sampling_sst) finished successfully.\n",
      "\n",
      "Benchmark 55 (anytime_bit_star_30) finished successfully.\n",
      "\n",
      "Benchmark 49 (anytime_cforest_30) finished successfully.\n",
      "\n",
      "Benchmark 25 (anytime_informed_rrt_star_30) finished successfully.\n",
      "\n",
      "Benchmark 19 (anytime_rrt_sharp_30) finished successfully.\n",
      "\n",
      "Benchmark 31 (anytime_sorrt_star_30) finished successfully.\n",
      "\n",
      "Benchmark 13 (anytime_rrt_star_30) finished successfully.\n",
      "\n",
      "Benchmark 37 (anytime_prm_star_30) finished successfully.\n",
      "\n",
      "Benchmark 61 (anytime_spars_30) finished successfully.\n",
      "\n",
      "Benchmark 67 (anytime_spars2_30) finished successfully.\n",
      "\n",
      "Benchmark 50 (anytime_cforest_45) finished successfully.\n",
      "\n",
      "\n",
      "Benchmark 32 (anytime_sorrt_star_45) finished successfully.\n",
      "Benchmark 14 (anytime_rrt_star_45) finished successfully.\n",
      "\n",
      "Benchmark 56 (anytime_bit_star_45) finished successfully.\n",
      "\n",
      "Benchmark 62 (anytime_spars_45) finished successfully.\n",
      "\n",
      "Benchmark 20 (anytime_rrt_sharp_45) finished successfully.\n",
      "\n",
      "Benchmark 26 (anytime_informed_rrt_star_45) finished successfully.\n",
      "\n",
      "Benchmark 38 (anytime_prm_star_45) finished successfully.\n",
      "\n",
      "Benchmark 68 (anytime_spars2_45) finished successfully.\n",
      "\n",
      "Benchmark 51 (anytime_cforest_60) finished successfully.\n",
      "\n",
      "Benchmark 57 (anytime_bit_star_60) finished successfully.\n",
      "\n",
      "Benchmark 33 (anytime_sorrt_star_60) finished successfully.\n",
      "\n",
      "Benchmark 15 (anytime_rrt_star_60) finished successfully.\n",
      "\n",
      "Benchmark 27 (anytime_informed_rrt_star_60) finished successfully.\n",
      "\n",
      "Benchmark 63 (anytime_spars_60) finished successfully.\n",
      "\n",
      "Benchmark 69 (anytime_spars2_60) finished successfully.\n",
      "\n",
      "Benchmark 21 (anytime_rrt_sharp_60) finished successfully.\n",
      "\n",
      "Benchmark 39 (anytime_prm_star_60) finished successfully.\n"
     ]
    },
    {
     "name": "stderr",
     "output_type": "stream",
     "text": [
      "Error(s) occurred, not all benchmarks succeeded.\n",
      "Benchmark 34 failed with return code -1. See log file sam_vs_any/anytime_prm_star_5.log.\n"
     ]
    },
    {
     "data": {
      "text/plain": [
       "False"
      ]
     },
     "execution_count": 10,
     "metadata": {},
     "output_type": "execute_result"
    }
   ],
   "source": [
    "pool = MultipleMPB()\n",
    "for planner in sampling_planners:\n",
    "    m = MPB()\n",
    "    m.set_corridor_grid_env(width=150, height=150, branches=100, radius=4)\n",
    "    m.set_planners([planner])\n",
    "    m.set_steer_functions(['reeds_shepp'])\n",
    "    m.set_smoothers(['grips', 'ompl_bspline', 'ompl_shortcut', 'ompl_simplify_max'])\n",
    "    m.set_id('sampling_%s' % planner)\n",
    "    pool.benchmarks.append(m)    \n",
    "\n",
    "for planner in anytime_planners:\n",
    "    for max_time in [5, 10, 15, 30, 45, 60]:\n",
    "        m = MPB()\n",
    "        m.set_corridor_grid_env(width=150, height=150, branches=100, radius=4)\n",
    "        m.set_planners([planner])\n",
    "        m.set_steer_functions(['reeds_shepp'])\n",
    "        m[\"max_planning_time\"] = max_time\n",
    "        m.set_smoothers(['grips', 'ompl_bspline', 'ompl_shortcut', 'ompl_simplify_max'])\n",
    "        m.set_id('anytime_%s_%i' % (planner, max_time))\n",
    "        pool.benchmarks.append(m)\n",
    "pool.run_parallel('sam_vs_any', runs=5)"
   ]
  },
  {
   "cell_type": "code",
   "execution_count": null,
   "metadata": {},
   "outputs": [],
   "source": [
    "pool.visualize_trajectories(run_id='1', show_smoother=True, show_legend=True)"
   ]
  },
  {
   "cell_type": "code",
   "execution_count": null,
   "metadata": {},
   "outputs": [],
   "source": [
    "pool.plot_planner_stats()"
   ]
  },
  {
   "cell_type": "code",
   "execution_count": null,
   "metadata": {},
   "outputs": [],
   "source": [
    "pool.plot_smoother_stats()"
   ]
  },
  {
   "cell_type": "code",
   "execution_count": null,
   "metadata": {},
   "outputs": [],
   "source": [
    "MPB.merge(pool.benchmarks[:4], \"sampling_based.json\")"
   ]
  },
  {
   "cell_type": "code",
   "execution_count": null,
   "metadata": {},
   "outputs": [],
   "source": [
    "from plot_stats import plot_planner_stats\n",
    "plot_planner_stats(\"sampling_based.json\")"
   ]
  },
  {
   "cell_type": "code",
   "execution_count": null,
   "metadata": {},
   "outputs": [],
   "source": [
    "from plot_stats import plot_smoother_stats\n",
    "plot_smoother_stats(\"sampling_based.json\", num_colors=5)"
   ]
  },
  {
   "cell_type": "code",
   "execution_count": null,
   "metadata": {},
   "outputs": [],
   "source": []
  }
 ],
 "metadata": {
  "kernelspec": {
   "display_name": "Python 3",
   "language": "python",
   "name": "python3"
  },
  "language_info": {
   "codemirror_mode": {
    "name": "ipython",
    "version": 3
   },
   "file_extension": ".py",
   "mimetype": "text/x-python",
   "name": "python",
   "nbconvert_exporter": "python",
   "pygments_lexer": "ipython3",
   "version": "3.6.8"
  }
 },
 "nbformat": 4,
 "nbformat_minor": 4
}
