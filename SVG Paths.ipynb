{
 "cells": [
  {
   "cell_type": "code",
   "execution_count": 2,
   "metadata": {},
   "outputs": [],
   "source": [
    "import matplotlib.pyplot as plt\n",
    "import numpy as np\n",
    "import seaborn as sns\n",
    "import json\n",
    "from matplotlib.patches import Polygon\n",
    "from matplotlib.collections import PatchCollection"
   ]
  },
  {
   "cell_type": "code",
   "execution_count": 11,
   "metadata": {},
   "outputs": [
    {
     "data": {
      "image/png": "[encoded data removed]",
      "text/plain": [
       "<Figure size 432x288 with 1 Axes>"
      ]
     },
     "metadata": {
      "needs_background": "light"
     },
     "output_type": "display_data"
    }
   ],
   "source": [
    "def is_number(s):\n",
    "    try:\n",
    "        float(s)\n",
    "        return True\n",
    "    except ValueError:\n",
    "        return False\n",
    "    \n",
    "def make_point(x_str, y_str):\n",
    "    return np.array([float(x_str), -float(y_str)])\n",
    "\n",
    "def visualize_polygon(path_str):\n",
    "    path_str = path_str.replace(',', ' ')\n",
    "    tokens = path_str.split(' ')\n",
    "    point = np.zeros(2)\n",
    "    points = []\n",
    "    for i in range(len(tokens)):\n",
    "        token = tokens[i]\n",
    "        if token == 'm' or token == 'l':\n",
    "            for j in range(i+1, len(tokens)-1, 2):\n",
    "                if not is_number(tokens[j]):\n",
    "                    break\n",
    "                point += make_point(tokens[j], tokens[j+1])\n",
    "                points.append(point.copy())\n",
    "                i += 2\n",
    "        if token == 'M' or token == 'L':\n",
    "            for j in range(i+1, len(tokens)-1, 2):\n",
    "                if not is_number(tokens[j]):\n",
    "                    break\n",
    "                point = make_point(tokens[j], tokens[j+1])\n",
    "                points.append(point.copy())\n",
    "                i += 2\n",
    "        if token == 'h' or token == 'v':\n",
    "            for j in range(i+1, len(tokens)):\n",
    "                if not is_number(tokens[j]):\n",
    "                    break\n",
    "                if token == 'h':\n",
    "                    point[0] += float(tokens[j])\n",
    "                else:\n",
    "                    point[1] -= float(tokens[j])\n",
    "                points.append(point.copy())\n",
    "                i += 1\n",
    "        if token == 'H' or token == 'V':\n",
    "            for j in range(i+1, len(tokens)):\n",
    "                if not is_number(tokens[j]):\n",
    "                    break\n",
    "                if token == 'H':\n",
    "                    point[0] = float(tokens[j])\n",
    "                else:\n",
    "                    point[1] = -float(tokens[j])\n",
    "                points.append(point.copy())\n",
    "                i += 1\n",
    "        \n",
    "    points.append(points[0].copy())\n",
    "    points = np.array(points)\n",
    "    # flip y axis for plotting\n",
    "    points[:, 1] = -points[:, -1]\n",
    "    \n",
    "    plt.plot(points[:, 0], points[:, 1], c=\"black\")\n",
    "    plt.scatter(points[:, 0], points[:, 1], c=\"black\")\n",
    "    polygon = Polygon(points, True)\n",
    "    plt.gca().add_collection(PatchCollection([polygon], alpha=0.4))\n",
    "    \n",
    "def parse_svg(filename):\n",
    "    for line in open(filename, 'r'):\n",
    "        line = line.strip()\n",
    "        if line.startswith('d=\"'):\n",
    "            visualize_polygon(line[3:-1])\n",
    "    \n",
    "plt.grid()\n",
    "plt.axis(\"equal\")\n",
    "parse_svg('./bin/parking_scenarios/car.svg')\n",
    "plt.savefig('parking1.png', dpi=300)"
   ]
  },
  {
   "cell_type": "code",
   "execution_count": null,
   "metadata": {},
   "outputs": [],
   "source": []
  }
 ],
 "metadata": {
  "kernelspec": {
   "display_name": "Python 3",
   "language": "python",
   "name": "python3"
  },
  "language_info": {
   "codemirror_mode": {
    "name": "ipython",
    "version": 3
   },
   "file_extension": ".py",
   "mimetype": "text/x-python",
   "name": "python",
   "nbconvert_exporter": "python",
   "pygments_lexer": "ipython3",
   "version": "3.6.5"
  }
 },
 "nbformat": 4,
 "nbformat_minor": 2
}
